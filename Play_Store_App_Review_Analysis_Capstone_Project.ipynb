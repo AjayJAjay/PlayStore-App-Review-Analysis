{
  "nbformat": 4,
  "nbformat_minor": 0,
  "metadata": {
    "kernelspec": {
      "display_name": "Python 3",
      "language": "python",
      "name": "python3"
    },
    "language_info": {
      "codemirror_mode": {
        "name": "ipython",
        "version": 3
      },
      "file_extension": ".py",
      "mimetype": "text/x-python",
      "name": "python",
      "nbconvert_exporter": "python",
      "pygments_lexer": "ipython3",
      "version": "3.6.6"
    },
    "colab": {
      "provenance": [],
      "include_colab_link": true
    }
  },
  "cells": [
    {
      "cell_type": "markdown",
      "metadata": {
        "id": "view-in-github",
        "colab_type": "text"
      },
      "source": [
        "<a href=\"https://colab.research.google.com/github/AjayJAjay/PlayStore-App-Review-Analysis/blob/main/Play_Store_App_Review_Analysis_Capstone_Project.ipynb\" target=\"_parent\"><img src=\"https://colab.research.google.com/assets/colab-badge.svg\" alt=\"Open In Colab\"/></a>"
      ]
    },
    {
      "cell_type": "markdown",
      "metadata": {
        "id": "Y06xIdG26kRF"
      },
      "source": [
        "## <b> The Play Store apps data has enormous potential to drive app-making businesses to success. Actionable insights can be drawn for developers to work on and capture the Android market. </b>\n",
        "\n",
        "## <b> Each app (row) has values for catergory, rating, size, and more. Another dataset contains customer reviews of the android apps.</b>\n",
        "\n",
        "## <b> Explore and analyze the data to discover key factors responsible for app engagement and success. </b>"
      ]
    },
    {
      "cell_type": "markdown",
      "source": [
        "**Exploratory Analysis** ;\n",
        "To begin this exploratory analysis, first we are going to use matplotlib to import libraries and define functions for plotting the data."
      ],
      "metadata": {
        "id": "cC36izgXoDSl"
      }
    },
    {
      "cell_type": "markdown",
      "source": [
        "1.First procedure is to Importing all the packages and Data we required."
      ],
      "metadata": {
        "id": "2uwYENnZgoKO"
      }
    },
    {
      "cell_type": "code",
      "metadata": {
        "id": "dByMsuzT8Tnw"
      },
      "source": [
        "import numpy as np \n",
        "import pandas as pd \n",
        "import seaborn as sns\n",
        "import plotly.graph_objs as go\n",
        "import matplotlib.pyplot as plt\n",
        "%matplotlib inline\n",
        "from scipy import stats"
      ],
      "execution_count": 1,
      "outputs": []
    },
    {
      "cell_type": "markdown",
      "source": [
        "2. Now we have to Mount required content from gdrive."
      ],
      "metadata": {
        "id": "yxmaEUPehGwl"
      }
    },
    {
      "cell_type": "code",
      "source": [
        "from google.colab import drive\n",
        "drive.mount('/content/gdrive')"
      ],
      "metadata": {
        "colab": {
          "base_uri": "https://localhost:8080/"
        },
        "id": "_uRv6Ux3dLXm",
        "outputId": "ba61cab8-efcb-43df-c461-833a0657d80f"
      },
      "execution_count": 2,
      "outputs": [
        {
          "output_type": "stream",
          "name": "stdout",
          "text": [
            "Mounted at /content/gdrive\n"
          ]
        }
      ]
    },
    {
      "cell_type": "markdown",
      "source": [
        "3. Create a path as **df=pd.read_csv** to attach a Play Store DATA and also for User Reviews in our Notebook."
      ],
      "metadata": {
        "id": "fwe8A50dhcLl"
      }
    },
    {
      "cell_type": "code",
      "source": [
        "df = pd.read_csv('/content/gdrive/MyDrive/EDA capston project/Play Store Data.csv', dtype='str')"
      ],
      "metadata": {
        "id": "-jd7_03mf2Fn"
      },
      "execution_count": 3,
      "outputs": []
    },
    {
      "cell_type": "code",
      "source": [
        "df1 = pd.read_csv('/content/gdrive/MyDrive/EDA capston project/User Reviews.csv', dtype='str')"
      ],
      "metadata": {
        "id": "skcdZlOXf_Z_"
      },
      "execution_count": 4,
      "outputs": []
    },
    {
      "cell_type": "markdown",
      "source": [
        "\n",
        " Now use a **.head** method to get a quick look at the first 5 rows of data. Here we can make initial thoughts on what might need to be cleaned or manipulated. "
      ],
      "metadata": {
        "id": "ZpFzQLyWi0ew"
      }
    },
    {
      "cell_type": "code",
      "source": [
        "df.head()"
      ],
      "metadata": {
        "colab": {
          "base_uri": "https://localhost:8080/",
          "height": 354
        },
        "id": "5AT2Nt5midKX",
        "outputId": "c06716fb-ffac-4634-b547-5169d3c3b8c2"
      },
      "execution_count": 5,
      "outputs": [
        {
          "output_type": "execute_result",
          "data": {
            "text/plain": [
              "                                                 App        Category Rating  \\\n",
              "0     Photo Editor & Candy Camera & Grid & ScrapBook  ART_AND_DESIGN    4.1   \n",
              "1                                Coloring book moana  ART_AND_DESIGN    3.9   \n",
              "2  U Launcher Lite – FREE Live Cool Themes, Hide ...  ART_AND_DESIGN    4.7   \n",
              "3                              Sketch - Draw & Paint  ART_AND_DESIGN    4.5   \n",
              "4              Pixel Draw - Number Art Coloring Book  ART_AND_DESIGN    4.3   \n",
              "\n",
              "  Reviews  Size     Installs  Type Price Content Rating  \\\n",
              "0     159   19M      10,000+  Free     0       Everyone   \n",
              "1     967   14M     500,000+  Free     0       Everyone   \n",
              "2   87510  8.7M   5,000,000+  Free     0       Everyone   \n",
              "3  215644   25M  50,000,000+  Free     0           Teen   \n",
              "4     967  2.8M     100,000+  Free     0       Everyone   \n",
              "\n",
              "                      Genres      Last Updated         Current Ver  \\\n",
              "0               Art & Design   January 7, 2018               1.0.0   \n",
              "1  Art & Design;Pretend Play  January 15, 2018               2.0.0   \n",
              "2               Art & Design    August 1, 2018               1.2.4   \n",
              "3               Art & Design      June 8, 2018  Varies with device   \n",
              "4    Art & Design;Creativity     June 20, 2018                 1.1   \n",
              "\n",
              "    Android Ver  \n",
              "0  4.0.3 and up  \n",
              "1  4.0.3 and up  \n",
              "2  4.0.3 and up  \n",
              "3    4.2 and up  \n",
              "4    4.4 and up  "
            ],
            "text/html": [
              "\n",
              "  <div id=\"df-5c48b990-785c-4279-9503-2c5897df9924\">\n",
              "    <div class=\"colab-df-container\">\n",
              "      <div>\n",
              "<style scoped>\n",
              "    .dataframe tbody tr th:only-of-type {\n",
              "        vertical-align: middle;\n",
              "    }\n",
              "\n",
              "    .dataframe tbody tr th {\n",
              "        vertical-align: top;\n",
              "    }\n",
              "\n",
              "    .dataframe thead th {\n",
              "        text-align: right;\n",
              "    }\n",
              "</style>\n",
              "<table border=\"1\" class=\"dataframe\">\n",
              "  <thead>\n",
              "    <tr style=\"text-align: right;\">\n",
              "      <th></th>\n",
              "      <th>App</th>\n",
              "      <th>Category</th>\n",
              "      <th>Rating</th>\n",
              "      <th>Reviews</th>\n",
              "      <th>Size</th>\n",
              "      <th>Installs</th>\n",
              "      <th>Type</th>\n",
              "      <th>Price</th>\n",
              "      <th>Content Rating</th>\n",
              "      <th>Genres</th>\n",
              "      <th>Last Updated</th>\n",
              "      <th>Current Ver</th>\n",
              "      <th>Android Ver</th>\n",
              "    </tr>\n",
              "  </thead>\n",
              "  <tbody>\n",
              "    <tr>\n",
              "      <th>0</th>\n",
              "      <td>Photo Editor &amp; Candy Camera &amp; Grid &amp; ScrapBook</td>\n",
              "      <td>ART_AND_DESIGN</td>\n",
              "      <td>4.1</td>\n",
              "      <td>159</td>\n",
              "      <td>19M</td>\n",
              "      <td>10,000+</td>\n",
              "      <td>Free</td>\n",
              "      <td>0</td>\n",
              "      <td>Everyone</td>\n",
              "      <td>Art &amp; Design</td>\n",
              "      <td>January 7, 2018</td>\n",
              "      <td>1.0.0</td>\n",
              "      <td>4.0.3 and up</td>\n",
              "    </tr>\n",
              "    <tr>\n",
              "      <th>1</th>\n",
              "      <td>Coloring book moana</td>\n",
              "      <td>ART_AND_DESIGN</td>\n",
              "      <td>3.9</td>\n",
              "      <td>967</td>\n",
              "      <td>14M</td>\n",
              "      <td>500,000+</td>\n",
              "      <td>Free</td>\n",
              "      <td>0</td>\n",
              "      <td>Everyone</td>\n",
              "      <td>Art &amp; Design;Pretend Play</td>\n",
              "      <td>January 15, 2018</td>\n",
              "      <td>2.0.0</td>\n",
              "      <td>4.0.3 and up</td>\n",
              "    </tr>\n",
              "    <tr>\n",
              "      <th>2</th>\n",
              "      <td>U Launcher Lite – FREE Live Cool Themes, Hide ...</td>\n",
              "      <td>ART_AND_DESIGN</td>\n",
              "      <td>4.7</td>\n",
              "      <td>87510</td>\n",
              "      <td>8.7M</td>\n",
              "      <td>5,000,000+</td>\n",
              "      <td>Free</td>\n",
              "      <td>0</td>\n",
              "      <td>Everyone</td>\n",
              "      <td>Art &amp; Design</td>\n",
              "      <td>August 1, 2018</td>\n",
              "      <td>1.2.4</td>\n",
              "      <td>4.0.3 and up</td>\n",
              "    </tr>\n",
              "    <tr>\n",
              "      <th>3</th>\n",
              "      <td>Sketch - Draw &amp; Paint</td>\n",
              "      <td>ART_AND_DESIGN</td>\n",
              "      <td>4.5</td>\n",
              "      <td>215644</td>\n",
              "      <td>25M</td>\n",
              "      <td>50,000,000+</td>\n",
              "      <td>Free</td>\n",
              "      <td>0</td>\n",
              "      <td>Teen</td>\n",
              "      <td>Art &amp; Design</td>\n",
              "      <td>June 8, 2018</td>\n",
              "      <td>Varies with device</td>\n",
              "      <td>4.2 and up</td>\n",
              "    </tr>\n",
              "    <tr>\n",
              "      <th>4</th>\n",
              "      <td>Pixel Draw - Number Art Coloring Book</td>\n",
              "      <td>ART_AND_DESIGN</td>\n",
              "      <td>4.3</td>\n",
              "      <td>967</td>\n",
              "      <td>2.8M</td>\n",
              "      <td>100,000+</td>\n",
              "      <td>Free</td>\n",
              "      <td>0</td>\n",
              "      <td>Everyone</td>\n",
              "      <td>Art &amp; Design;Creativity</td>\n",
              "      <td>June 20, 2018</td>\n",
              "      <td>1.1</td>\n",
              "      <td>4.4 and up</td>\n",
              "    </tr>\n",
              "  </tbody>\n",
              "</table>\n",
              "</div>\n",
              "      <button class=\"colab-df-convert\" onclick=\"convertToInteractive('df-5c48b990-785c-4279-9503-2c5897df9924')\"\n",
              "              title=\"Convert this dataframe to an interactive table.\"\n",
              "              style=\"display:none;\">\n",
              "        \n",
              "  <svg xmlns=\"http://www.w3.org/2000/svg\" height=\"24px\"viewBox=\"0 0 24 24\"\n",
              "       width=\"24px\">\n",
              "    <path d=\"M0 0h24v24H0V0z\" fill=\"none\"/>\n",
              "    <path d=\"M18.56 5.44l.94 2.06.94-2.06 2.06-.94-2.06-.94-.94-2.06-.94 2.06-2.06.94zm-11 1L8.5 8.5l.94-2.06 2.06-.94-2.06-.94L8.5 2.5l-.94 2.06-2.06.94zm10 10l.94 2.06.94-2.06 2.06-.94-2.06-.94-.94-2.06-.94 2.06-2.06.94z\"/><path d=\"M17.41 7.96l-1.37-1.37c-.4-.4-.92-.59-1.43-.59-.52 0-1.04.2-1.43.59L10.3 9.45l-7.72 7.72c-.78.78-.78 2.05 0 2.83L4 21.41c.39.39.9.59 1.41.59.51 0 1.02-.2 1.41-.59l7.78-7.78 2.81-2.81c.8-.78.8-2.07 0-2.86zM5.41 20L4 18.59l7.72-7.72 1.47 1.35L5.41 20z\"/>\n",
              "  </svg>\n",
              "      </button>\n",
              "      \n",
              "  <style>\n",
              "    .colab-df-container {\n",
              "      display:flex;\n",
              "      flex-wrap:wrap;\n",
              "      gap: 12px;\n",
              "    }\n",
              "\n",
              "    .colab-df-convert {\n",
              "      background-color: #E8F0FE;\n",
              "      border: none;\n",
              "      border-radius: 50%;\n",
              "      cursor: pointer;\n",
              "      display: none;\n",
              "      fill: #1967D2;\n",
              "      height: 32px;\n",
              "      padding: 0 0 0 0;\n",
              "      width: 32px;\n",
              "    }\n",
              "\n",
              "    .colab-df-convert:hover {\n",
              "      background-color: #E2EBFA;\n",
              "      box-shadow: 0px 1px 2px rgba(60, 64, 67, 0.3), 0px 1px 3px 1px rgba(60, 64, 67, 0.15);\n",
              "      fill: #174EA6;\n",
              "    }\n",
              "\n",
              "    [theme=dark] .colab-df-convert {\n",
              "      background-color: #3B4455;\n",
              "      fill: #D2E3FC;\n",
              "    }\n",
              "\n",
              "    [theme=dark] .colab-df-convert:hover {\n",
              "      background-color: #434B5C;\n",
              "      box-shadow: 0px 1px 3px 1px rgba(0, 0, 0, 0.15);\n",
              "      filter: drop-shadow(0px 1px 2px rgba(0, 0, 0, 0.3));\n",
              "      fill: #FFFFFF;\n",
              "    }\n",
              "  </style>\n",
              "\n",
              "      <script>\n",
              "        const buttonEl =\n",
              "          document.querySelector('#df-5c48b990-785c-4279-9503-2c5897df9924 button.colab-df-convert');\n",
              "        buttonEl.style.display =\n",
              "          google.colab.kernel.accessAllowed ? 'block' : 'none';\n",
              "\n",
              "        async function convertToInteractive(key) {\n",
              "          const element = document.querySelector('#df-5c48b990-785c-4279-9503-2c5897df9924');\n",
              "          const dataTable =\n",
              "            await google.colab.kernel.invokeFunction('convertToInteractive',\n",
              "                                                     [key], {});\n",
              "          if (!dataTable) return;\n",
              "\n",
              "          const docLinkHtml = 'Like what you see? Visit the ' +\n",
              "            '<a target=\"_blank\" href=https://colab.research.google.com/notebooks/data_table.ipynb>data table notebook</a>'\n",
              "            + ' to learn more about interactive tables.';\n",
              "          element.innerHTML = '';\n",
              "          dataTable['output_type'] = 'display_data';\n",
              "          await google.colab.output.renderOutput(dataTable, element);\n",
              "          const docLink = document.createElement('div');\n",
              "          docLink.innerHTML = docLinkHtml;\n",
              "          element.appendChild(docLink);\n",
              "        }\n",
              "      </script>\n",
              "    </div>\n",
              "  </div>\n",
              "  "
            ]
          },
          "metadata": {},
          "execution_count": 5
        }
      ]
    },
    {
      "cell_type": "markdown",
      "source": [
        "Now use **.info** to get overall information of PlayStore Data."
      ],
      "metadata": {
        "id": "KCEIILuCpm1H"
      }
    },
    {
      "cell_type": "code",
      "source": [
        "df.info()"
      ],
      "metadata": {
        "colab": {
          "base_uri": "https://localhost:8080/"
        },
        "id": "If4OAxs2n56h",
        "outputId": "59dde4ae-cd17-434d-9fda-2f0753fc7c34"
      },
      "execution_count": 6,
      "outputs": [
        {
          "output_type": "stream",
          "name": "stdout",
          "text": [
            "<class 'pandas.core.frame.DataFrame'>\n",
            "RangeIndex: 10841 entries, 0 to 10840\n",
            "Data columns (total 13 columns):\n",
            " #   Column          Non-Null Count  Dtype \n",
            "---  ------          --------------  ----- \n",
            " 0   App             10841 non-null  object\n",
            " 1   Category        10841 non-null  object\n",
            " 2   Rating          9367 non-null   object\n",
            " 3   Reviews         10841 non-null  object\n",
            " 4   Size            10841 non-null  object\n",
            " 5   Installs        10841 non-null  object\n",
            " 6   Type            10840 non-null  object\n",
            " 7   Price           10841 non-null  object\n",
            " 8   Content Rating  10840 non-null  object\n",
            " 9   Genres          10841 non-null  object\n",
            " 10  Last Updated    10841 non-null  object\n",
            " 11  Current Ver     10833 non-null  object\n",
            " 12  Android Ver     10838 non-null  object\n",
            "dtypes: object(13)\n",
            "memory usage: 1.1+ MB\n"
          ]
        }
      ]
    },
    {
      "cell_type": "markdown",
      "source": [
        "Now use **.shape** to get overall *rows and columns* details."
      ],
      "metadata": {
        "id": "2bLHT0kRqUtJ"
      }
    },
    {
      "cell_type": "code",
      "source": [
        "df.shape"
      ],
      "metadata": {
        "colab": {
          "base_uri": "https://localhost:8080/"
        },
        "id": "dwWTn2AlqTLo",
        "outputId": "2245c2de-45a3-48d6-9032-f9665f3a177c"
      },
      "execution_count": 7,
      "outputs": [
        {
          "output_type": "execute_result",
          "data": {
            "text/plain": [
              "(10841, 13)"
            ]
          },
          "metadata": {},
          "execution_count": 7
        }
      ]
    },
    {
      "cell_type": "markdown",
      "source": [
        "Now we have to use **DATA CLEANING PHASE** , by cleaning our data , we can recognise and analyse our data easily."
      ],
      "metadata": {
        "id": "fqjN_dntrKid"
      }
    },
    {
      "cell_type": "code",
      "source": [
        "# clean columns names and values\n",
        "\n",
        "def clean_columns(df):\n",
        "    df.columns = df.columns.str.strip().str.lower().str.replace(' ', '_')\n",
        "    \n",
        "clean_columns(df)\n",
        "\n",
        "def clean_vals(df):\n",
        "    for col in df.columns:\n",
        "        df[col] = df[col].str.strip().str.upper().str.replace('\\t|\\n', '', regex=True)\n",
        "     \n",
        "clean_vals(df)"
      ],
      "metadata": {
        "id": "yY-_eKAEqttN"
      },
      "execution_count": 9,
      "outputs": []
    },
    {
      "cell_type": "code",
      "source": [
        "# now check the Data\n",
        "df.head()"
      ],
      "metadata": {
        "colab": {
          "base_uri": "https://localhost:8080/",
          "height": 424
        },
        "id": "fw3BuE8isSdS",
        "outputId": "71a749aa-d1dc-42dc-a096-951a08fc45e0"
      },
      "execution_count": 10,
      "outputs": [
        {
          "output_type": "execute_result",
          "data": {
            "text/plain": [
              "                                                 app        category rating  \\\n",
              "0     PHOTO EDITOR & CANDY CAMERA & GRID & SCRAPBOOK  ART_AND_DESIGN    4.1   \n",
              "1                                COLORING BOOK MOANA  ART_AND_DESIGN    3.9   \n",
              "2  U LAUNCHER LITE – FREE LIVE COOL THEMES, HIDE ...  ART_AND_DESIGN    4.7   \n",
              "3                              SKETCH - DRAW & PAINT  ART_AND_DESIGN    4.5   \n",
              "4              PIXEL DRAW - NUMBER ART COLORING BOOK  ART_AND_DESIGN    4.3   \n",
              "\n",
              "  reviews  size     installs  type price content_rating  \\\n",
              "0     159   19M      10,000+  FREE     0       EVERYONE   \n",
              "1     967   14M     500,000+  FREE     0       EVERYONE   \n",
              "2   87510  8.7M   5,000,000+  FREE     0       EVERYONE   \n",
              "3  215644   25M  50,000,000+  FREE     0           TEEN   \n",
              "4     967  2.8M     100,000+  FREE     0       EVERYONE   \n",
              "\n",
              "                      genres      last_updated         current_ver  \\\n",
              "0               ART & DESIGN   JANUARY 7, 2018               1.0.0   \n",
              "1  ART & DESIGN;PRETEND PLAY  JANUARY 15, 2018               2.0.0   \n",
              "2               ART & DESIGN    AUGUST 1, 2018               1.2.4   \n",
              "3               ART & DESIGN      JUNE 8, 2018  VARIES WITH DEVICE   \n",
              "4    ART & DESIGN;CREATIVITY     JUNE 20, 2018                 1.1   \n",
              "\n",
              "    android_ver  \n",
              "0  4.0.3 AND UP  \n",
              "1  4.0.3 AND UP  \n",
              "2  4.0.3 AND UP  \n",
              "3    4.2 AND UP  \n",
              "4    4.4 AND UP  "
            ],
            "text/html": [
              "\n",
              "  <div id=\"df-cf85807d-1922-40ab-94b9-300713b77349\">\n",
              "    <div class=\"colab-df-container\">\n",
              "      <div>\n",
              "<style scoped>\n",
              "    .dataframe tbody tr th:only-of-type {\n",
              "        vertical-align: middle;\n",
              "    }\n",
              "\n",
              "    .dataframe tbody tr th {\n",
              "        vertical-align: top;\n",
              "    }\n",
              "\n",
              "    .dataframe thead th {\n",
              "        text-align: right;\n",
              "    }\n",
              "</style>\n",
              "<table border=\"1\" class=\"dataframe\">\n",
              "  <thead>\n",
              "    <tr style=\"text-align: right;\">\n",
              "      <th></th>\n",
              "      <th>app</th>\n",
              "      <th>category</th>\n",
              "      <th>rating</th>\n",
              "      <th>reviews</th>\n",
              "      <th>size</th>\n",
              "      <th>installs</th>\n",
              "      <th>type</th>\n",
              "      <th>price</th>\n",
              "      <th>content_rating</th>\n",
              "      <th>genres</th>\n",
              "      <th>last_updated</th>\n",
              "      <th>current_ver</th>\n",
              "      <th>android_ver</th>\n",
              "    </tr>\n",
              "  </thead>\n",
              "  <tbody>\n",
              "    <tr>\n",
              "      <th>0</th>\n",
              "      <td>PHOTO EDITOR &amp; CANDY CAMERA &amp; GRID &amp; SCRAPBOOK</td>\n",
              "      <td>ART_AND_DESIGN</td>\n",
              "      <td>4.1</td>\n",
              "      <td>159</td>\n",
              "      <td>19M</td>\n",
              "      <td>10,000+</td>\n",
              "      <td>FREE</td>\n",
              "      <td>0</td>\n",
              "      <td>EVERYONE</td>\n",
              "      <td>ART &amp; DESIGN</td>\n",
              "      <td>JANUARY 7, 2018</td>\n",
              "      <td>1.0.0</td>\n",
              "      <td>4.0.3 AND UP</td>\n",
              "    </tr>\n",
              "    <tr>\n",
              "      <th>1</th>\n",
              "      <td>COLORING BOOK MOANA</td>\n",
              "      <td>ART_AND_DESIGN</td>\n",
              "      <td>3.9</td>\n",
              "      <td>967</td>\n",
              "      <td>14M</td>\n",
              "      <td>500,000+</td>\n",
              "      <td>FREE</td>\n",
              "      <td>0</td>\n",
              "      <td>EVERYONE</td>\n",
              "      <td>ART &amp; DESIGN;PRETEND PLAY</td>\n",
              "      <td>JANUARY 15, 2018</td>\n",
              "      <td>2.0.0</td>\n",
              "      <td>4.0.3 AND UP</td>\n",
              "    </tr>\n",
              "    <tr>\n",
              "      <th>2</th>\n",
              "      <td>U LAUNCHER LITE – FREE LIVE COOL THEMES, HIDE ...</td>\n",
              "      <td>ART_AND_DESIGN</td>\n",
              "      <td>4.7</td>\n",
              "      <td>87510</td>\n",
              "      <td>8.7M</td>\n",
              "      <td>5,000,000+</td>\n",
              "      <td>FREE</td>\n",
              "      <td>0</td>\n",
              "      <td>EVERYONE</td>\n",
              "      <td>ART &amp; DESIGN</td>\n",
              "      <td>AUGUST 1, 2018</td>\n",
              "      <td>1.2.4</td>\n",
              "      <td>4.0.3 AND UP</td>\n",
              "    </tr>\n",
              "    <tr>\n",
              "      <th>3</th>\n",
              "      <td>SKETCH - DRAW &amp; PAINT</td>\n",
              "      <td>ART_AND_DESIGN</td>\n",
              "      <td>4.5</td>\n",
              "      <td>215644</td>\n",
              "      <td>25M</td>\n",
              "      <td>50,000,000+</td>\n",
              "      <td>FREE</td>\n",
              "      <td>0</td>\n",
              "      <td>TEEN</td>\n",
              "      <td>ART &amp; DESIGN</td>\n",
              "      <td>JUNE 8, 2018</td>\n",
              "      <td>VARIES WITH DEVICE</td>\n",
              "      <td>4.2 AND UP</td>\n",
              "    </tr>\n",
              "    <tr>\n",
              "      <th>4</th>\n",
              "      <td>PIXEL DRAW - NUMBER ART COLORING BOOK</td>\n",
              "      <td>ART_AND_DESIGN</td>\n",
              "      <td>4.3</td>\n",
              "      <td>967</td>\n",
              "      <td>2.8M</td>\n",
              "      <td>100,000+</td>\n",
              "      <td>FREE</td>\n",
              "      <td>0</td>\n",
              "      <td>EVERYONE</td>\n",
              "      <td>ART &amp; DESIGN;CREATIVITY</td>\n",
              "      <td>JUNE 20, 2018</td>\n",
              "      <td>1.1</td>\n",
              "      <td>4.4 AND UP</td>\n",
              "    </tr>\n",
              "  </tbody>\n",
              "</table>\n",
              "</div>\n",
              "      <button class=\"colab-df-convert\" onclick=\"convertToInteractive('df-cf85807d-1922-40ab-94b9-300713b77349')\"\n",
              "              title=\"Convert this dataframe to an interactive table.\"\n",
              "              style=\"display:none;\">\n",
              "        \n",
              "  <svg xmlns=\"http://www.w3.org/2000/svg\" height=\"24px\"viewBox=\"0 0 24 24\"\n",
              "       width=\"24px\">\n",
              "    <path d=\"M0 0h24v24H0V0z\" fill=\"none\"/>\n",
              "    <path d=\"M18.56 5.44l.94 2.06.94-2.06 2.06-.94-2.06-.94-.94-2.06-.94 2.06-2.06.94zm-11 1L8.5 8.5l.94-2.06 2.06-.94-2.06-.94L8.5 2.5l-.94 2.06-2.06.94zm10 10l.94 2.06.94-2.06 2.06-.94-2.06-.94-.94-2.06-.94 2.06-2.06.94z\"/><path d=\"M17.41 7.96l-1.37-1.37c-.4-.4-.92-.59-1.43-.59-.52 0-1.04.2-1.43.59L10.3 9.45l-7.72 7.72c-.78.78-.78 2.05 0 2.83L4 21.41c.39.39.9.59 1.41.59.51 0 1.02-.2 1.41-.59l7.78-7.78 2.81-2.81c.8-.78.8-2.07 0-2.86zM5.41 20L4 18.59l7.72-7.72 1.47 1.35L5.41 20z\"/>\n",
              "  </svg>\n",
              "      </button>\n",
              "      \n",
              "  <style>\n",
              "    .colab-df-container {\n",
              "      display:flex;\n",
              "      flex-wrap:wrap;\n",
              "      gap: 12px;\n",
              "    }\n",
              "\n",
              "    .colab-df-convert {\n",
              "      background-color: #E8F0FE;\n",
              "      border: none;\n",
              "      border-radius: 50%;\n",
              "      cursor: pointer;\n",
              "      display: none;\n",
              "      fill: #1967D2;\n",
              "      height: 32px;\n",
              "      padding: 0 0 0 0;\n",
              "      width: 32px;\n",
              "    }\n",
              "\n",
              "    .colab-df-convert:hover {\n",
              "      background-color: #E2EBFA;\n",
              "      box-shadow: 0px 1px 2px rgba(60, 64, 67, 0.3), 0px 1px 3px 1px rgba(60, 64, 67, 0.15);\n",
              "      fill: #174EA6;\n",
              "    }\n",
              "\n",
              "    [theme=dark] .colab-df-convert {\n",
              "      background-color: #3B4455;\n",
              "      fill: #D2E3FC;\n",
              "    }\n",
              "\n",
              "    [theme=dark] .colab-df-convert:hover {\n",
              "      background-color: #434B5C;\n",
              "      box-shadow: 0px 1px 3px 1px rgba(0, 0, 0, 0.15);\n",
              "      filter: drop-shadow(0px 1px 2px rgba(0, 0, 0, 0.3));\n",
              "      fill: #FFFFFF;\n",
              "    }\n",
              "  </style>\n",
              "\n",
              "      <script>\n",
              "        const buttonEl =\n",
              "          document.querySelector('#df-cf85807d-1922-40ab-94b9-300713b77349 button.colab-df-convert');\n",
              "        buttonEl.style.display =\n",
              "          google.colab.kernel.accessAllowed ? 'block' : 'none';\n",
              "\n",
              "        async function convertToInteractive(key) {\n",
              "          const element = document.querySelector('#df-cf85807d-1922-40ab-94b9-300713b77349');\n",
              "          const dataTable =\n",
              "            await google.colab.kernel.invokeFunction('convertToInteractive',\n",
              "                                                     [key], {});\n",
              "          if (!dataTable) return;\n",
              "\n",
              "          const docLinkHtml = 'Like what you see? Visit the ' +\n",
              "            '<a target=\"_blank\" href=https://colab.research.google.com/notebooks/data_table.ipynb>data table notebook</a>'\n",
              "            + ' to learn more about interactive tables.';\n",
              "          element.innerHTML = '';\n",
              "          dataTable['output_type'] = 'display_data';\n",
              "          await google.colab.output.renderOutput(dataTable, element);\n",
              "          const docLink = document.createElement('div');\n",
              "          docLink.innerHTML = docLinkHtml;\n",
              "          element.appendChild(docLink);\n",
              "        }\n",
              "      </script>\n",
              "    </div>\n",
              "  </div>\n",
              "  "
            ]
          },
          "metadata": {},
          "execution_count": 10
        }
      ]
    },
    {
      "cell_type": "markdown",
      "source": [
        "**Size**\n",
        "\n",
        "Now we need to see what letters there are in the size column so that we can normalize the data.\n",
        "\n",
        "As we know that 1 MB is equal to 1024 KB."
      ],
      "metadata": {
        "id": "aDnG5BpIs6V_"
      }
    },
    {
      "cell_type": "code",
      "source": [
        "print(df['size'].str.replace('\\d+', '').unique())"
      ],
      "metadata": {
        "colab": {
          "base_uri": "https://localhost:8080/"
        },
        "id": "uMuE936Bsd2Z",
        "outputId": "8a0f92fd-d312-4bee-a845-8fd16f2dd42d"
      },
      "execution_count": 11,
      "outputs": [
        {
          "output_type": "stream",
          "name": "stdout",
          "text": [
            "['M' '.M' 'VARIES WITH DEVICE' 'K' '.K' ',+']\n"
          ]
        },
        {
          "output_type": "stream",
          "name": "stderr",
          "text": [
            "/usr/local/lib/python3.7/dist-packages/ipykernel_launcher.py:1: FutureWarning: The default value of regex will change from True to False in a future version.\n",
            "  \"\"\"Entry point for launching an IPython kernel.\n"
          ]
        }
      ]
    },
    {
      "cell_type": "markdown",
      "source": [
        "From above code , we can see that we have our size data in the form of megabytes, kilobytes."
      ],
      "metadata": {
        "id": "w5HMPJwPYzsH"
      }
    },
    {
      "cell_type": "code",
      "source": [
        "df.loc[df['size'].str.contains('M'),].head()"
      ],
      "metadata": {
        "id": "kA5kjAYStQkI",
        "colab": {
          "base_uri": "https://localhost:8080/",
          "height": 424
        },
        "outputId": "350713ad-efbc-4856-f746-d853d5ef83ae"
      },
      "execution_count": 12,
      "outputs": [
        {
          "output_type": "execute_result",
          "data": {
            "text/plain": [
              "                                                 app        category rating  \\\n",
              "0     PHOTO EDITOR & CANDY CAMERA & GRID & SCRAPBOOK  ART_AND_DESIGN    4.1   \n",
              "1                                COLORING BOOK MOANA  ART_AND_DESIGN    3.9   \n",
              "2  U LAUNCHER LITE – FREE LIVE COOL THEMES, HIDE ...  ART_AND_DESIGN    4.7   \n",
              "3                              SKETCH - DRAW & PAINT  ART_AND_DESIGN    4.5   \n",
              "4              PIXEL DRAW - NUMBER ART COLORING BOOK  ART_AND_DESIGN    4.3   \n",
              "\n",
              "  reviews  size     installs  type price content_rating  \\\n",
              "0     159   19M      10,000+  FREE     0       EVERYONE   \n",
              "1     967   14M     500,000+  FREE     0       EVERYONE   \n",
              "2   87510  8.7M   5,000,000+  FREE     0       EVERYONE   \n",
              "3  215644   25M  50,000,000+  FREE     0           TEEN   \n",
              "4     967  2.8M     100,000+  FREE     0       EVERYONE   \n",
              "\n",
              "                      genres      last_updated         current_ver  \\\n",
              "0               ART & DESIGN   JANUARY 7, 2018               1.0.0   \n",
              "1  ART & DESIGN;PRETEND PLAY  JANUARY 15, 2018               2.0.0   \n",
              "2               ART & DESIGN    AUGUST 1, 2018               1.2.4   \n",
              "3               ART & DESIGN      JUNE 8, 2018  VARIES WITH DEVICE   \n",
              "4    ART & DESIGN;CREATIVITY     JUNE 20, 2018                 1.1   \n",
              "\n",
              "    android_ver  \n",
              "0  4.0.3 AND UP  \n",
              "1  4.0.3 AND UP  \n",
              "2  4.0.3 AND UP  \n",
              "3    4.2 AND UP  \n",
              "4    4.4 AND UP  "
            ],
            "text/html": [
              "\n",
              "  <div id=\"df-41eb3d79-3839-4f48-ac5b-29a8860395be\">\n",
              "    <div class=\"colab-df-container\">\n",
              "      <div>\n",
              "<style scoped>\n",
              "    .dataframe tbody tr th:only-of-type {\n",
              "        vertical-align: middle;\n",
              "    }\n",
              "\n",
              "    .dataframe tbody tr th {\n",
              "        vertical-align: top;\n",
              "    }\n",
              "\n",
              "    .dataframe thead th {\n",
              "        text-align: right;\n",
              "    }\n",
              "</style>\n",
              "<table border=\"1\" class=\"dataframe\">\n",
              "  <thead>\n",
              "    <tr style=\"text-align: right;\">\n",
              "      <th></th>\n",
              "      <th>app</th>\n",
              "      <th>category</th>\n",
              "      <th>rating</th>\n",
              "      <th>reviews</th>\n",
              "      <th>size</th>\n",
              "      <th>installs</th>\n",
              "      <th>type</th>\n",
              "      <th>price</th>\n",
              "      <th>content_rating</th>\n",
              "      <th>genres</th>\n",
              "      <th>last_updated</th>\n",
              "      <th>current_ver</th>\n",
              "      <th>android_ver</th>\n",
              "    </tr>\n",
              "  </thead>\n",
              "  <tbody>\n",
              "    <tr>\n",
              "      <th>0</th>\n",
              "      <td>PHOTO EDITOR &amp; CANDY CAMERA &amp; GRID &amp; SCRAPBOOK</td>\n",
              "      <td>ART_AND_DESIGN</td>\n",
              "      <td>4.1</td>\n",
              "      <td>159</td>\n",
              "      <td>19M</td>\n",
              "      <td>10,000+</td>\n",
              "      <td>FREE</td>\n",
              "      <td>0</td>\n",
              "      <td>EVERYONE</td>\n",
              "      <td>ART &amp; DESIGN</td>\n",
              "      <td>JANUARY 7, 2018</td>\n",
              "      <td>1.0.0</td>\n",
              "      <td>4.0.3 AND UP</td>\n",
              "    </tr>\n",
              "    <tr>\n",
              "      <th>1</th>\n",
              "      <td>COLORING BOOK MOANA</td>\n",
              "      <td>ART_AND_DESIGN</td>\n",
              "      <td>3.9</td>\n",
              "      <td>967</td>\n",
              "      <td>14M</td>\n",
              "      <td>500,000+</td>\n",
              "      <td>FREE</td>\n",
              "      <td>0</td>\n",
              "      <td>EVERYONE</td>\n",
              "      <td>ART &amp; DESIGN;PRETEND PLAY</td>\n",
              "      <td>JANUARY 15, 2018</td>\n",
              "      <td>2.0.0</td>\n",
              "      <td>4.0.3 AND UP</td>\n",
              "    </tr>\n",
              "    <tr>\n",
              "      <th>2</th>\n",
              "      <td>U LAUNCHER LITE – FREE LIVE COOL THEMES, HIDE ...</td>\n",
              "      <td>ART_AND_DESIGN</td>\n",
              "      <td>4.7</td>\n",
              "      <td>87510</td>\n",
              "      <td>8.7M</td>\n",
              "      <td>5,000,000+</td>\n",
              "      <td>FREE</td>\n",
              "      <td>0</td>\n",
              "      <td>EVERYONE</td>\n",
              "      <td>ART &amp; DESIGN</td>\n",
              "      <td>AUGUST 1, 2018</td>\n",
              "      <td>1.2.4</td>\n",
              "      <td>4.0.3 AND UP</td>\n",
              "    </tr>\n",
              "    <tr>\n",
              "      <th>3</th>\n",
              "      <td>SKETCH - DRAW &amp; PAINT</td>\n",
              "      <td>ART_AND_DESIGN</td>\n",
              "      <td>4.5</td>\n",
              "      <td>215644</td>\n",
              "      <td>25M</td>\n",
              "      <td>50,000,000+</td>\n",
              "      <td>FREE</td>\n",
              "      <td>0</td>\n",
              "      <td>TEEN</td>\n",
              "      <td>ART &amp; DESIGN</td>\n",
              "      <td>JUNE 8, 2018</td>\n",
              "      <td>VARIES WITH DEVICE</td>\n",
              "      <td>4.2 AND UP</td>\n",
              "    </tr>\n",
              "    <tr>\n",
              "      <th>4</th>\n",
              "      <td>PIXEL DRAW - NUMBER ART COLORING BOOK</td>\n",
              "      <td>ART_AND_DESIGN</td>\n",
              "      <td>4.3</td>\n",
              "      <td>967</td>\n",
              "      <td>2.8M</td>\n",
              "      <td>100,000+</td>\n",
              "      <td>FREE</td>\n",
              "      <td>0</td>\n",
              "      <td>EVERYONE</td>\n",
              "      <td>ART &amp; DESIGN;CREATIVITY</td>\n",
              "      <td>JUNE 20, 2018</td>\n",
              "      <td>1.1</td>\n",
              "      <td>4.4 AND UP</td>\n",
              "    </tr>\n",
              "  </tbody>\n",
              "</table>\n",
              "</div>\n",
              "      <button class=\"colab-df-convert\" onclick=\"convertToInteractive('df-41eb3d79-3839-4f48-ac5b-29a8860395be')\"\n",
              "              title=\"Convert this dataframe to an interactive table.\"\n",
              "              style=\"display:none;\">\n",
              "        \n",
              "  <svg xmlns=\"http://www.w3.org/2000/svg\" height=\"24px\"viewBox=\"0 0 24 24\"\n",
              "       width=\"24px\">\n",
              "    <path d=\"M0 0h24v24H0V0z\" fill=\"none\"/>\n",
              "    <path d=\"M18.56 5.44l.94 2.06.94-2.06 2.06-.94-2.06-.94-.94-2.06-.94 2.06-2.06.94zm-11 1L8.5 8.5l.94-2.06 2.06-.94-2.06-.94L8.5 2.5l-.94 2.06-2.06.94zm10 10l.94 2.06.94-2.06 2.06-.94-2.06-.94-.94-2.06-.94 2.06-2.06.94z\"/><path d=\"M17.41 7.96l-1.37-1.37c-.4-.4-.92-.59-1.43-.59-.52 0-1.04.2-1.43.59L10.3 9.45l-7.72 7.72c-.78.78-.78 2.05 0 2.83L4 21.41c.39.39.9.59 1.41.59.51 0 1.02-.2 1.41-.59l7.78-7.78 2.81-2.81c.8-.78.8-2.07 0-2.86zM5.41 20L4 18.59l7.72-7.72 1.47 1.35L5.41 20z\"/>\n",
              "  </svg>\n",
              "      </button>\n",
              "      \n",
              "  <style>\n",
              "    .colab-df-container {\n",
              "      display:flex;\n",
              "      flex-wrap:wrap;\n",
              "      gap: 12px;\n",
              "    }\n",
              "\n",
              "    .colab-df-convert {\n",
              "      background-color: #E8F0FE;\n",
              "      border: none;\n",
              "      border-radius: 50%;\n",
              "      cursor: pointer;\n",
              "      display: none;\n",
              "      fill: #1967D2;\n",
              "      height: 32px;\n",
              "      padding: 0 0 0 0;\n",
              "      width: 32px;\n",
              "    }\n",
              "\n",
              "    .colab-df-convert:hover {\n",
              "      background-color: #E2EBFA;\n",
              "      box-shadow: 0px 1px 2px rgba(60, 64, 67, 0.3), 0px 1px 3px 1px rgba(60, 64, 67, 0.15);\n",
              "      fill: #174EA6;\n",
              "    }\n",
              "\n",
              "    [theme=dark] .colab-df-convert {\n",
              "      background-color: #3B4455;\n",
              "      fill: #D2E3FC;\n",
              "    }\n",
              "\n",
              "    [theme=dark] .colab-df-convert:hover {\n",
              "      background-color: #434B5C;\n",
              "      box-shadow: 0px 1px 3px 1px rgba(0, 0, 0, 0.15);\n",
              "      filter: drop-shadow(0px 1px 2px rgba(0, 0, 0, 0.3));\n",
              "      fill: #FFFFFF;\n",
              "    }\n",
              "  </style>\n",
              "\n",
              "      <script>\n",
              "        const buttonEl =\n",
              "          document.querySelector('#df-41eb3d79-3839-4f48-ac5b-29a8860395be button.colab-df-convert');\n",
              "        buttonEl.style.display =\n",
              "          google.colab.kernel.accessAllowed ? 'block' : 'none';\n",
              "\n",
              "        async function convertToInteractive(key) {\n",
              "          const element = document.querySelector('#df-41eb3d79-3839-4f48-ac5b-29a8860395be');\n",
              "          const dataTable =\n",
              "            await google.colab.kernel.invokeFunction('convertToInteractive',\n",
              "                                                     [key], {});\n",
              "          if (!dataTable) return;\n",
              "\n",
              "          const docLinkHtml = 'Like what you see? Visit the ' +\n",
              "            '<a target=\"_blank\" href=https://colab.research.google.com/notebooks/data_table.ipynb>data table notebook</a>'\n",
              "            + ' to learn more about interactive tables.';\n",
              "          element.innerHTML = '';\n",
              "          dataTable['output_type'] = 'display_data';\n",
              "          await google.colab.output.renderOutput(dataTable, element);\n",
              "          const docLink = document.createElement('div');\n",
              "          docLink.innerHTML = docLinkHtml;\n",
              "          element.appendChild(docLink);\n",
              "        }\n",
              "      </script>\n",
              "    </div>\n",
              "  </div>\n",
              "  "
            ]
          },
          "metadata": {},
          "execution_count": 12
        }
      ]
    },
    {
      "cell_type": "code",
      "source": [
        "# Now we will converting mb data into kb data\n",
        "\n",
        "def convert_mb_kb(df):\n",
        "    df.loc[df['size'].str.contains('M'),'size'] = df.loc[df['size'].str.contains('M'),'size'].str.rstrip('M').astype(float) * 1024\n",
        "\n",
        "convert_mb_kb(df)"
      ],
      "metadata": {
        "id": "k-2xxlXeZYXZ"
      },
      "execution_count": 13,
      "outputs": []
    },
    {
      "cell_type": "code",
      "source": [
        "df.head()"
      ],
      "metadata": {
        "colab": {
          "base_uri": "https://localhost:8080/",
          "height": 458
        },
        "id": "V6j1UYILZhHQ",
        "outputId": "5ee14e42-f8c5-4c3d-d3fa-b1624ca3a543"
      },
      "execution_count": 14,
      "outputs": [
        {
          "output_type": "execute_result",
          "data": {
            "text/plain": [
              "                                                 app        category rating  \\\n",
              "0     PHOTO EDITOR & CANDY CAMERA & GRID & SCRAPBOOK  ART_AND_DESIGN    4.1   \n",
              "1                                COLORING BOOK MOANA  ART_AND_DESIGN    3.9   \n",
              "2  U LAUNCHER LITE – FREE LIVE COOL THEMES, HIDE ...  ART_AND_DESIGN    4.7   \n",
              "3                              SKETCH - DRAW & PAINT  ART_AND_DESIGN    4.5   \n",
              "4              PIXEL DRAW - NUMBER ART COLORING BOOK  ART_AND_DESIGN    4.3   \n",
              "\n",
              "  reviews     size     installs  type price content_rating  \\\n",
              "0     159  19456.0      10,000+  FREE     0       EVERYONE   \n",
              "1     967  14336.0     500,000+  FREE     0       EVERYONE   \n",
              "2   87510   8908.8   5,000,000+  FREE     0       EVERYONE   \n",
              "3  215644  25600.0  50,000,000+  FREE     0           TEEN   \n",
              "4     967   2867.2     100,000+  FREE     0       EVERYONE   \n",
              "\n",
              "                      genres      last_updated         current_ver  \\\n",
              "0               ART & DESIGN   JANUARY 7, 2018               1.0.0   \n",
              "1  ART & DESIGN;PRETEND PLAY  JANUARY 15, 2018               2.0.0   \n",
              "2               ART & DESIGN    AUGUST 1, 2018               1.2.4   \n",
              "3               ART & DESIGN      JUNE 8, 2018  VARIES WITH DEVICE   \n",
              "4    ART & DESIGN;CREATIVITY     JUNE 20, 2018                 1.1   \n",
              "\n",
              "    android_ver  \n",
              "0  4.0.3 AND UP  \n",
              "1  4.0.3 AND UP  \n",
              "2  4.0.3 AND UP  \n",
              "3    4.2 AND UP  \n",
              "4    4.4 AND UP  "
            ],
            "text/html": [
              "\n",
              "  <div id=\"df-68a9281e-cee3-4094-81f2-39e23f2cc3a9\">\n",
              "    <div class=\"colab-df-container\">\n",
              "      <div>\n",
              "<style scoped>\n",
              "    .dataframe tbody tr th:only-of-type {\n",
              "        vertical-align: middle;\n",
              "    }\n",
              "\n",
              "    .dataframe tbody tr th {\n",
              "        vertical-align: top;\n",
              "    }\n",
              "\n",
              "    .dataframe thead th {\n",
              "        text-align: right;\n",
              "    }\n",
              "</style>\n",
              "<table border=\"1\" class=\"dataframe\">\n",
              "  <thead>\n",
              "    <tr style=\"text-align: right;\">\n",
              "      <th></th>\n",
              "      <th>app</th>\n",
              "      <th>category</th>\n",
              "      <th>rating</th>\n",
              "      <th>reviews</th>\n",
              "      <th>size</th>\n",
              "      <th>installs</th>\n",
              "      <th>type</th>\n",
              "      <th>price</th>\n",
              "      <th>content_rating</th>\n",
              "      <th>genres</th>\n",
              "      <th>last_updated</th>\n",
              "      <th>current_ver</th>\n",
              "      <th>android_ver</th>\n",
              "    </tr>\n",
              "  </thead>\n",
              "  <tbody>\n",
              "    <tr>\n",
              "      <th>0</th>\n",
              "      <td>PHOTO EDITOR &amp; CANDY CAMERA &amp; GRID &amp; SCRAPBOOK</td>\n",
              "      <td>ART_AND_DESIGN</td>\n",
              "      <td>4.1</td>\n",
              "      <td>159</td>\n",
              "      <td>19456.0</td>\n",
              "      <td>10,000+</td>\n",
              "      <td>FREE</td>\n",
              "      <td>0</td>\n",
              "      <td>EVERYONE</td>\n",
              "      <td>ART &amp; DESIGN</td>\n",
              "      <td>JANUARY 7, 2018</td>\n",
              "      <td>1.0.0</td>\n",
              "      <td>4.0.3 AND UP</td>\n",
              "    </tr>\n",
              "    <tr>\n",
              "      <th>1</th>\n",
              "      <td>COLORING BOOK MOANA</td>\n",
              "      <td>ART_AND_DESIGN</td>\n",
              "      <td>3.9</td>\n",
              "      <td>967</td>\n",
              "      <td>14336.0</td>\n",
              "      <td>500,000+</td>\n",
              "      <td>FREE</td>\n",
              "      <td>0</td>\n",
              "      <td>EVERYONE</td>\n",
              "      <td>ART &amp; DESIGN;PRETEND PLAY</td>\n",
              "      <td>JANUARY 15, 2018</td>\n",
              "      <td>2.0.0</td>\n",
              "      <td>4.0.3 AND UP</td>\n",
              "    </tr>\n",
              "    <tr>\n",
              "      <th>2</th>\n",
              "      <td>U LAUNCHER LITE – FREE LIVE COOL THEMES, HIDE ...</td>\n",
              "      <td>ART_AND_DESIGN</td>\n",
              "      <td>4.7</td>\n",
              "      <td>87510</td>\n",
              "      <td>8908.8</td>\n",
              "      <td>5,000,000+</td>\n",
              "      <td>FREE</td>\n",
              "      <td>0</td>\n",
              "      <td>EVERYONE</td>\n",
              "      <td>ART &amp; DESIGN</td>\n",
              "      <td>AUGUST 1, 2018</td>\n",
              "      <td>1.2.4</td>\n",
              "      <td>4.0.3 AND UP</td>\n",
              "    </tr>\n",
              "    <tr>\n",
              "      <th>3</th>\n",
              "      <td>SKETCH - DRAW &amp; PAINT</td>\n",
              "      <td>ART_AND_DESIGN</td>\n",
              "      <td>4.5</td>\n",
              "      <td>215644</td>\n",
              "      <td>25600.0</td>\n",
              "      <td>50,000,000+</td>\n",
              "      <td>FREE</td>\n",
              "      <td>0</td>\n",
              "      <td>TEEN</td>\n",
              "      <td>ART &amp; DESIGN</td>\n",
              "      <td>JUNE 8, 2018</td>\n",
              "      <td>VARIES WITH DEVICE</td>\n",
              "      <td>4.2 AND UP</td>\n",
              "    </tr>\n",
              "    <tr>\n",
              "      <th>4</th>\n",
              "      <td>PIXEL DRAW - NUMBER ART COLORING BOOK</td>\n",
              "      <td>ART_AND_DESIGN</td>\n",
              "      <td>4.3</td>\n",
              "      <td>967</td>\n",
              "      <td>2867.2</td>\n",
              "      <td>100,000+</td>\n",
              "      <td>FREE</td>\n",
              "      <td>0</td>\n",
              "      <td>EVERYONE</td>\n",
              "      <td>ART &amp; DESIGN;CREATIVITY</td>\n",
              "      <td>JUNE 20, 2018</td>\n",
              "      <td>1.1</td>\n",
              "      <td>4.4 AND UP</td>\n",
              "    </tr>\n",
              "  </tbody>\n",
              "</table>\n",
              "</div>\n",
              "      <button class=\"colab-df-convert\" onclick=\"convertToInteractive('df-68a9281e-cee3-4094-81f2-39e23f2cc3a9')\"\n",
              "              title=\"Convert this dataframe to an interactive table.\"\n",
              "              style=\"display:none;\">\n",
              "        \n",
              "  <svg xmlns=\"http://www.w3.org/2000/svg\" height=\"24px\"viewBox=\"0 0 24 24\"\n",
              "       width=\"24px\">\n",
              "    <path d=\"M0 0h24v24H0V0z\" fill=\"none\"/>\n",
              "    <path d=\"M18.56 5.44l.94 2.06.94-2.06 2.06-.94-2.06-.94-.94-2.06-.94 2.06-2.06.94zm-11 1L8.5 8.5l.94-2.06 2.06-.94-2.06-.94L8.5 2.5l-.94 2.06-2.06.94zm10 10l.94 2.06.94-2.06 2.06-.94-2.06-.94-.94-2.06-.94 2.06-2.06.94z\"/><path d=\"M17.41 7.96l-1.37-1.37c-.4-.4-.92-.59-1.43-.59-.52 0-1.04.2-1.43.59L10.3 9.45l-7.72 7.72c-.78.78-.78 2.05 0 2.83L4 21.41c.39.39.9.59 1.41.59.51 0 1.02-.2 1.41-.59l7.78-7.78 2.81-2.81c.8-.78.8-2.07 0-2.86zM5.41 20L4 18.59l7.72-7.72 1.47 1.35L5.41 20z\"/>\n",
              "  </svg>\n",
              "      </button>\n",
              "      \n",
              "  <style>\n",
              "    .colab-df-container {\n",
              "      display:flex;\n",
              "      flex-wrap:wrap;\n",
              "      gap: 12px;\n",
              "    }\n",
              "\n",
              "    .colab-df-convert {\n",
              "      background-color: #E8F0FE;\n",
              "      border: none;\n",
              "      border-radius: 50%;\n",
              "      cursor: pointer;\n",
              "      display: none;\n",
              "      fill: #1967D2;\n",
              "      height: 32px;\n",
              "      padding: 0 0 0 0;\n",
              "      width: 32px;\n",
              "    }\n",
              "\n",
              "    .colab-df-convert:hover {\n",
              "      background-color: #E2EBFA;\n",
              "      box-shadow: 0px 1px 2px rgba(60, 64, 67, 0.3), 0px 1px 3px 1px rgba(60, 64, 67, 0.15);\n",
              "      fill: #174EA6;\n",
              "    }\n",
              "\n",
              "    [theme=dark] .colab-df-convert {\n",
              "      background-color: #3B4455;\n",
              "      fill: #D2E3FC;\n",
              "    }\n",
              "\n",
              "    [theme=dark] .colab-df-convert:hover {\n",
              "      background-color: #434B5C;\n",
              "      box-shadow: 0px 1px 3px 1px rgba(0, 0, 0, 0.15);\n",
              "      filter: drop-shadow(0px 1px 2px rgba(0, 0, 0, 0.3));\n",
              "      fill: #FFFFFF;\n",
              "    }\n",
              "  </style>\n",
              "\n",
              "      <script>\n",
              "        const buttonEl =\n",
              "          document.querySelector('#df-68a9281e-cee3-4094-81f2-39e23f2cc3a9 button.colab-df-convert');\n",
              "        buttonEl.style.display =\n",
              "          google.colab.kernel.accessAllowed ? 'block' : 'none';\n",
              "\n",
              "        async function convertToInteractive(key) {\n",
              "          const element = document.querySelector('#df-68a9281e-cee3-4094-81f2-39e23f2cc3a9');\n",
              "          const dataTable =\n",
              "            await google.colab.kernel.invokeFunction('convertToInteractive',\n",
              "                                                     [key], {});\n",
              "          if (!dataTable) return;\n",
              "\n",
              "          const docLinkHtml = 'Like what you see? Visit the ' +\n",
              "            '<a target=\"_blank\" href=https://colab.research.google.com/notebooks/data_table.ipynb>data table notebook</a>'\n",
              "            + ' to learn more about interactive tables.';\n",
              "          element.innerHTML = '';\n",
              "          dataTable['output_type'] = 'display_data';\n",
              "          await google.colab.output.renderOutput(dataTable, element);\n",
              "          const docLink = document.createElement('div');\n",
              "          docLink.innerHTML = docLinkHtml;\n",
              "          element.appendChild(docLink);\n",
              "        }\n",
              "      </script>\n",
              "    </div>\n",
              "  </div>\n",
              "  "
            ]
          },
          "metadata": {},
          "execution_count": 14
        }
      ]
    },
    {
      "cell_type": "code",
      "source": [
        "# Now we will see our unique letters  present in dataset\n",
        "\n",
        "print(df['size'].astype(str).str.replace('\\d+', '').unique())"
      ],
      "metadata": {
        "colab": {
          "base_uri": "https://localhost:8080/"
        },
        "id": "Rfb0VsU_Zo4k",
        "outputId": "aeceb92f-264b-4edf-cd56-231d69363277"
      },
      "execution_count": 15,
      "outputs": [
        {
          "output_type": "stream",
          "name": "stdout",
          "text": [
            "['.' 'VARIES WITH DEVICE' 'K' '.K' ',+']\n"
          ]
        },
        {
          "output_type": "stream",
          "name": "stderr",
          "text": [
            "/usr/local/lib/python3.7/dist-packages/ipykernel_launcher.py:3: FutureWarning: The default value of regex will change from True to False in a future version.\n",
            "  This is separate from the ipykernel package so we can avoid doing imports until\n"
          ]
        }
      ]
    },
    {
      "cell_type": "markdown",
      "source": [
        "\n",
        "Now we can simply remove the K and change the size column to say \"size (in kb)\" for clarity."
      ],
      "metadata": {
        "id": "lAgu7LX0Z6kX"
      }
    },
    {
      "cell_type": "code",
      "source": [
        "df.loc[df['size'].astype(str).str.contains('K'), 'size'] = df.loc[df['size'].astype(str).str.contains('K'), 'size'].str.replace('K', '')"
      ],
      "metadata": {
        "id": "5clngnOGZz_s"
      },
      "execution_count": 16,
      "outputs": []
    },
    {
      "cell_type": "code",
      "source": [
        "# we can see that there are now no more values containing the letter K\n",
        "\n",
        "df.loc[df['size'].astype(str).str.contains('K'), 'size']"
      ],
      "metadata": {
        "colab": {
          "base_uri": "https://localhost:8080/"
        },
        "id": "IxNMbIaPaDd6",
        "outputId": "ca6044ca-263c-438c-bd17-10efe1025e6d"
      },
      "execution_count": 17,
      "outputs": [
        {
          "output_type": "execute_result",
          "data": {
            "text/plain": [
              "Series([], Name: size, dtype: object)"
            ]
          },
          "metadata": {},
          "execution_count": 17
        }
      ]
    },
    {
      "cell_type": "code",
      "source": [
        "# now we will add and clarify to the size column\n",
        "\n",
        "df.rename(columns = {'size': 'size(kb)'}, inplace=True)"
      ],
      "metadata": {
        "id": "OlUi1kLGaKPc"
      },
      "execution_count": 18,
      "outputs": []
    },
    {
      "cell_type": "code",
      "source": [
        "# cross check\n",
        "\n",
        "df.columns"
      ],
      "metadata": {
        "colab": {
          "base_uri": "https://localhost:8080/"
        },
        "id": "2PNc-c8OaPMa",
        "outputId": "64a1c608-0bf2-490a-a2a0-6f3155549b33"
      },
      "execution_count": 19,
      "outputs": [
        {
          "output_type": "execute_result",
          "data": {
            "text/plain": [
              "Index(['app', 'category', 'rating', 'reviews', 'size(kb)', 'installs', 'type',\n",
              "       'price', 'content_rating', 'genres', 'last_updated', 'current_ver',\n",
              "       'android_ver'],\n",
              "      dtype='object')"
            ]
          },
          "metadata": {},
          "execution_count": 19
        }
      ]
    },
    {
      "cell_type": "markdown",
      "source": [
        "We know that **VARIES WITH DEVICE** means unknown, or np.nan. So lets change replace those values."
      ],
      "metadata": {
        "id": "X8Zam0cWab3f"
      }
    },
    {
      "cell_type": "code",
      "source": [
        "df['size(kb)'].replace('VARIES WITH DEVICE', np.nan, inplace=True)"
      ],
      "metadata": {
        "id": "3OzUb1xtaTpm"
      },
      "execution_count": 20,
      "outputs": []
    },
    {
      "cell_type": "code",
      "source": [
        "df.loc[df['size(kb)'].isnull(),]"
      ],
      "metadata": {
        "colab": {
          "base_uri": "https://localhost:8080/",
          "height": 887
        },
        "id": "oIYdgklZapak",
        "outputId": "0d42c821-a23e-4633-8e19-6ab38c212ce9"
      },
      "execution_count": 21,
      "outputs": [
        {
          "output_type": "execute_result",
          "data": {
            "text/plain": [
              "                                                     app             category  \\\n",
              "37                                    FLOOR PLAN CREATOR       ART_AND_DESIGN   \n",
              "42                            TEXTGRAM - WRITE ON PHOTOS       ART_AND_DESIGN   \n",
              "52                         USED CARS AND TRUCKS FOR SALE    AUTO_AND_VEHICLES   \n",
              "67                                    ULYSSE SPEEDOMETER    AUTO_AND_VEHICLES   \n",
              "68                                                REPUVE    AUTO_AND_VEHICLES   \n",
              "...                                                  ...                  ...   \n",
              "10713  MY EARTHQUAKE ALERTS - US & WORLDWIDE EARTHQUAKES              WEATHER   \n",
              "10725                                          POSTA APP  MAPS_AND_NAVIGATION   \n",
              "10765                    CHAT FOR STRANGERS - VIDEO CHAT               SOCIAL   \n",
              "10826          FRIM: GET NEW FRIENDS ON LOCAL CHAT ROOMS               SOCIAL   \n",
              "10839                      THE SCP FOUNDATION DB FR NN5N  BOOKS_AND_REFERENCE   \n",
              "\n",
              "      rating reviews size(kb)     installs  type price content_rating  \\\n",
              "37       4.1   36639      NaN   5,000,000+  FREE     0       EVERYONE   \n",
              "42       4.4  295221      NaN  10,000,000+  FREE     0       EVERYONE   \n",
              "52       4.6   17057      NaN   1,000,000+  FREE     0       EVERYONE   \n",
              "67       4.3   40211      NaN   5,000,000+  FREE     0       EVERYONE   \n",
              "68       3.9     356      NaN     100,000+  FREE     0       EVERYONE   \n",
              "...      ...     ...      ...          ...   ...   ...            ...   \n",
              "10713    4.4    3471      NaN     100,000+  FREE     0       EVERYONE   \n",
              "10725    3.6       8      NaN       1,000+  FREE     0       EVERYONE   \n",
              "10765    3.4     622      NaN     100,000+  FREE     0     MATURE 17+   \n",
              "10826    4.0   88486      NaN   5,000,000+  FREE     0     MATURE 17+   \n",
              "10839    4.5     114      NaN       1,000+  FREE     0     MATURE 17+   \n",
              "\n",
              "                  genres        last_updated         current_ver  \\\n",
              "37          ART & DESIGN       JULY 14, 2018  VARIES WITH DEVICE   \n",
              "42          ART & DESIGN       JULY 30, 2018  VARIES WITH DEVICE   \n",
              "52       AUTO & VEHICLES       JULY 30, 2018  VARIES WITH DEVICE   \n",
              "67       AUTO & VEHICLES       JULY 30, 2018  VARIES WITH DEVICE   \n",
              "68       AUTO & VEHICLES        MAY 25, 2018  VARIES WITH DEVICE   \n",
              "...                  ...                 ...                 ...   \n",
              "10713            WEATHER       JULY 24, 2018  VARIES WITH DEVICE   \n",
              "10725  MAPS & NAVIGATION  SEPTEMBER 27, 2017  VARIES WITH DEVICE   \n",
              "10765             SOCIAL        MAY 23, 2018  VARIES WITH DEVICE   \n",
              "10826             SOCIAL      MARCH 23, 2018  VARIES WITH DEVICE   \n",
              "10839  BOOKS & REFERENCE    JANUARY 19, 2015  VARIES WITH DEVICE   \n",
              "\n",
              "              android_ver  \n",
              "37           2.3.3 AND UP  \n",
              "42     VARIES WITH DEVICE  \n",
              "52     VARIES WITH DEVICE  \n",
              "67     VARIES WITH DEVICE  \n",
              "68     VARIES WITH DEVICE  \n",
              "...                   ...  \n",
              "10713  VARIES WITH DEVICE  \n",
              "10725          4.4 AND UP  \n",
              "10765  VARIES WITH DEVICE  \n",
              "10826  VARIES WITH DEVICE  \n",
              "10839  VARIES WITH DEVICE  \n",
              "\n",
              "[1695 rows x 13 columns]"
            ],
            "text/html": [
              "\n",
              "  <div id=\"df-bde7fe4c-349b-439a-89de-22a74b68eeec\">\n",
              "    <div class=\"colab-df-container\">\n",
              "      <div>\n",
              "<style scoped>\n",
              "    .dataframe tbody tr th:only-of-type {\n",
              "        vertical-align: middle;\n",
              "    }\n",
              "\n",
              "    .dataframe tbody tr th {\n",
              "        vertical-align: top;\n",
              "    }\n",
              "\n",
              "    .dataframe thead th {\n",
              "        text-align: right;\n",
              "    }\n",
              "</style>\n",
              "<table border=\"1\" class=\"dataframe\">\n",
              "  <thead>\n",
              "    <tr style=\"text-align: right;\">\n",
              "      <th></th>\n",
              "      <th>app</th>\n",
              "      <th>category</th>\n",
              "      <th>rating</th>\n",
              "      <th>reviews</th>\n",
              "      <th>size(kb)</th>\n",
              "      <th>installs</th>\n",
              "      <th>type</th>\n",
              "      <th>price</th>\n",
              "      <th>content_rating</th>\n",
              "      <th>genres</th>\n",
              "      <th>last_updated</th>\n",
              "      <th>current_ver</th>\n",
              "      <th>android_ver</th>\n",
              "    </tr>\n",
              "  </thead>\n",
              "  <tbody>\n",
              "    <tr>\n",
              "      <th>37</th>\n",
              "      <td>FLOOR PLAN CREATOR</td>\n",
              "      <td>ART_AND_DESIGN</td>\n",
              "      <td>4.1</td>\n",
              "      <td>36639</td>\n",
              "      <td>NaN</td>\n",
              "      <td>5,000,000+</td>\n",
              "      <td>FREE</td>\n",
              "      <td>0</td>\n",
              "      <td>EVERYONE</td>\n",
              "      <td>ART &amp; DESIGN</td>\n",
              "      <td>JULY 14, 2018</td>\n",
              "      <td>VARIES WITH DEVICE</td>\n",
              "      <td>2.3.3 AND UP</td>\n",
              "    </tr>\n",
              "    <tr>\n",
              "      <th>42</th>\n",
              "      <td>TEXTGRAM - WRITE ON PHOTOS</td>\n",
              "      <td>ART_AND_DESIGN</td>\n",
              "      <td>4.4</td>\n",
              "      <td>295221</td>\n",
              "      <td>NaN</td>\n",
              "      <td>10,000,000+</td>\n",
              "      <td>FREE</td>\n",
              "      <td>0</td>\n",
              "      <td>EVERYONE</td>\n",
              "      <td>ART &amp; DESIGN</td>\n",
              "      <td>JULY 30, 2018</td>\n",
              "      <td>VARIES WITH DEVICE</td>\n",
              "      <td>VARIES WITH DEVICE</td>\n",
              "    </tr>\n",
              "    <tr>\n",
              "      <th>52</th>\n",
              "      <td>USED CARS AND TRUCKS FOR SALE</td>\n",
              "      <td>AUTO_AND_VEHICLES</td>\n",
              "      <td>4.6</td>\n",
              "      <td>17057</td>\n",
              "      <td>NaN</td>\n",
              "      <td>1,000,000+</td>\n",
              "      <td>FREE</td>\n",
              "      <td>0</td>\n",
              "      <td>EVERYONE</td>\n",
              "      <td>AUTO &amp; VEHICLES</td>\n",
              "      <td>JULY 30, 2018</td>\n",
              "      <td>VARIES WITH DEVICE</td>\n",
              "      <td>VARIES WITH DEVICE</td>\n",
              "    </tr>\n",
              "    <tr>\n",
              "      <th>67</th>\n",
              "      <td>ULYSSE SPEEDOMETER</td>\n",
              "      <td>AUTO_AND_VEHICLES</td>\n",
              "      <td>4.3</td>\n",
              "      <td>40211</td>\n",
              "      <td>NaN</td>\n",
              "      <td>5,000,000+</td>\n",
              "      <td>FREE</td>\n",
              "      <td>0</td>\n",
              "      <td>EVERYONE</td>\n",
              "      <td>AUTO &amp; VEHICLES</td>\n",
              "      <td>JULY 30, 2018</td>\n",
              "      <td>VARIES WITH DEVICE</td>\n",
              "      <td>VARIES WITH DEVICE</td>\n",
              "    </tr>\n",
              "    <tr>\n",
              "      <th>68</th>\n",
              "      <td>REPUVE</td>\n",
              "      <td>AUTO_AND_VEHICLES</td>\n",
              "      <td>3.9</td>\n",
              "      <td>356</td>\n",
              "      <td>NaN</td>\n",
              "      <td>100,000+</td>\n",
              "      <td>FREE</td>\n",
              "      <td>0</td>\n",
              "      <td>EVERYONE</td>\n",
              "      <td>AUTO &amp; VEHICLES</td>\n",
              "      <td>MAY 25, 2018</td>\n",
              "      <td>VARIES WITH DEVICE</td>\n",
              "      <td>VARIES WITH DEVICE</td>\n",
              "    </tr>\n",
              "    <tr>\n",
              "      <th>...</th>\n",
              "      <td>...</td>\n",
              "      <td>...</td>\n",
              "      <td>...</td>\n",
              "      <td>...</td>\n",
              "      <td>...</td>\n",
              "      <td>...</td>\n",
              "      <td>...</td>\n",
              "      <td>...</td>\n",
              "      <td>...</td>\n",
              "      <td>...</td>\n",
              "      <td>...</td>\n",
              "      <td>...</td>\n",
              "      <td>...</td>\n",
              "    </tr>\n",
              "    <tr>\n",
              "      <th>10713</th>\n",
              "      <td>MY EARTHQUAKE ALERTS - US &amp; WORLDWIDE EARTHQUAKES</td>\n",
              "      <td>WEATHER</td>\n",
              "      <td>4.4</td>\n",
              "      <td>3471</td>\n",
              "      <td>NaN</td>\n",
              "      <td>100,000+</td>\n",
              "      <td>FREE</td>\n",
              "      <td>0</td>\n",
              "      <td>EVERYONE</td>\n",
              "      <td>WEATHER</td>\n",
              "      <td>JULY 24, 2018</td>\n",
              "      <td>VARIES WITH DEVICE</td>\n",
              "      <td>VARIES WITH DEVICE</td>\n",
              "    </tr>\n",
              "    <tr>\n",
              "      <th>10725</th>\n",
              "      <td>POSTA APP</td>\n",
              "      <td>MAPS_AND_NAVIGATION</td>\n",
              "      <td>3.6</td>\n",
              "      <td>8</td>\n",
              "      <td>NaN</td>\n",
              "      <td>1,000+</td>\n",
              "      <td>FREE</td>\n",
              "      <td>0</td>\n",
              "      <td>EVERYONE</td>\n",
              "      <td>MAPS &amp; NAVIGATION</td>\n",
              "      <td>SEPTEMBER 27, 2017</td>\n",
              "      <td>VARIES WITH DEVICE</td>\n",
              "      <td>4.4 AND UP</td>\n",
              "    </tr>\n",
              "    <tr>\n",
              "      <th>10765</th>\n",
              "      <td>CHAT FOR STRANGERS - VIDEO CHAT</td>\n",
              "      <td>SOCIAL</td>\n",
              "      <td>3.4</td>\n",
              "      <td>622</td>\n",
              "      <td>NaN</td>\n",
              "      <td>100,000+</td>\n",
              "      <td>FREE</td>\n",
              "      <td>0</td>\n",
              "      <td>MATURE 17+</td>\n",
              "      <td>SOCIAL</td>\n",
              "      <td>MAY 23, 2018</td>\n",
              "      <td>VARIES WITH DEVICE</td>\n",
              "      <td>VARIES WITH DEVICE</td>\n",
              "    </tr>\n",
              "    <tr>\n",
              "      <th>10826</th>\n",
              "      <td>FRIM: GET NEW FRIENDS ON LOCAL CHAT ROOMS</td>\n",
              "      <td>SOCIAL</td>\n",
              "      <td>4.0</td>\n",
              "      <td>88486</td>\n",
              "      <td>NaN</td>\n",
              "      <td>5,000,000+</td>\n",
              "      <td>FREE</td>\n",
              "      <td>0</td>\n",
              "      <td>MATURE 17+</td>\n",
              "      <td>SOCIAL</td>\n",
              "      <td>MARCH 23, 2018</td>\n",
              "      <td>VARIES WITH DEVICE</td>\n",
              "      <td>VARIES WITH DEVICE</td>\n",
              "    </tr>\n",
              "    <tr>\n",
              "      <th>10839</th>\n",
              "      <td>THE SCP FOUNDATION DB FR NN5N</td>\n",
              "      <td>BOOKS_AND_REFERENCE</td>\n",
              "      <td>4.5</td>\n",
              "      <td>114</td>\n",
              "      <td>NaN</td>\n",
              "      <td>1,000+</td>\n",
              "      <td>FREE</td>\n",
              "      <td>0</td>\n",
              "      <td>MATURE 17+</td>\n",
              "      <td>BOOKS &amp; REFERENCE</td>\n",
              "      <td>JANUARY 19, 2015</td>\n",
              "      <td>VARIES WITH DEVICE</td>\n",
              "      <td>VARIES WITH DEVICE</td>\n",
              "    </tr>\n",
              "  </tbody>\n",
              "</table>\n",
              "<p>1695 rows × 13 columns</p>\n",
              "</div>\n",
              "      <button class=\"colab-df-convert\" onclick=\"convertToInteractive('df-bde7fe4c-349b-439a-89de-22a74b68eeec')\"\n",
              "              title=\"Convert this dataframe to an interactive table.\"\n",
              "              style=\"display:none;\">\n",
              "        \n",
              "  <svg xmlns=\"http://www.w3.org/2000/svg\" height=\"24px\"viewBox=\"0 0 24 24\"\n",
              "       width=\"24px\">\n",
              "    <path d=\"M0 0h24v24H0V0z\" fill=\"none\"/>\n",
              "    <path d=\"M18.56 5.44l.94 2.06.94-2.06 2.06-.94-2.06-.94-.94-2.06-.94 2.06-2.06.94zm-11 1L8.5 8.5l.94-2.06 2.06-.94-2.06-.94L8.5 2.5l-.94 2.06-2.06.94zm10 10l.94 2.06.94-2.06 2.06-.94-2.06-.94-.94-2.06-.94 2.06-2.06.94z\"/><path d=\"M17.41 7.96l-1.37-1.37c-.4-.4-.92-.59-1.43-.59-.52 0-1.04.2-1.43.59L10.3 9.45l-7.72 7.72c-.78.78-.78 2.05 0 2.83L4 21.41c.39.39.9.59 1.41.59.51 0 1.02-.2 1.41-.59l7.78-7.78 2.81-2.81c.8-.78.8-2.07 0-2.86zM5.41 20L4 18.59l7.72-7.72 1.47 1.35L5.41 20z\"/>\n",
              "  </svg>\n",
              "      </button>\n",
              "      \n",
              "  <style>\n",
              "    .colab-df-container {\n",
              "      display:flex;\n",
              "      flex-wrap:wrap;\n",
              "      gap: 12px;\n",
              "    }\n",
              "\n",
              "    .colab-df-convert {\n",
              "      background-color: #E8F0FE;\n",
              "      border: none;\n",
              "      border-radius: 50%;\n",
              "      cursor: pointer;\n",
              "      display: none;\n",
              "      fill: #1967D2;\n",
              "      height: 32px;\n",
              "      padding: 0 0 0 0;\n",
              "      width: 32px;\n",
              "    }\n",
              "\n",
              "    .colab-df-convert:hover {\n",
              "      background-color: #E2EBFA;\n",
              "      box-shadow: 0px 1px 2px rgba(60, 64, 67, 0.3), 0px 1px 3px 1px rgba(60, 64, 67, 0.15);\n",
              "      fill: #174EA6;\n",
              "    }\n",
              "\n",
              "    [theme=dark] .colab-df-convert {\n",
              "      background-color: #3B4455;\n",
              "      fill: #D2E3FC;\n",
              "    }\n",
              "\n",
              "    [theme=dark] .colab-df-convert:hover {\n",
              "      background-color: #434B5C;\n",
              "      box-shadow: 0px 1px 3px 1px rgba(0, 0, 0, 0.15);\n",
              "      filter: drop-shadow(0px 1px 2px rgba(0, 0, 0, 0.3));\n",
              "      fill: #FFFFFF;\n",
              "    }\n",
              "  </style>\n",
              "\n",
              "      <script>\n",
              "        const buttonEl =\n",
              "          document.querySelector('#df-bde7fe4c-349b-439a-89de-22a74b68eeec button.colab-df-convert');\n",
              "        buttonEl.style.display =\n",
              "          google.colab.kernel.accessAllowed ? 'block' : 'none';\n",
              "\n",
              "        async function convertToInteractive(key) {\n",
              "          const element = document.querySelector('#df-bde7fe4c-349b-439a-89de-22a74b68eeec');\n",
              "          const dataTable =\n",
              "            await google.colab.kernel.invokeFunction('convertToInteractive',\n",
              "                                                     [key], {});\n",
              "          if (!dataTable) return;\n",
              "\n",
              "          const docLinkHtml = 'Like what you see? Visit the ' +\n",
              "            '<a target=\"_blank\" href=https://colab.research.google.com/notebooks/data_table.ipynb>data table notebook</a>'\n",
              "            + ' to learn more about interactive tables.';\n",
              "          element.innerHTML = '';\n",
              "          dataTable['output_type'] = 'display_data';\n",
              "          await google.colab.output.renderOutput(dataTable, element);\n",
              "          const docLink = document.createElement('div');\n",
              "          docLink.innerHTML = docLinkHtml;\n",
              "          element.appendChild(docLink);\n",
              "        }\n",
              "      </script>\n",
              "    </div>\n",
              "  </div>\n",
              "  "
            ]
          },
          "metadata": {},
          "execution_count": 21
        }
      ]
    },
    {
      "cell_type": "markdown",
      "source": [
        "From this we can see that there are 1695 rows that have NaN values and get a general idea of the context of those values."
      ],
      "metadata": {
        "id": "xruamqrVazyq"
      }
    },
    {
      "cell_type": "code",
      "source": [
        "def chk_null_sum(df, col):\n",
        "    return df[col].isnull().sum()\n",
        "\n",
        "chk_null_sum(df, 'size(kb)')"
      ],
      "metadata": {
        "colab": {
          "base_uri": "https://localhost:8080/"
        },
        "id": "VUN_xS3YatYo",
        "outputId": "94631923-76b9-4fa3-f7cb-42f5f7e82c9e"
      },
      "execution_count": 22,
      "outputs": [
        {
          "output_type": "execute_result",
          "data": {
            "text/plain": [
              "1695"
            ]
          },
          "metadata": {},
          "execution_count": 22
        }
      ]
    },
    {
      "cell_type": "code",
      "source": [
        "# now we will remove the \"+\"\n",
        "\n",
        "def remove_plus(df, col):\n",
        "    df[col] = df[col].astype(str).str.replace('+', '', regex=False)\n",
        "\n",
        "remove_plus(df, 'size(kb)')"
      ],
      "metadata": {
        "id": "QWoUsYA-a7im"
      },
      "execution_count": 23,
      "outputs": []
    },
    {
      "cell_type": "code",
      "source": [
        "# cross check\n",
        "\n",
        "df.loc[df['size(kb)'].astype(str).str.contains('+', regex=False),]"
      ],
      "metadata": {
        "colab": {
          "base_uri": "https://localhost:8080/",
          "height": 49
        },
        "id": "C_9TS9g4bB5h",
        "outputId": "452be0d0-6942-4b65-f6df-b3db93842a2f"
      },
      "execution_count": 24,
      "outputs": [
        {
          "output_type": "execute_result",
          "data": {
            "text/plain": [
              "Empty DataFrame\n",
              "Columns: [app, category, rating, reviews, size(kb), installs, type, price, content_rating, genres, last_updated, current_ver, android_ver]\n",
              "Index: []"
            ],
            "text/html": [
              "\n",
              "  <div id=\"df-c388bec1-8120-4e73-a4f0-d9b6b75f755a\">\n",
              "    <div class=\"colab-df-container\">\n",
              "      <div>\n",
              "<style scoped>\n",
              "    .dataframe tbody tr th:only-of-type {\n",
              "        vertical-align: middle;\n",
              "    }\n",
              "\n",
              "    .dataframe tbody tr th {\n",
              "        vertical-align: top;\n",
              "    }\n",
              "\n",
              "    .dataframe thead th {\n",
              "        text-align: right;\n",
              "    }\n",
              "</style>\n",
              "<table border=\"1\" class=\"dataframe\">\n",
              "  <thead>\n",
              "    <tr style=\"text-align: right;\">\n",
              "      <th></th>\n",
              "      <th>app</th>\n",
              "      <th>category</th>\n",
              "      <th>rating</th>\n",
              "      <th>reviews</th>\n",
              "      <th>size(kb)</th>\n",
              "      <th>installs</th>\n",
              "      <th>type</th>\n",
              "      <th>price</th>\n",
              "      <th>content_rating</th>\n",
              "      <th>genres</th>\n",
              "      <th>last_updated</th>\n",
              "      <th>current_ver</th>\n",
              "      <th>android_ver</th>\n",
              "    </tr>\n",
              "  </thead>\n",
              "  <tbody>\n",
              "  </tbody>\n",
              "</table>\n",
              "</div>\n",
              "      <button class=\"colab-df-convert\" onclick=\"convertToInteractive('df-c388bec1-8120-4e73-a4f0-d9b6b75f755a')\"\n",
              "              title=\"Convert this dataframe to an interactive table.\"\n",
              "              style=\"display:none;\">\n",
              "        \n",
              "  <svg xmlns=\"http://www.w3.org/2000/svg\" height=\"24px\"viewBox=\"0 0 24 24\"\n",
              "       width=\"24px\">\n",
              "    <path d=\"M0 0h24v24H0V0z\" fill=\"none\"/>\n",
              "    <path d=\"M18.56 5.44l.94 2.06.94-2.06 2.06-.94-2.06-.94-.94-2.06-.94 2.06-2.06.94zm-11 1L8.5 8.5l.94-2.06 2.06-.94-2.06-.94L8.5 2.5l-.94 2.06-2.06.94zm10 10l.94 2.06.94-2.06 2.06-.94-2.06-.94-.94-2.06-.94 2.06-2.06.94z\"/><path d=\"M17.41 7.96l-1.37-1.37c-.4-.4-.92-.59-1.43-.59-.52 0-1.04.2-1.43.59L10.3 9.45l-7.72 7.72c-.78.78-.78 2.05 0 2.83L4 21.41c.39.39.9.59 1.41.59.51 0 1.02-.2 1.41-.59l7.78-7.78 2.81-2.81c.8-.78.8-2.07 0-2.86zM5.41 20L4 18.59l7.72-7.72 1.47 1.35L5.41 20z\"/>\n",
              "  </svg>\n",
              "      </button>\n",
              "      \n",
              "  <style>\n",
              "    .colab-df-container {\n",
              "      display:flex;\n",
              "      flex-wrap:wrap;\n",
              "      gap: 12px;\n",
              "    }\n",
              "\n",
              "    .colab-df-convert {\n",
              "      background-color: #E8F0FE;\n",
              "      border: none;\n",
              "      border-radius: 50%;\n",
              "      cursor: pointer;\n",
              "      display: none;\n",
              "      fill: #1967D2;\n",
              "      height: 32px;\n",
              "      padding: 0 0 0 0;\n",
              "      width: 32px;\n",
              "    }\n",
              "\n",
              "    .colab-df-convert:hover {\n",
              "      background-color: #E2EBFA;\n",
              "      box-shadow: 0px 1px 2px rgba(60, 64, 67, 0.3), 0px 1px 3px 1px rgba(60, 64, 67, 0.15);\n",
              "      fill: #174EA6;\n",
              "    }\n",
              "\n",
              "    [theme=dark] .colab-df-convert {\n",
              "      background-color: #3B4455;\n",
              "      fill: #D2E3FC;\n",
              "    }\n",
              "\n",
              "    [theme=dark] .colab-df-convert:hover {\n",
              "      background-color: #434B5C;\n",
              "      box-shadow: 0px 1px 3px 1px rgba(0, 0, 0, 0.15);\n",
              "      filter: drop-shadow(0px 1px 2px rgba(0, 0, 0, 0.3));\n",
              "      fill: #FFFFFF;\n",
              "    }\n",
              "  </style>\n",
              "\n",
              "      <script>\n",
              "        const buttonEl =\n",
              "          document.querySelector('#df-c388bec1-8120-4e73-a4f0-d9b6b75f755a button.colab-df-convert');\n",
              "        buttonEl.style.display =\n",
              "          google.colab.kernel.accessAllowed ? 'block' : 'none';\n",
              "\n",
              "        async function convertToInteractive(key) {\n",
              "          const element = document.querySelector('#df-c388bec1-8120-4e73-a4f0-d9b6b75f755a');\n",
              "          const dataTable =\n",
              "            await google.colab.kernel.invokeFunction('convertToInteractive',\n",
              "                                                     [key], {});\n",
              "          if (!dataTable) return;\n",
              "\n",
              "          const docLinkHtml = 'Like what you see? Visit the ' +\n",
              "            '<a target=\"_blank\" href=https://colab.research.google.com/notebooks/data_table.ipynb>data table notebook</a>'\n",
              "            + ' to learn more about interactive tables.';\n",
              "          element.innerHTML = '';\n",
              "          dataTable['output_type'] = 'display_data';\n",
              "          await google.colab.output.renderOutput(dataTable, element);\n",
              "          const docLink = document.createElement('div');\n",
              "          docLink.innerHTML = docLinkHtml;\n",
              "          element.appendChild(docLink);\n",
              "        }\n",
              "      </script>\n",
              "    </div>\n",
              "  </div>\n",
              "  "
            ]
          },
          "metadata": {},
          "execution_count": 24
        }
      ]
    },
    {
      "cell_type": "code",
      "source": [
        "# removing commas\n",
        "\n",
        "def remove_commas(df, col):\n",
        "    df[col] = df[col].str.replace(',', '')\n",
        "\n",
        "remove_commas(df, 'size(kb)')"
      ],
      "metadata": {
        "id": "BDONrlsAbGVF"
      },
      "execution_count": 25,
      "outputs": []
    },
    {
      "cell_type": "code",
      "source": [
        "# convert column size data type to numeric\n",
        "\n",
        "def convert_to_numeric(df, col):\n",
        "    df[col] = pd.to_numeric(df[col], errors='coerce')\n",
        "\n",
        "convert_to_numeric(df, 'size(kb)')"
      ],
      "metadata": {
        "id": "UQmohlQnbUKL"
      },
      "execution_count": 26,
      "outputs": []
    },
    {
      "cell_type": "markdown",
      "source": [
        "I am using coerce here because I know that anything being coerced is already a nan value.\n",
        "\n",
        "NaN values in size column To deal with these missing values, we can fill them with the mean value, grouped by category, so that it does not affect our standard deviation."
      ],
      "metadata": {
        "id": "GLL8PzF2bcWC"
      }
    },
    {
      "cell_type": "code",
      "source": [
        "df['size(kb)'] = df['size(kb)'].astype(float).fillna(df.groupby('category')['size(kb)'].transform('mean'))"
      ],
      "metadata": {
        "id": "vDX74_u6bYcz"
      },
      "execution_count": 27,
      "outputs": []
    },
    {
      "cell_type": "code",
      "source": [
        "# cross check\n",
        "\n",
        "df.isnull().sum()"
      ],
      "metadata": {
        "colab": {
          "base_uri": "https://localhost:8080/"
        },
        "id": "BHi0YGADbndq",
        "outputId": "2e31c83f-8d89-4dfa-e306-06957c5de419"
      },
      "execution_count": 28,
      "outputs": [
        {
          "output_type": "execute_result",
          "data": {
            "text/plain": [
              "app                  0\n",
              "category             0\n",
              "rating            1474\n",
              "reviews              0\n",
              "size(kb)             0\n",
              "installs             0\n",
              "type                 1\n",
              "price                0\n",
              "content_rating       1\n",
              "genres               0\n",
              "last_updated         0\n",
              "current_ver          8\n",
              "android_ver          3\n",
              "dtype: int64"
            ]
          },
          "metadata": {},
          "execution_count": 28
        }
      ]
    },
    {
      "cell_type": "markdown",
      "source": [
        "**Last** **Updated**\n",
        "\n",
        "For this analysis, I only want the year so i will remove everything before the comma in the last_updated row."
      ],
      "metadata": {
        "id": "Ts3r110Ub1X8"
      }
    },
    {
      "cell_type": "code",
      "source": [
        "df['last_updated'].unique()"
      ],
      "metadata": {
        "colab": {
          "base_uri": "https://localhost:8080/"
        },
        "id": "cLXJp1i3brMS",
        "outputId": "9b3d8518-013d-4fcd-835a-384bfc63ebd8"
      },
      "execution_count": 29,
      "outputs": [
        {
          "output_type": "execute_result",
          "data": {
            "text/plain": [
              "array(['JANUARY 7, 2018', 'JANUARY 15, 2018', 'AUGUST 1, 2018', ...,\n",
              "       'JANUARY 20, 2014', 'FEBRUARY 16, 2014', 'MARCH 23, 2014'],\n",
              "      dtype=object)"
            ]
          },
          "metadata": {},
          "execution_count": 29
        }
      ]
    },
    {
      "cell_type": "code",
      "source": [
        "cond = df.loc[df['last_updated'] == '1.0.19',].index"
      ],
      "metadata": {
        "id": "o9bkwQlOb_o3"
      },
      "execution_count": 30,
      "outputs": []
    },
    {
      "cell_type": "markdown",
      "source": [
        "This row has been currupted, so we will remove it from the dataframe."
      ],
      "metadata": {
        "id": "2zOGiCfQcHnx"
      }
    },
    {
      "cell_type": "code",
      "source": [
        "df.drop(cond, inplace=True)"
      ],
      "metadata": {
        "id": "l_0f7gEucKZ1"
      },
      "execution_count": 31,
      "outputs": []
    },
    {
      "cell_type": "code",
      "source": [
        "def convert_datetime(df, col):\n",
        "    df[col] = pd.to_datetime(df[col])\n",
        "    \n",
        "def extract_year_dt(df, col):\n",
        "    df[col] = df[col].dt.year\n",
        "    \n",
        "    \n",
        "convert_datetime(df, 'last_updated')\n",
        "extract_year_dt(df, 'last_updated')"
      ],
      "metadata": {
        "id": "cUYziIjbcODK"
      },
      "execution_count": 32,
      "outputs": []
    },
    {
      "cell_type": "code",
      "source": [
        "# cross check\n",
        "\n",
        "print(df['last_updated'])"
      ],
      "metadata": {
        "colab": {
          "base_uri": "https://localhost:8080/"
        },
        "id": "FXHHzh2HcTrX",
        "outputId": "857e89fe-1e31-4929-c715-fe78843c6e58"
      },
      "execution_count": 33,
      "outputs": [
        {
          "output_type": "stream",
          "name": "stdout",
          "text": [
            "0        2018\n",
            "1        2018\n",
            "2        2018\n",
            "3        2018\n",
            "4        2018\n",
            "         ... \n",
            "10836    2017\n",
            "10837    2018\n",
            "10838    2017\n",
            "10839    2015\n",
            "10840    2018\n",
            "Name: last_updated, Length: 10840, dtype: int64\n"
          ]
        }
      ]
    },
    {
      "cell_type": "code",
      "source": [],
      "metadata": {
        "id": "9ZiViK_NcYr1"
      },
      "execution_count": null,
      "outputs": []
    }
  ]
}