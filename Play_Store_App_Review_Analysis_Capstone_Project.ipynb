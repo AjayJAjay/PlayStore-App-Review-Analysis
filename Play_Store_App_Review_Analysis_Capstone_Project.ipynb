{
  "nbformat": 4,
  "nbformat_minor": 0,
  "metadata": {
    "kernelspec": {
      "display_name": "Python 3",
      "language": "python",
      "name": "python3"
    },
    "language_info": {
      "codemirror_mode": {
        "name": "ipython",
        "version": 3
      },
      "file_extension": ".py",
      "mimetype": "text/x-python",
      "name": "python",
      "nbconvert_exporter": "python",
      "pygments_lexer": "ipython3",
      "version": "3.6.6"
    },
    "colab": {
      "provenance": [],
      "include_colab_link": true
    }
  },
  "cells": [
    {
      "cell_type": "markdown",
      "metadata": {
        "id": "view-in-github",
        "colab_type": "text"
      },
      "source": [
        "<a href=\"https://colab.research.google.com/github/AjayJAjay/PlayStore-App-Review-Analysis/blob/main/Play_Store_App_Review_Analysis_Capstone_Project.ipynb\" target=\"_parent\"><img src=\"https://colab.research.google.com/assets/colab-badge.svg\" alt=\"Open In Colab\"/></a>"
      ]
    },
    {
      "cell_type": "markdown",
      "metadata": {
        "id": "Y06xIdG26kRF"
      },
      "source": [
        "## <b> The Play Store apps data has enormous potential to drive app-making businesses to success. Actionable insights can be drawn for developers to work on and capture the Android market. </b>\n",
        "\n",
        "## <b> Each app (row) has values for catergory, rating, size, and more. Another dataset contains customer reviews of the android apps.</b>\n",
        "\n",
        "## <b> Explore and analyze the data to discover key factors responsible for app engagement and success. </b>"
      ]
    },
    {
      "cell_type": "markdown",
      "source": [
        "**Exploratory Analysis** ;\n",
        "To begin this exploratory analysis, first we are going to use matplotlib to import libraries and define functions for plotting the data."
      ],
      "metadata": {
        "id": "cC36izgXoDSl"
      }
    },
    {
      "cell_type": "markdown",
      "source": [
        "1.First procedure is to Importing all the packages and Data we required."
      ],
      "metadata": {
        "id": "2uwYENnZgoKO"
      }
    },
    {
      "cell_type": "code",
      "metadata": {
        "id": "dByMsuzT8Tnw"
      },
      "source": [
        "import numpy as np \n",
        "import pandas as pd \n",
        "import seaborn as sns\n",
        "import plotly.graph_objs as go\n",
        "import matplotlib.pyplot as plt\n",
        "%matplotlib inline\n",
        "from scipy import stats"
      ],
      "execution_count": 2,
      "outputs": []
    },
    {
      "cell_type": "markdown",
      "source": [
        "2. Now we have to Mount required content from gdrive."
      ],
      "metadata": {
        "id": "yxmaEUPehGwl"
      }
    },
    {
      "cell_type": "code",
      "source": [
        "from google.colab import drive\n",
        "drive.mount('/content/gdrive')"
      ],
      "metadata": {
        "colab": {
          "base_uri": "https://localhost:8080/"
        },
        "id": "_uRv6Ux3dLXm",
        "outputId": "5e54db9a-bfe5-4063-f026-a15b8e61ebf4"
      },
      "execution_count": 3,
      "outputs": [
        {
          "output_type": "stream",
          "name": "stdout",
          "text": [
            "Mounted at /content/gdrive\n"
          ]
        }
      ]
    },
    {
      "cell_type": "markdown",
      "source": [
        "3. Create a path as **df=pd.read_csv** to attach a Play Store DATA and also for User Reviews in our Notebook."
      ],
      "metadata": {
        "id": "fwe8A50dhcLl"
      }
    },
    {
      "cell_type": "code",
      "source": [
        "df = pd.read_csv('/content/gdrive/MyDrive/EDA capston project/Play Store Data.csv', dtype='str')"
      ],
      "metadata": {
        "id": "-jd7_03mf2Fn"
      },
      "execution_count": 4,
      "outputs": []
    },
    {
      "cell_type": "code",
      "source": [
        "df1 = pd.read_csv('/content/gdrive/MyDrive/EDA capston project/User Reviews.csv', dtype='str')"
      ],
      "metadata": {
        "id": "skcdZlOXf_Z_"
      },
      "execution_count": 5,
      "outputs": []
    },
    {
      "cell_type": "markdown",
      "source": [
        "\n",
        " Now use a **.head** method to get a quick look at the first 5 rows of data. Here we can make initial thoughts on what might need to be cleaned or manipulated. "
      ],
      "metadata": {
        "id": "ZpFzQLyWi0ew"
      }
    },
    {
      "cell_type": "code",
      "source": [
        "df.head()"
      ],
      "metadata": {
        "colab": {
          "base_uri": "https://localhost:8080/",
          "height": 354
        },
        "id": "5AT2Nt5midKX",
        "outputId": "d64072b8-c8ad-4c41-e050-a240f48c665d"
      },
      "execution_count": 6,
      "outputs": [
        {
          "output_type": "execute_result",
          "data": {
            "text/plain": [
              "                                                 App        Category Rating  \\\n",
              "0     Photo Editor & Candy Camera & Grid & ScrapBook  ART_AND_DESIGN    4.1   \n",
              "1                                Coloring book moana  ART_AND_DESIGN    3.9   \n",
              "2  U Launcher Lite – FREE Live Cool Themes, Hide ...  ART_AND_DESIGN    4.7   \n",
              "3                              Sketch - Draw & Paint  ART_AND_DESIGN    4.5   \n",
              "4              Pixel Draw - Number Art Coloring Book  ART_AND_DESIGN    4.3   \n",
              "\n",
              "  Reviews  Size     Installs  Type Price Content Rating  \\\n",
              "0     159   19M      10,000+  Free     0       Everyone   \n",
              "1     967   14M     500,000+  Free     0       Everyone   \n",
              "2   87510  8.7M   5,000,000+  Free     0       Everyone   \n",
              "3  215644   25M  50,000,000+  Free     0           Teen   \n",
              "4     967  2.8M     100,000+  Free     0       Everyone   \n",
              "\n",
              "                      Genres      Last Updated         Current Ver  \\\n",
              "0               Art & Design   January 7, 2018               1.0.0   \n",
              "1  Art & Design;Pretend Play  January 15, 2018               2.0.0   \n",
              "2               Art & Design    August 1, 2018               1.2.4   \n",
              "3               Art & Design      June 8, 2018  Varies with device   \n",
              "4    Art & Design;Creativity     June 20, 2018                 1.1   \n",
              "\n",
              "    Android Ver  \n",
              "0  4.0.3 and up  \n",
              "1  4.0.3 and up  \n",
              "2  4.0.3 and up  \n",
              "3    4.2 and up  \n",
              "4    4.4 and up  "
            ],
            "text/html": [
              "\n",
              "  <div id=\"df-5f839a05-b1d6-448d-b1f1-6aeb3de3b112\">\n",
              "    <div class=\"colab-df-container\">\n",
              "      <div>\n",
              "<style scoped>\n",
              "    .dataframe tbody tr th:only-of-type {\n",
              "        vertical-align: middle;\n",
              "    }\n",
              "\n",
              "    .dataframe tbody tr th {\n",
              "        vertical-align: top;\n",
              "    }\n",
              "\n",
              "    .dataframe thead th {\n",
              "        text-align: right;\n",
              "    }\n",
              "</style>\n",
              "<table border=\"1\" class=\"dataframe\">\n",
              "  <thead>\n",
              "    <tr style=\"text-align: right;\">\n",
              "      <th></th>\n",
              "      <th>App</th>\n",
              "      <th>Category</th>\n",
              "      <th>Rating</th>\n",
              "      <th>Reviews</th>\n",
              "      <th>Size</th>\n",
              "      <th>Installs</th>\n",
              "      <th>Type</th>\n",
              "      <th>Price</th>\n",
              "      <th>Content Rating</th>\n",
              "      <th>Genres</th>\n",
              "      <th>Last Updated</th>\n",
              "      <th>Current Ver</th>\n",
              "      <th>Android Ver</th>\n",
              "    </tr>\n",
              "  </thead>\n",
              "  <tbody>\n",
              "    <tr>\n",
              "      <th>0</th>\n",
              "      <td>Photo Editor &amp; Candy Camera &amp; Grid &amp; ScrapBook</td>\n",
              "      <td>ART_AND_DESIGN</td>\n",
              "      <td>4.1</td>\n",
              "      <td>159</td>\n",
              "      <td>19M</td>\n",
              "      <td>10,000+</td>\n",
              "      <td>Free</td>\n",
              "      <td>0</td>\n",
              "      <td>Everyone</td>\n",
              "      <td>Art &amp; Design</td>\n",
              "      <td>January 7, 2018</td>\n",
              "      <td>1.0.0</td>\n",
              "      <td>4.0.3 and up</td>\n",
              "    </tr>\n",
              "    <tr>\n",
              "      <th>1</th>\n",
              "      <td>Coloring book moana</td>\n",
              "      <td>ART_AND_DESIGN</td>\n",
              "      <td>3.9</td>\n",
              "      <td>967</td>\n",
              "      <td>14M</td>\n",
              "      <td>500,000+</td>\n",
              "      <td>Free</td>\n",
              "      <td>0</td>\n",
              "      <td>Everyone</td>\n",
              "      <td>Art &amp; Design;Pretend Play</td>\n",
              "      <td>January 15, 2018</td>\n",
              "      <td>2.0.0</td>\n",
              "      <td>4.0.3 and up</td>\n",
              "    </tr>\n",
              "    <tr>\n",
              "      <th>2</th>\n",
              "      <td>U Launcher Lite – FREE Live Cool Themes, Hide ...</td>\n",
              "      <td>ART_AND_DESIGN</td>\n",
              "      <td>4.7</td>\n",
              "      <td>87510</td>\n",
              "      <td>8.7M</td>\n",
              "      <td>5,000,000+</td>\n",
              "      <td>Free</td>\n",
              "      <td>0</td>\n",
              "      <td>Everyone</td>\n",
              "      <td>Art &amp; Design</td>\n",
              "      <td>August 1, 2018</td>\n",
              "      <td>1.2.4</td>\n",
              "      <td>4.0.3 and up</td>\n",
              "    </tr>\n",
              "    <tr>\n",
              "      <th>3</th>\n",
              "      <td>Sketch - Draw &amp; Paint</td>\n",
              "      <td>ART_AND_DESIGN</td>\n",
              "      <td>4.5</td>\n",
              "      <td>215644</td>\n",
              "      <td>25M</td>\n",
              "      <td>50,000,000+</td>\n",
              "      <td>Free</td>\n",
              "      <td>0</td>\n",
              "      <td>Teen</td>\n",
              "      <td>Art &amp; Design</td>\n",
              "      <td>June 8, 2018</td>\n",
              "      <td>Varies with device</td>\n",
              "      <td>4.2 and up</td>\n",
              "    </tr>\n",
              "    <tr>\n",
              "      <th>4</th>\n",
              "      <td>Pixel Draw - Number Art Coloring Book</td>\n",
              "      <td>ART_AND_DESIGN</td>\n",
              "      <td>4.3</td>\n",
              "      <td>967</td>\n",
              "      <td>2.8M</td>\n",
              "      <td>100,000+</td>\n",
              "      <td>Free</td>\n",
              "      <td>0</td>\n",
              "      <td>Everyone</td>\n",
              "      <td>Art &amp; Design;Creativity</td>\n",
              "      <td>June 20, 2018</td>\n",
              "      <td>1.1</td>\n",
              "      <td>4.4 and up</td>\n",
              "    </tr>\n",
              "  </tbody>\n",
              "</table>\n",
              "</div>\n",
              "      <button class=\"colab-df-convert\" onclick=\"convertToInteractive('df-5f839a05-b1d6-448d-b1f1-6aeb3de3b112')\"\n",
              "              title=\"Convert this dataframe to an interactive table.\"\n",
              "              style=\"display:none;\">\n",
              "        \n",
              "  <svg xmlns=\"http://www.w3.org/2000/svg\" height=\"24px\"viewBox=\"0 0 24 24\"\n",
              "       width=\"24px\">\n",
              "    <path d=\"M0 0h24v24H0V0z\" fill=\"none\"/>\n",
              "    <path d=\"M18.56 5.44l.94 2.06.94-2.06 2.06-.94-2.06-.94-.94-2.06-.94 2.06-2.06.94zm-11 1L8.5 8.5l.94-2.06 2.06-.94-2.06-.94L8.5 2.5l-.94 2.06-2.06.94zm10 10l.94 2.06.94-2.06 2.06-.94-2.06-.94-.94-2.06-.94 2.06-2.06.94z\"/><path d=\"M17.41 7.96l-1.37-1.37c-.4-.4-.92-.59-1.43-.59-.52 0-1.04.2-1.43.59L10.3 9.45l-7.72 7.72c-.78.78-.78 2.05 0 2.83L4 21.41c.39.39.9.59 1.41.59.51 0 1.02-.2 1.41-.59l7.78-7.78 2.81-2.81c.8-.78.8-2.07 0-2.86zM5.41 20L4 18.59l7.72-7.72 1.47 1.35L5.41 20z\"/>\n",
              "  </svg>\n",
              "      </button>\n",
              "      \n",
              "  <style>\n",
              "    .colab-df-container {\n",
              "      display:flex;\n",
              "      flex-wrap:wrap;\n",
              "      gap: 12px;\n",
              "    }\n",
              "\n",
              "    .colab-df-convert {\n",
              "      background-color: #E8F0FE;\n",
              "      border: none;\n",
              "      border-radius: 50%;\n",
              "      cursor: pointer;\n",
              "      display: none;\n",
              "      fill: #1967D2;\n",
              "      height: 32px;\n",
              "      padding: 0 0 0 0;\n",
              "      width: 32px;\n",
              "    }\n",
              "\n",
              "    .colab-df-convert:hover {\n",
              "      background-color: #E2EBFA;\n",
              "      box-shadow: 0px 1px 2px rgba(60, 64, 67, 0.3), 0px 1px 3px 1px rgba(60, 64, 67, 0.15);\n",
              "      fill: #174EA6;\n",
              "    }\n",
              "\n",
              "    [theme=dark] .colab-df-convert {\n",
              "      background-color: #3B4455;\n",
              "      fill: #D2E3FC;\n",
              "    }\n",
              "\n",
              "    [theme=dark] .colab-df-convert:hover {\n",
              "      background-color: #434B5C;\n",
              "      box-shadow: 0px 1px 3px 1px rgba(0, 0, 0, 0.15);\n",
              "      filter: drop-shadow(0px 1px 2px rgba(0, 0, 0, 0.3));\n",
              "      fill: #FFFFFF;\n",
              "    }\n",
              "  </style>\n",
              "\n",
              "      <script>\n",
              "        const buttonEl =\n",
              "          document.querySelector('#df-5f839a05-b1d6-448d-b1f1-6aeb3de3b112 button.colab-df-convert');\n",
              "        buttonEl.style.display =\n",
              "          google.colab.kernel.accessAllowed ? 'block' : 'none';\n",
              "\n",
              "        async function convertToInteractive(key) {\n",
              "          const element = document.querySelector('#df-5f839a05-b1d6-448d-b1f1-6aeb3de3b112');\n",
              "          const dataTable =\n",
              "            await google.colab.kernel.invokeFunction('convertToInteractive',\n",
              "                                                     [key], {});\n",
              "          if (!dataTable) return;\n",
              "\n",
              "          const docLinkHtml = 'Like what you see? Visit the ' +\n",
              "            '<a target=\"_blank\" href=https://colab.research.google.com/notebooks/data_table.ipynb>data table notebook</a>'\n",
              "            + ' to learn more about interactive tables.';\n",
              "          element.innerHTML = '';\n",
              "          dataTable['output_type'] = 'display_data';\n",
              "          await google.colab.output.renderOutput(dataTable, element);\n",
              "          const docLink = document.createElement('div');\n",
              "          docLink.innerHTML = docLinkHtml;\n",
              "          element.appendChild(docLink);\n",
              "        }\n",
              "      </script>\n",
              "    </div>\n",
              "  </div>\n",
              "  "
            ]
          },
          "metadata": {},
          "execution_count": 6
        }
      ]
    },
    {
      "cell_type": "markdown",
      "source": [
        "Now use **.info** to get overall information of PlayStore Data."
      ],
      "metadata": {
        "id": "KCEIILuCpm1H"
      }
    },
    {
      "cell_type": "code",
      "source": [
        "df.info()"
      ],
      "metadata": {
        "colab": {
          "base_uri": "https://localhost:8080/"
        },
        "id": "If4OAxs2n56h",
        "outputId": "cb0ee9be-5df5-4ec4-bfc5-dc965120797b"
      },
      "execution_count": 7,
      "outputs": [
        {
          "output_type": "stream",
          "name": "stdout",
          "text": [
            "<class 'pandas.core.frame.DataFrame'>\n",
            "RangeIndex: 10841 entries, 0 to 10840\n",
            "Data columns (total 13 columns):\n",
            " #   Column          Non-Null Count  Dtype \n",
            "---  ------          --------------  ----- \n",
            " 0   App             10841 non-null  object\n",
            " 1   Category        10841 non-null  object\n",
            " 2   Rating          9367 non-null   object\n",
            " 3   Reviews         10841 non-null  object\n",
            " 4   Size            10841 non-null  object\n",
            " 5   Installs        10841 non-null  object\n",
            " 6   Type            10840 non-null  object\n",
            " 7   Price           10841 non-null  object\n",
            " 8   Content Rating  10840 non-null  object\n",
            " 9   Genres          10841 non-null  object\n",
            " 10  Last Updated    10841 non-null  object\n",
            " 11  Current Ver     10833 non-null  object\n",
            " 12  Android Ver     10838 non-null  object\n",
            "dtypes: object(13)\n",
            "memory usage: 1.1+ MB\n"
          ]
        }
      ]
    },
    {
      "cell_type": "markdown",
      "source": [
        "Now use **.shape** to get overall *rows and columns* details."
      ],
      "metadata": {
        "id": "2bLHT0kRqUtJ"
      }
    },
    {
      "cell_type": "code",
      "source": [
        "df.shape"
      ],
      "metadata": {
        "colab": {
          "base_uri": "https://localhost:8080/"
        },
        "id": "dwWTn2AlqTLo",
        "outputId": "832cc532-8033-460e-8267-84cffca8d531"
      },
      "execution_count": 8,
      "outputs": [
        {
          "output_type": "execute_result",
          "data": {
            "text/plain": [
              "(10841, 13)"
            ]
          },
          "metadata": {},
          "execution_count": 8
        }
      ]
    },
    {
      "cell_type": "markdown",
      "source": [
        "Now we have to use **DATA CLEANING PHASE** , by cleaning our data , we can recognise and analyse our data easily."
      ],
      "metadata": {
        "id": "fqjN_dntrKid"
      }
    },
    {
      "cell_type": "code",
      "source": [
        "# clean columns names and values\n",
        "\n",
        "def clean_columns(df):\n",
        "    df.columns = df.columns.str.strip().str.lower().str.replace(' ', '_')\n",
        "    \n",
        "clean_columns(df)\n",
        "\n",
        "def clean_vals(df):\n",
        "    for col in df.columns:\n",
        "        df[col] = df[col].str.strip().str.upper().str.replace('\\t|\\n', '', regex=True)\n",
        "     \n",
        "clean_vals(df)"
      ],
      "metadata": {
        "id": "yY-_eKAEqttN"
      },
      "execution_count": 9,
      "outputs": []
    },
    {
      "cell_type": "code",
      "source": [
        "# now check the Data\n",
        "df.head()"
      ],
      "metadata": {
        "colab": {
          "base_uri": "https://localhost:8080/",
          "height": 424
        },
        "id": "fw3BuE8isSdS",
        "outputId": "ae777b7d-d377-41aa-a625-1fb840b946ca"
      },
      "execution_count": 10,
      "outputs": [
        {
          "output_type": "execute_result",
          "data": {
            "text/plain": [
              "                                                 app        category rating  \\\n",
              "0     PHOTO EDITOR & CANDY CAMERA & GRID & SCRAPBOOK  ART_AND_DESIGN    4.1   \n",
              "1                                COLORING BOOK MOANA  ART_AND_DESIGN    3.9   \n",
              "2  U LAUNCHER LITE – FREE LIVE COOL THEMES, HIDE ...  ART_AND_DESIGN    4.7   \n",
              "3                              SKETCH - DRAW & PAINT  ART_AND_DESIGN    4.5   \n",
              "4              PIXEL DRAW - NUMBER ART COLORING BOOK  ART_AND_DESIGN    4.3   \n",
              "\n",
              "  reviews  size     installs  type price content_rating  \\\n",
              "0     159   19M      10,000+  FREE     0       EVERYONE   \n",
              "1     967   14M     500,000+  FREE     0       EVERYONE   \n",
              "2   87510  8.7M   5,000,000+  FREE     0       EVERYONE   \n",
              "3  215644   25M  50,000,000+  FREE     0           TEEN   \n",
              "4     967  2.8M     100,000+  FREE     0       EVERYONE   \n",
              "\n",
              "                      genres      last_updated         current_ver  \\\n",
              "0               ART & DESIGN   JANUARY 7, 2018               1.0.0   \n",
              "1  ART & DESIGN;PRETEND PLAY  JANUARY 15, 2018               2.0.0   \n",
              "2               ART & DESIGN    AUGUST 1, 2018               1.2.4   \n",
              "3               ART & DESIGN      JUNE 8, 2018  VARIES WITH DEVICE   \n",
              "4    ART & DESIGN;CREATIVITY     JUNE 20, 2018                 1.1   \n",
              "\n",
              "    android_ver  \n",
              "0  4.0.3 AND UP  \n",
              "1  4.0.3 AND UP  \n",
              "2  4.0.3 AND UP  \n",
              "3    4.2 AND UP  \n",
              "4    4.4 AND UP  "
            ],
            "text/html": [
              "\n",
              "  <div id=\"df-75676acd-a654-4d0c-a7d9-3b0c804d7a7e\">\n",
              "    <div class=\"colab-df-container\">\n",
              "      <div>\n",
              "<style scoped>\n",
              "    .dataframe tbody tr th:only-of-type {\n",
              "        vertical-align: middle;\n",
              "    }\n",
              "\n",
              "    .dataframe tbody tr th {\n",
              "        vertical-align: top;\n",
              "    }\n",
              "\n",
              "    .dataframe thead th {\n",
              "        text-align: right;\n",
              "    }\n",
              "</style>\n",
              "<table border=\"1\" class=\"dataframe\">\n",
              "  <thead>\n",
              "    <tr style=\"text-align: right;\">\n",
              "      <th></th>\n",
              "      <th>app</th>\n",
              "      <th>category</th>\n",
              "      <th>rating</th>\n",
              "      <th>reviews</th>\n",
              "      <th>size</th>\n",
              "      <th>installs</th>\n",
              "      <th>type</th>\n",
              "      <th>price</th>\n",
              "      <th>content_rating</th>\n",
              "      <th>genres</th>\n",
              "      <th>last_updated</th>\n",
              "      <th>current_ver</th>\n",
              "      <th>android_ver</th>\n",
              "    </tr>\n",
              "  </thead>\n",
              "  <tbody>\n",
              "    <tr>\n",
              "      <th>0</th>\n",
              "      <td>PHOTO EDITOR &amp; CANDY CAMERA &amp; GRID &amp; SCRAPBOOK</td>\n",
              "      <td>ART_AND_DESIGN</td>\n",
              "      <td>4.1</td>\n",
              "      <td>159</td>\n",
              "      <td>19M</td>\n",
              "      <td>10,000+</td>\n",
              "      <td>FREE</td>\n",
              "      <td>0</td>\n",
              "      <td>EVERYONE</td>\n",
              "      <td>ART &amp; DESIGN</td>\n",
              "      <td>JANUARY 7, 2018</td>\n",
              "      <td>1.0.0</td>\n",
              "      <td>4.0.3 AND UP</td>\n",
              "    </tr>\n",
              "    <tr>\n",
              "      <th>1</th>\n",
              "      <td>COLORING BOOK MOANA</td>\n",
              "      <td>ART_AND_DESIGN</td>\n",
              "      <td>3.9</td>\n",
              "      <td>967</td>\n",
              "      <td>14M</td>\n",
              "      <td>500,000+</td>\n",
              "      <td>FREE</td>\n",
              "      <td>0</td>\n",
              "      <td>EVERYONE</td>\n",
              "      <td>ART &amp; DESIGN;PRETEND PLAY</td>\n",
              "      <td>JANUARY 15, 2018</td>\n",
              "      <td>2.0.0</td>\n",
              "      <td>4.0.3 AND UP</td>\n",
              "    </tr>\n",
              "    <tr>\n",
              "      <th>2</th>\n",
              "      <td>U LAUNCHER LITE – FREE LIVE COOL THEMES, HIDE ...</td>\n",
              "      <td>ART_AND_DESIGN</td>\n",
              "      <td>4.7</td>\n",
              "      <td>87510</td>\n",
              "      <td>8.7M</td>\n",
              "      <td>5,000,000+</td>\n",
              "      <td>FREE</td>\n",
              "      <td>0</td>\n",
              "      <td>EVERYONE</td>\n",
              "      <td>ART &amp; DESIGN</td>\n",
              "      <td>AUGUST 1, 2018</td>\n",
              "      <td>1.2.4</td>\n",
              "      <td>4.0.3 AND UP</td>\n",
              "    </tr>\n",
              "    <tr>\n",
              "      <th>3</th>\n",
              "      <td>SKETCH - DRAW &amp; PAINT</td>\n",
              "      <td>ART_AND_DESIGN</td>\n",
              "      <td>4.5</td>\n",
              "      <td>215644</td>\n",
              "      <td>25M</td>\n",
              "      <td>50,000,000+</td>\n",
              "      <td>FREE</td>\n",
              "      <td>0</td>\n",
              "      <td>TEEN</td>\n",
              "      <td>ART &amp; DESIGN</td>\n",
              "      <td>JUNE 8, 2018</td>\n",
              "      <td>VARIES WITH DEVICE</td>\n",
              "      <td>4.2 AND UP</td>\n",
              "    </tr>\n",
              "    <tr>\n",
              "      <th>4</th>\n",
              "      <td>PIXEL DRAW - NUMBER ART COLORING BOOK</td>\n",
              "      <td>ART_AND_DESIGN</td>\n",
              "      <td>4.3</td>\n",
              "      <td>967</td>\n",
              "      <td>2.8M</td>\n",
              "      <td>100,000+</td>\n",
              "      <td>FREE</td>\n",
              "      <td>0</td>\n",
              "      <td>EVERYONE</td>\n",
              "      <td>ART &amp; DESIGN;CREATIVITY</td>\n",
              "      <td>JUNE 20, 2018</td>\n",
              "      <td>1.1</td>\n",
              "      <td>4.4 AND UP</td>\n",
              "    </tr>\n",
              "  </tbody>\n",
              "</table>\n",
              "</div>\n",
              "      <button class=\"colab-df-convert\" onclick=\"convertToInteractive('df-75676acd-a654-4d0c-a7d9-3b0c804d7a7e')\"\n",
              "              title=\"Convert this dataframe to an interactive table.\"\n",
              "              style=\"display:none;\">\n",
              "        \n",
              "  <svg xmlns=\"http://www.w3.org/2000/svg\" height=\"24px\"viewBox=\"0 0 24 24\"\n",
              "       width=\"24px\">\n",
              "    <path d=\"M0 0h24v24H0V0z\" fill=\"none\"/>\n",
              "    <path d=\"M18.56 5.44l.94 2.06.94-2.06 2.06-.94-2.06-.94-.94-2.06-.94 2.06-2.06.94zm-11 1L8.5 8.5l.94-2.06 2.06-.94-2.06-.94L8.5 2.5l-.94 2.06-2.06.94zm10 10l.94 2.06.94-2.06 2.06-.94-2.06-.94-.94-2.06-.94 2.06-2.06.94z\"/><path d=\"M17.41 7.96l-1.37-1.37c-.4-.4-.92-.59-1.43-.59-.52 0-1.04.2-1.43.59L10.3 9.45l-7.72 7.72c-.78.78-.78 2.05 0 2.83L4 21.41c.39.39.9.59 1.41.59.51 0 1.02-.2 1.41-.59l7.78-7.78 2.81-2.81c.8-.78.8-2.07 0-2.86zM5.41 20L4 18.59l7.72-7.72 1.47 1.35L5.41 20z\"/>\n",
              "  </svg>\n",
              "      </button>\n",
              "      \n",
              "  <style>\n",
              "    .colab-df-container {\n",
              "      display:flex;\n",
              "      flex-wrap:wrap;\n",
              "      gap: 12px;\n",
              "    }\n",
              "\n",
              "    .colab-df-convert {\n",
              "      background-color: #E8F0FE;\n",
              "      border: none;\n",
              "      border-radius: 50%;\n",
              "      cursor: pointer;\n",
              "      display: none;\n",
              "      fill: #1967D2;\n",
              "      height: 32px;\n",
              "      padding: 0 0 0 0;\n",
              "      width: 32px;\n",
              "    }\n",
              "\n",
              "    .colab-df-convert:hover {\n",
              "      background-color: #E2EBFA;\n",
              "      box-shadow: 0px 1px 2px rgba(60, 64, 67, 0.3), 0px 1px 3px 1px rgba(60, 64, 67, 0.15);\n",
              "      fill: #174EA6;\n",
              "    }\n",
              "\n",
              "    [theme=dark] .colab-df-convert {\n",
              "      background-color: #3B4455;\n",
              "      fill: #D2E3FC;\n",
              "    }\n",
              "\n",
              "    [theme=dark] .colab-df-convert:hover {\n",
              "      background-color: #434B5C;\n",
              "      box-shadow: 0px 1px 3px 1px rgba(0, 0, 0, 0.15);\n",
              "      filter: drop-shadow(0px 1px 2px rgba(0, 0, 0, 0.3));\n",
              "      fill: #FFFFFF;\n",
              "    }\n",
              "  </style>\n",
              "\n",
              "      <script>\n",
              "        const buttonEl =\n",
              "          document.querySelector('#df-75676acd-a654-4d0c-a7d9-3b0c804d7a7e button.colab-df-convert');\n",
              "        buttonEl.style.display =\n",
              "          google.colab.kernel.accessAllowed ? 'block' : 'none';\n",
              "\n",
              "        async function convertToInteractive(key) {\n",
              "          const element = document.querySelector('#df-75676acd-a654-4d0c-a7d9-3b0c804d7a7e');\n",
              "          const dataTable =\n",
              "            await google.colab.kernel.invokeFunction('convertToInteractive',\n",
              "                                                     [key], {});\n",
              "          if (!dataTable) return;\n",
              "\n",
              "          const docLinkHtml = 'Like what you see? Visit the ' +\n",
              "            '<a target=\"_blank\" href=https://colab.research.google.com/notebooks/data_table.ipynb>data table notebook</a>'\n",
              "            + ' to learn more about interactive tables.';\n",
              "          element.innerHTML = '';\n",
              "          dataTable['output_type'] = 'display_data';\n",
              "          await google.colab.output.renderOutput(dataTable, element);\n",
              "          const docLink = document.createElement('div');\n",
              "          docLink.innerHTML = docLinkHtml;\n",
              "          element.appendChild(docLink);\n",
              "        }\n",
              "      </script>\n",
              "    </div>\n",
              "  </div>\n",
              "  "
            ]
          },
          "metadata": {},
          "execution_count": 10
        }
      ]
    },
    {
      "cell_type": "markdown",
      "source": [
        "**Size**\n",
        "\n",
        "Now we need to see what letters there are in the size column so that we can normalize the data.\n",
        "\n",
        "As we know that 1 MB is equal to 1024 KB."
      ],
      "metadata": {
        "id": "aDnG5BpIs6V_"
      }
    },
    {
      "cell_type": "code",
      "source": [
        "print(df['size'].str.replace('\\d+', '').unique())"
      ],
      "metadata": {
        "colab": {
          "base_uri": "https://localhost:8080/"
        },
        "id": "uMuE936Bsd2Z",
        "outputId": "84b5f401-bab8-4b30-f0da-9fa877990f10"
      },
      "execution_count": 11,
      "outputs": [
        {
          "output_type": "stream",
          "name": "stdout",
          "text": [
            "['M' '.M' 'VARIES WITH DEVICE' 'K' '.K' ',+']\n"
          ]
        },
        {
          "output_type": "stream",
          "name": "stderr",
          "text": [
            "/usr/local/lib/python3.7/dist-packages/ipykernel_launcher.py:1: FutureWarning: The default value of regex will change from True to False in a future version.\n",
            "  \"\"\"Entry point for launching an IPython kernel.\n"
          ]
        }
      ]
    },
    {
      "cell_type": "markdown",
      "source": [
        "From above code , we can see that we have our size data in the form of megabytes, kilobytes."
      ],
      "metadata": {
        "id": "w5HMPJwPYzsH"
      }
    },
    {
      "cell_type": "code",
      "source": [
        "df.loc[df['size'].str.contains('M'),].head()"
      ],
      "metadata": {
        "id": "kA5kjAYStQkI",
        "colab": {
          "base_uri": "https://localhost:8080/",
          "height": 424
        },
        "outputId": "617d7a4e-c429-44b8-b23b-b62f783c0146"
      },
      "execution_count": 12,
      "outputs": [
        {
          "output_type": "execute_result",
          "data": {
            "text/plain": [
              "                                                 app        category rating  \\\n",
              "0     PHOTO EDITOR & CANDY CAMERA & GRID & SCRAPBOOK  ART_AND_DESIGN    4.1   \n",
              "1                                COLORING BOOK MOANA  ART_AND_DESIGN    3.9   \n",
              "2  U LAUNCHER LITE – FREE LIVE COOL THEMES, HIDE ...  ART_AND_DESIGN    4.7   \n",
              "3                              SKETCH - DRAW & PAINT  ART_AND_DESIGN    4.5   \n",
              "4              PIXEL DRAW - NUMBER ART COLORING BOOK  ART_AND_DESIGN    4.3   \n",
              "\n",
              "  reviews  size     installs  type price content_rating  \\\n",
              "0     159   19M      10,000+  FREE     0       EVERYONE   \n",
              "1     967   14M     500,000+  FREE     0       EVERYONE   \n",
              "2   87510  8.7M   5,000,000+  FREE     0       EVERYONE   \n",
              "3  215644   25M  50,000,000+  FREE     0           TEEN   \n",
              "4     967  2.8M     100,000+  FREE     0       EVERYONE   \n",
              "\n",
              "                      genres      last_updated         current_ver  \\\n",
              "0               ART & DESIGN   JANUARY 7, 2018               1.0.0   \n",
              "1  ART & DESIGN;PRETEND PLAY  JANUARY 15, 2018               2.0.0   \n",
              "2               ART & DESIGN    AUGUST 1, 2018               1.2.4   \n",
              "3               ART & DESIGN      JUNE 8, 2018  VARIES WITH DEVICE   \n",
              "4    ART & DESIGN;CREATIVITY     JUNE 20, 2018                 1.1   \n",
              "\n",
              "    android_ver  \n",
              "0  4.0.3 AND UP  \n",
              "1  4.0.3 AND UP  \n",
              "2  4.0.3 AND UP  \n",
              "3    4.2 AND UP  \n",
              "4    4.4 AND UP  "
            ],
            "text/html": [
              "\n",
              "  <div id=\"df-cf7f9a10-1cd4-4b16-bb6b-e475208f47dc\">\n",
              "    <div class=\"colab-df-container\">\n",
              "      <div>\n",
              "<style scoped>\n",
              "    .dataframe tbody tr th:only-of-type {\n",
              "        vertical-align: middle;\n",
              "    }\n",
              "\n",
              "    .dataframe tbody tr th {\n",
              "        vertical-align: top;\n",
              "    }\n",
              "\n",
              "    .dataframe thead th {\n",
              "        text-align: right;\n",
              "    }\n",
              "</style>\n",
              "<table border=\"1\" class=\"dataframe\">\n",
              "  <thead>\n",
              "    <tr style=\"text-align: right;\">\n",
              "      <th></th>\n",
              "      <th>app</th>\n",
              "      <th>category</th>\n",
              "      <th>rating</th>\n",
              "      <th>reviews</th>\n",
              "      <th>size</th>\n",
              "      <th>installs</th>\n",
              "      <th>type</th>\n",
              "      <th>price</th>\n",
              "      <th>content_rating</th>\n",
              "      <th>genres</th>\n",
              "      <th>last_updated</th>\n",
              "      <th>current_ver</th>\n",
              "      <th>android_ver</th>\n",
              "    </tr>\n",
              "  </thead>\n",
              "  <tbody>\n",
              "    <tr>\n",
              "      <th>0</th>\n",
              "      <td>PHOTO EDITOR &amp; CANDY CAMERA &amp; GRID &amp; SCRAPBOOK</td>\n",
              "      <td>ART_AND_DESIGN</td>\n",
              "      <td>4.1</td>\n",
              "      <td>159</td>\n",
              "      <td>19M</td>\n",
              "      <td>10,000+</td>\n",
              "      <td>FREE</td>\n",
              "      <td>0</td>\n",
              "      <td>EVERYONE</td>\n",
              "      <td>ART &amp; DESIGN</td>\n",
              "      <td>JANUARY 7, 2018</td>\n",
              "      <td>1.0.0</td>\n",
              "      <td>4.0.3 AND UP</td>\n",
              "    </tr>\n",
              "    <tr>\n",
              "      <th>1</th>\n",
              "      <td>COLORING BOOK MOANA</td>\n",
              "      <td>ART_AND_DESIGN</td>\n",
              "      <td>3.9</td>\n",
              "      <td>967</td>\n",
              "      <td>14M</td>\n",
              "      <td>500,000+</td>\n",
              "      <td>FREE</td>\n",
              "      <td>0</td>\n",
              "      <td>EVERYONE</td>\n",
              "      <td>ART &amp; DESIGN;PRETEND PLAY</td>\n",
              "      <td>JANUARY 15, 2018</td>\n",
              "      <td>2.0.0</td>\n",
              "      <td>4.0.3 AND UP</td>\n",
              "    </tr>\n",
              "    <tr>\n",
              "      <th>2</th>\n",
              "      <td>U LAUNCHER LITE – FREE LIVE COOL THEMES, HIDE ...</td>\n",
              "      <td>ART_AND_DESIGN</td>\n",
              "      <td>4.7</td>\n",
              "      <td>87510</td>\n",
              "      <td>8.7M</td>\n",
              "      <td>5,000,000+</td>\n",
              "      <td>FREE</td>\n",
              "      <td>0</td>\n",
              "      <td>EVERYONE</td>\n",
              "      <td>ART &amp; DESIGN</td>\n",
              "      <td>AUGUST 1, 2018</td>\n",
              "      <td>1.2.4</td>\n",
              "      <td>4.0.3 AND UP</td>\n",
              "    </tr>\n",
              "    <tr>\n",
              "      <th>3</th>\n",
              "      <td>SKETCH - DRAW &amp; PAINT</td>\n",
              "      <td>ART_AND_DESIGN</td>\n",
              "      <td>4.5</td>\n",
              "      <td>215644</td>\n",
              "      <td>25M</td>\n",
              "      <td>50,000,000+</td>\n",
              "      <td>FREE</td>\n",
              "      <td>0</td>\n",
              "      <td>TEEN</td>\n",
              "      <td>ART &amp; DESIGN</td>\n",
              "      <td>JUNE 8, 2018</td>\n",
              "      <td>VARIES WITH DEVICE</td>\n",
              "      <td>4.2 AND UP</td>\n",
              "    </tr>\n",
              "    <tr>\n",
              "      <th>4</th>\n",
              "      <td>PIXEL DRAW - NUMBER ART COLORING BOOK</td>\n",
              "      <td>ART_AND_DESIGN</td>\n",
              "      <td>4.3</td>\n",
              "      <td>967</td>\n",
              "      <td>2.8M</td>\n",
              "      <td>100,000+</td>\n",
              "      <td>FREE</td>\n",
              "      <td>0</td>\n",
              "      <td>EVERYONE</td>\n",
              "      <td>ART &amp; DESIGN;CREATIVITY</td>\n",
              "      <td>JUNE 20, 2018</td>\n",
              "      <td>1.1</td>\n",
              "      <td>4.4 AND UP</td>\n",
              "    </tr>\n",
              "  </tbody>\n",
              "</table>\n",
              "</div>\n",
              "      <button class=\"colab-df-convert\" onclick=\"convertToInteractive('df-cf7f9a10-1cd4-4b16-bb6b-e475208f47dc')\"\n",
              "              title=\"Convert this dataframe to an interactive table.\"\n",
              "              style=\"display:none;\">\n",
              "        \n",
              "  <svg xmlns=\"http://www.w3.org/2000/svg\" height=\"24px\"viewBox=\"0 0 24 24\"\n",
              "       width=\"24px\">\n",
              "    <path d=\"M0 0h24v24H0V0z\" fill=\"none\"/>\n",
              "    <path d=\"M18.56 5.44l.94 2.06.94-2.06 2.06-.94-2.06-.94-.94-2.06-.94 2.06-2.06.94zm-11 1L8.5 8.5l.94-2.06 2.06-.94-2.06-.94L8.5 2.5l-.94 2.06-2.06.94zm10 10l.94 2.06.94-2.06 2.06-.94-2.06-.94-.94-2.06-.94 2.06-2.06.94z\"/><path d=\"M17.41 7.96l-1.37-1.37c-.4-.4-.92-.59-1.43-.59-.52 0-1.04.2-1.43.59L10.3 9.45l-7.72 7.72c-.78.78-.78 2.05 0 2.83L4 21.41c.39.39.9.59 1.41.59.51 0 1.02-.2 1.41-.59l7.78-7.78 2.81-2.81c.8-.78.8-2.07 0-2.86zM5.41 20L4 18.59l7.72-7.72 1.47 1.35L5.41 20z\"/>\n",
              "  </svg>\n",
              "      </button>\n",
              "      \n",
              "  <style>\n",
              "    .colab-df-container {\n",
              "      display:flex;\n",
              "      flex-wrap:wrap;\n",
              "      gap: 12px;\n",
              "    }\n",
              "\n",
              "    .colab-df-convert {\n",
              "      background-color: #E8F0FE;\n",
              "      border: none;\n",
              "      border-radius: 50%;\n",
              "      cursor: pointer;\n",
              "      display: none;\n",
              "      fill: #1967D2;\n",
              "      height: 32px;\n",
              "      padding: 0 0 0 0;\n",
              "      width: 32px;\n",
              "    }\n",
              "\n",
              "    .colab-df-convert:hover {\n",
              "      background-color: #E2EBFA;\n",
              "      box-shadow: 0px 1px 2px rgba(60, 64, 67, 0.3), 0px 1px 3px 1px rgba(60, 64, 67, 0.15);\n",
              "      fill: #174EA6;\n",
              "    }\n",
              "\n",
              "    [theme=dark] .colab-df-convert {\n",
              "      background-color: #3B4455;\n",
              "      fill: #D2E3FC;\n",
              "    }\n",
              "\n",
              "    [theme=dark] .colab-df-convert:hover {\n",
              "      background-color: #434B5C;\n",
              "      box-shadow: 0px 1px 3px 1px rgba(0, 0, 0, 0.15);\n",
              "      filter: drop-shadow(0px 1px 2px rgba(0, 0, 0, 0.3));\n",
              "      fill: #FFFFFF;\n",
              "    }\n",
              "  </style>\n",
              "\n",
              "      <script>\n",
              "        const buttonEl =\n",
              "          document.querySelector('#df-cf7f9a10-1cd4-4b16-bb6b-e475208f47dc button.colab-df-convert');\n",
              "        buttonEl.style.display =\n",
              "          google.colab.kernel.accessAllowed ? 'block' : 'none';\n",
              "\n",
              "        async function convertToInteractive(key) {\n",
              "          const element = document.querySelector('#df-cf7f9a10-1cd4-4b16-bb6b-e475208f47dc');\n",
              "          const dataTable =\n",
              "            await google.colab.kernel.invokeFunction('convertToInteractive',\n",
              "                                                     [key], {});\n",
              "          if (!dataTable) return;\n",
              "\n",
              "          const docLinkHtml = 'Like what you see? Visit the ' +\n",
              "            '<a target=\"_blank\" href=https://colab.research.google.com/notebooks/data_table.ipynb>data table notebook</a>'\n",
              "            + ' to learn more about interactive tables.';\n",
              "          element.innerHTML = '';\n",
              "          dataTable['output_type'] = 'display_data';\n",
              "          await google.colab.output.renderOutput(dataTable, element);\n",
              "          const docLink = document.createElement('div');\n",
              "          docLink.innerHTML = docLinkHtml;\n",
              "          element.appendChild(docLink);\n",
              "        }\n",
              "      </script>\n",
              "    </div>\n",
              "  </div>\n",
              "  "
            ]
          },
          "metadata": {},
          "execution_count": 12
        }
      ]
    },
    {
      "cell_type": "code",
      "source": [
        "# Now we will converting mb data into kb data\n",
        "\n",
        "def convert_mb_kb(df):\n",
        "    df.loc[df['size'].str.contains('M'),'size'] = df.loc[df['size'].str.contains('M'),'size'].str.rstrip('M').astype(float) * 1024\n",
        "\n",
        "convert_mb_kb(df)"
      ],
      "metadata": {
        "id": "k-2xxlXeZYXZ"
      },
      "execution_count": 13,
      "outputs": []
    },
    {
      "cell_type": "code",
      "source": [
        "df.head()"
      ],
      "metadata": {
        "colab": {
          "base_uri": "https://localhost:8080/",
          "height": 458
        },
        "id": "V6j1UYILZhHQ",
        "outputId": "9d66a7ec-3f72-4803-c049-33a6825e26eb"
      },
      "execution_count": 14,
      "outputs": [
        {
          "output_type": "execute_result",
          "data": {
            "text/plain": [
              "                                                 app        category rating  \\\n",
              "0     PHOTO EDITOR & CANDY CAMERA & GRID & SCRAPBOOK  ART_AND_DESIGN    4.1   \n",
              "1                                COLORING BOOK MOANA  ART_AND_DESIGN    3.9   \n",
              "2  U LAUNCHER LITE – FREE LIVE COOL THEMES, HIDE ...  ART_AND_DESIGN    4.7   \n",
              "3                              SKETCH - DRAW & PAINT  ART_AND_DESIGN    4.5   \n",
              "4              PIXEL DRAW - NUMBER ART COLORING BOOK  ART_AND_DESIGN    4.3   \n",
              "\n",
              "  reviews     size     installs  type price content_rating  \\\n",
              "0     159  19456.0      10,000+  FREE     0       EVERYONE   \n",
              "1     967  14336.0     500,000+  FREE     0       EVERYONE   \n",
              "2   87510   8908.8   5,000,000+  FREE     0       EVERYONE   \n",
              "3  215644  25600.0  50,000,000+  FREE     0           TEEN   \n",
              "4     967   2867.2     100,000+  FREE     0       EVERYONE   \n",
              "\n",
              "                      genres      last_updated         current_ver  \\\n",
              "0               ART & DESIGN   JANUARY 7, 2018               1.0.0   \n",
              "1  ART & DESIGN;PRETEND PLAY  JANUARY 15, 2018               2.0.0   \n",
              "2               ART & DESIGN    AUGUST 1, 2018               1.2.4   \n",
              "3               ART & DESIGN      JUNE 8, 2018  VARIES WITH DEVICE   \n",
              "4    ART & DESIGN;CREATIVITY     JUNE 20, 2018                 1.1   \n",
              "\n",
              "    android_ver  \n",
              "0  4.0.3 AND UP  \n",
              "1  4.0.3 AND UP  \n",
              "2  4.0.3 AND UP  \n",
              "3    4.2 AND UP  \n",
              "4    4.4 AND UP  "
            ],
            "text/html": [
              "\n",
              "  <div id=\"df-ff6ca11f-3486-4957-85eb-4c19e5fe9819\">\n",
              "    <div class=\"colab-df-container\">\n",
              "      <div>\n",
              "<style scoped>\n",
              "    .dataframe tbody tr th:only-of-type {\n",
              "        vertical-align: middle;\n",
              "    }\n",
              "\n",
              "    .dataframe tbody tr th {\n",
              "        vertical-align: top;\n",
              "    }\n",
              "\n",
              "    .dataframe thead th {\n",
              "        text-align: right;\n",
              "    }\n",
              "</style>\n",
              "<table border=\"1\" class=\"dataframe\">\n",
              "  <thead>\n",
              "    <tr style=\"text-align: right;\">\n",
              "      <th></th>\n",
              "      <th>app</th>\n",
              "      <th>category</th>\n",
              "      <th>rating</th>\n",
              "      <th>reviews</th>\n",
              "      <th>size</th>\n",
              "      <th>installs</th>\n",
              "      <th>type</th>\n",
              "      <th>price</th>\n",
              "      <th>content_rating</th>\n",
              "      <th>genres</th>\n",
              "      <th>last_updated</th>\n",
              "      <th>current_ver</th>\n",
              "      <th>android_ver</th>\n",
              "    </tr>\n",
              "  </thead>\n",
              "  <tbody>\n",
              "    <tr>\n",
              "      <th>0</th>\n",
              "      <td>PHOTO EDITOR &amp; CANDY CAMERA &amp; GRID &amp; SCRAPBOOK</td>\n",
              "      <td>ART_AND_DESIGN</td>\n",
              "      <td>4.1</td>\n",
              "      <td>159</td>\n",
              "      <td>19456.0</td>\n",
              "      <td>10,000+</td>\n",
              "      <td>FREE</td>\n",
              "      <td>0</td>\n",
              "      <td>EVERYONE</td>\n",
              "      <td>ART &amp; DESIGN</td>\n",
              "      <td>JANUARY 7, 2018</td>\n",
              "      <td>1.0.0</td>\n",
              "      <td>4.0.3 AND UP</td>\n",
              "    </tr>\n",
              "    <tr>\n",
              "      <th>1</th>\n",
              "      <td>COLORING BOOK MOANA</td>\n",
              "      <td>ART_AND_DESIGN</td>\n",
              "      <td>3.9</td>\n",
              "      <td>967</td>\n",
              "      <td>14336.0</td>\n",
              "      <td>500,000+</td>\n",
              "      <td>FREE</td>\n",
              "      <td>0</td>\n",
              "      <td>EVERYONE</td>\n",
              "      <td>ART &amp; DESIGN;PRETEND PLAY</td>\n",
              "      <td>JANUARY 15, 2018</td>\n",
              "      <td>2.0.0</td>\n",
              "      <td>4.0.3 AND UP</td>\n",
              "    </tr>\n",
              "    <tr>\n",
              "      <th>2</th>\n",
              "      <td>U LAUNCHER LITE – FREE LIVE COOL THEMES, HIDE ...</td>\n",
              "      <td>ART_AND_DESIGN</td>\n",
              "      <td>4.7</td>\n",
              "      <td>87510</td>\n",
              "      <td>8908.8</td>\n",
              "      <td>5,000,000+</td>\n",
              "      <td>FREE</td>\n",
              "      <td>0</td>\n",
              "      <td>EVERYONE</td>\n",
              "      <td>ART &amp; DESIGN</td>\n",
              "      <td>AUGUST 1, 2018</td>\n",
              "      <td>1.2.4</td>\n",
              "      <td>4.0.3 AND UP</td>\n",
              "    </tr>\n",
              "    <tr>\n",
              "      <th>3</th>\n",
              "      <td>SKETCH - DRAW &amp; PAINT</td>\n",
              "      <td>ART_AND_DESIGN</td>\n",
              "      <td>4.5</td>\n",
              "      <td>215644</td>\n",
              "      <td>25600.0</td>\n",
              "      <td>50,000,000+</td>\n",
              "      <td>FREE</td>\n",
              "      <td>0</td>\n",
              "      <td>TEEN</td>\n",
              "      <td>ART &amp; DESIGN</td>\n",
              "      <td>JUNE 8, 2018</td>\n",
              "      <td>VARIES WITH DEVICE</td>\n",
              "      <td>4.2 AND UP</td>\n",
              "    </tr>\n",
              "    <tr>\n",
              "      <th>4</th>\n",
              "      <td>PIXEL DRAW - NUMBER ART COLORING BOOK</td>\n",
              "      <td>ART_AND_DESIGN</td>\n",
              "      <td>4.3</td>\n",
              "      <td>967</td>\n",
              "      <td>2867.2</td>\n",
              "      <td>100,000+</td>\n",
              "      <td>FREE</td>\n",
              "      <td>0</td>\n",
              "      <td>EVERYONE</td>\n",
              "      <td>ART &amp; DESIGN;CREATIVITY</td>\n",
              "      <td>JUNE 20, 2018</td>\n",
              "      <td>1.1</td>\n",
              "      <td>4.4 AND UP</td>\n",
              "    </tr>\n",
              "  </tbody>\n",
              "</table>\n",
              "</div>\n",
              "      <button class=\"colab-df-convert\" onclick=\"convertToInteractive('df-ff6ca11f-3486-4957-85eb-4c19e5fe9819')\"\n",
              "              title=\"Convert this dataframe to an interactive table.\"\n",
              "              style=\"display:none;\">\n",
              "        \n",
              "  <svg xmlns=\"http://www.w3.org/2000/svg\" height=\"24px\"viewBox=\"0 0 24 24\"\n",
              "       width=\"24px\">\n",
              "    <path d=\"M0 0h24v24H0V0z\" fill=\"none\"/>\n",
              "    <path d=\"M18.56 5.44l.94 2.06.94-2.06 2.06-.94-2.06-.94-.94-2.06-.94 2.06-2.06.94zm-11 1L8.5 8.5l.94-2.06 2.06-.94-2.06-.94L8.5 2.5l-.94 2.06-2.06.94zm10 10l.94 2.06.94-2.06 2.06-.94-2.06-.94-.94-2.06-.94 2.06-2.06.94z\"/><path d=\"M17.41 7.96l-1.37-1.37c-.4-.4-.92-.59-1.43-.59-.52 0-1.04.2-1.43.59L10.3 9.45l-7.72 7.72c-.78.78-.78 2.05 0 2.83L4 21.41c.39.39.9.59 1.41.59.51 0 1.02-.2 1.41-.59l7.78-7.78 2.81-2.81c.8-.78.8-2.07 0-2.86zM5.41 20L4 18.59l7.72-7.72 1.47 1.35L5.41 20z\"/>\n",
              "  </svg>\n",
              "      </button>\n",
              "      \n",
              "  <style>\n",
              "    .colab-df-container {\n",
              "      display:flex;\n",
              "      flex-wrap:wrap;\n",
              "      gap: 12px;\n",
              "    }\n",
              "\n",
              "    .colab-df-convert {\n",
              "      background-color: #E8F0FE;\n",
              "      border: none;\n",
              "      border-radius: 50%;\n",
              "      cursor: pointer;\n",
              "      display: none;\n",
              "      fill: #1967D2;\n",
              "      height: 32px;\n",
              "      padding: 0 0 0 0;\n",
              "      width: 32px;\n",
              "    }\n",
              "\n",
              "    .colab-df-convert:hover {\n",
              "      background-color: #E2EBFA;\n",
              "      box-shadow: 0px 1px 2px rgba(60, 64, 67, 0.3), 0px 1px 3px 1px rgba(60, 64, 67, 0.15);\n",
              "      fill: #174EA6;\n",
              "    }\n",
              "\n",
              "    [theme=dark] .colab-df-convert {\n",
              "      background-color: #3B4455;\n",
              "      fill: #D2E3FC;\n",
              "    }\n",
              "\n",
              "    [theme=dark] .colab-df-convert:hover {\n",
              "      background-color: #434B5C;\n",
              "      box-shadow: 0px 1px 3px 1px rgba(0, 0, 0, 0.15);\n",
              "      filter: drop-shadow(0px 1px 2px rgba(0, 0, 0, 0.3));\n",
              "      fill: #FFFFFF;\n",
              "    }\n",
              "  </style>\n",
              "\n",
              "      <script>\n",
              "        const buttonEl =\n",
              "          document.querySelector('#df-ff6ca11f-3486-4957-85eb-4c19e5fe9819 button.colab-df-convert');\n",
              "        buttonEl.style.display =\n",
              "          google.colab.kernel.accessAllowed ? 'block' : 'none';\n",
              "\n",
              "        async function convertToInteractive(key) {\n",
              "          const element = document.querySelector('#df-ff6ca11f-3486-4957-85eb-4c19e5fe9819');\n",
              "          const dataTable =\n",
              "            await google.colab.kernel.invokeFunction('convertToInteractive',\n",
              "                                                     [key], {});\n",
              "          if (!dataTable) return;\n",
              "\n",
              "          const docLinkHtml = 'Like what you see? Visit the ' +\n",
              "            '<a target=\"_blank\" href=https://colab.research.google.com/notebooks/data_table.ipynb>data table notebook</a>'\n",
              "            + ' to learn more about interactive tables.';\n",
              "          element.innerHTML = '';\n",
              "          dataTable['output_type'] = 'display_data';\n",
              "          await google.colab.output.renderOutput(dataTable, element);\n",
              "          const docLink = document.createElement('div');\n",
              "          docLink.innerHTML = docLinkHtml;\n",
              "          element.appendChild(docLink);\n",
              "        }\n",
              "      </script>\n",
              "    </div>\n",
              "  </div>\n",
              "  "
            ]
          },
          "metadata": {},
          "execution_count": 14
        }
      ]
    },
    {
      "cell_type": "code",
      "source": [
        "# Now we will see our unique letters  present in dataset\n",
        "\n",
        "print(df['size'].astype(str).str.replace('\\d+', '').unique())"
      ],
      "metadata": {
        "colab": {
          "base_uri": "https://localhost:8080/"
        },
        "id": "Rfb0VsU_Zo4k",
        "outputId": "b352b361-0e07-40f2-c610-932009c0c9fc"
      },
      "execution_count": 15,
      "outputs": [
        {
          "output_type": "stream",
          "name": "stdout",
          "text": [
            "['.' 'VARIES WITH DEVICE' 'K' '.K' ',+']\n"
          ]
        },
        {
          "output_type": "stream",
          "name": "stderr",
          "text": [
            "/usr/local/lib/python3.7/dist-packages/ipykernel_launcher.py:3: FutureWarning: The default value of regex will change from True to False in a future version.\n",
            "  This is separate from the ipykernel package so we can avoid doing imports until\n"
          ]
        }
      ]
    },
    {
      "cell_type": "markdown",
      "source": [
        "\n",
        "Now we can simply remove the K and change the size column to say \"size (in kb)\" for clarity."
      ],
      "metadata": {
        "id": "lAgu7LX0Z6kX"
      }
    },
    {
      "cell_type": "code",
      "source": [
        "df.loc[df['size'].astype(str).str.contains('K'), 'size'] = df.loc[df['size'].astype(str).str.contains('K'), 'size'].str.replace('K', '')"
      ],
      "metadata": {
        "id": "5clngnOGZz_s"
      },
      "execution_count": 16,
      "outputs": []
    },
    {
      "cell_type": "code",
      "source": [
        "# we can see that there are now no more values containing the letter K\n",
        "\n",
        "df.loc[df['size'].astype(str).str.contains('K'), 'size']"
      ],
      "metadata": {
        "colab": {
          "base_uri": "https://localhost:8080/"
        },
        "id": "IxNMbIaPaDd6",
        "outputId": "1cdfdf04-3247-4dd4-ab26-077d7901a7c7"
      },
      "execution_count": 17,
      "outputs": [
        {
          "output_type": "execute_result",
          "data": {
            "text/plain": [
              "Series([], Name: size, dtype: object)"
            ]
          },
          "metadata": {},
          "execution_count": 17
        }
      ]
    },
    {
      "cell_type": "code",
      "source": [
        "# now we will add and clarify to the size column\n",
        "\n",
        "df.rename(columns = {'size': 'size(kb)'}, inplace=True)"
      ],
      "metadata": {
        "id": "OlUi1kLGaKPc"
      },
      "execution_count": 18,
      "outputs": []
    },
    {
      "cell_type": "code",
      "source": [
        "# cross check\n",
        "\n",
        "df.columns"
      ],
      "metadata": {
        "colab": {
          "base_uri": "https://localhost:8080/"
        },
        "id": "2PNc-c8OaPMa",
        "outputId": "e4dce043-a647-4bbd-978b-3086f7c8a03a"
      },
      "execution_count": 19,
      "outputs": [
        {
          "output_type": "execute_result",
          "data": {
            "text/plain": [
              "Index(['app', 'category', 'rating', 'reviews', 'size(kb)', 'installs', 'type',\n",
              "       'price', 'content_rating', 'genres', 'last_updated', 'current_ver',\n",
              "       'android_ver'],\n",
              "      dtype='object')"
            ]
          },
          "metadata": {},
          "execution_count": 19
        }
      ]
    },
    {
      "cell_type": "markdown",
      "source": [
        "We know that **VARIES WITH DEVICE** means unknown, or np.nan. So lets change replace those values."
      ],
      "metadata": {
        "id": "X8Zam0cWab3f"
      }
    },
    {
      "cell_type": "code",
      "source": [
        "df['size(kb)'].replace('VARIES WITH DEVICE', np.nan, inplace=True)"
      ],
      "metadata": {
        "id": "3OzUb1xtaTpm"
      },
      "execution_count": 20,
      "outputs": []
    },
    {
      "cell_type": "code",
      "source": [
        "df.loc[df['size(kb)'].isnull(),]"
      ],
      "metadata": {
        "colab": {
          "base_uri": "https://localhost:8080/",
          "height": 887
        },
        "id": "oIYdgklZapak",
        "outputId": "26520f06-4d06-48ad-c310-e466e5ae41df"
      },
      "execution_count": 21,
      "outputs": [
        {
          "output_type": "execute_result",
          "data": {
            "text/plain": [
              "                                                     app             category  \\\n",
              "37                                    FLOOR PLAN CREATOR       ART_AND_DESIGN   \n",
              "42                            TEXTGRAM - WRITE ON PHOTOS       ART_AND_DESIGN   \n",
              "52                         USED CARS AND TRUCKS FOR SALE    AUTO_AND_VEHICLES   \n",
              "67                                    ULYSSE SPEEDOMETER    AUTO_AND_VEHICLES   \n",
              "68                                                REPUVE    AUTO_AND_VEHICLES   \n",
              "...                                                  ...                  ...   \n",
              "10713  MY EARTHQUAKE ALERTS - US & WORLDWIDE EARTHQUAKES              WEATHER   \n",
              "10725                                          POSTA APP  MAPS_AND_NAVIGATION   \n",
              "10765                    CHAT FOR STRANGERS - VIDEO CHAT               SOCIAL   \n",
              "10826          FRIM: GET NEW FRIENDS ON LOCAL CHAT ROOMS               SOCIAL   \n",
              "10839                      THE SCP FOUNDATION DB FR NN5N  BOOKS_AND_REFERENCE   \n",
              "\n",
              "      rating reviews size(kb)     installs  type price content_rating  \\\n",
              "37       4.1   36639      NaN   5,000,000+  FREE     0       EVERYONE   \n",
              "42       4.4  295221      NaN  10,000,000+  FREE     0       EVERYONE   \n",
              "52       4.6   17057      NaN   1,000,000+  FREE     0       EVERYONE   \n",
              "67       4.3   40211      NaN   5,000,000+  FREE     0       EVERYONE   \n",
              "68       3.9     356      NaN     100,000+  FREE     0       EVERYONE   \n",
              "...      ...     ...      ...          ...   ...   ...            ...   \n",
              "10713    4.4    3471      NaN     100,000+  FREE     0       EVERYONE   \n",
              "10725    3.6       8      NaN       1,000+  FREE     0       EVERYONE   \n",
              "10765    3.4     622      NaN     100,000+  FREE     0     MATURE 17+   \n",
              "10826    4.0   88486      NaN   5,000,000+  FREE     0     MATURE 17+   \n",
              "10839    4.5     114      NaN       1,000+  FREE     0     MATURE 17+   \n",
              "\n",
              "                  genres        last_updated         current_ver  \\\n",
              "37          ART & DESIGN       JULY 14, 2018  VARIES WITH DEVICE   \n",
              "42          ART & DESIGN       JULY 30, 2018  VARIES WITH DEVICE   \n",
              "52       AUTO & VEHICLES       JULY 30, 2018  VARIES WITH DEVICE   \n",
              "67       AUTO & VEHICLES       JULY 30, 2018  VARIES WITH DEVICE   \n",
              "68       AUTO & VEHICLES        MAY 25, 2018  VARIES WITH DEVICE   \n",
              "...                  ...                 ...                 ...   \n",
              "10713            WEATHER       JULY 24, 2018  VARIES WITH DEVICE   \n",
              "10725  MAPS & NAVIGATION  SEPTEMBER 27, 2017  VARIES WITH DEVICE   \n",
              "10765             SOCIAL        MAY 23, 2018  VARIES WITH DEVICE   \n",
              "10826             SOCIAL      MARCH 23, 2018  VARIES WITH DEVICE   \n",
              "10839  BOOKS & REFERENCE    JANUARY 19, 2015  VARIES WITH DEVICE   \n",
              "\n",
              "              android_ver  \n",
              "37           2.3.3 AND UP  \n",
              "42     VARIES WITH DEVICE  \n",
              "52     VARIES WITH DEVICE  \n",
              "67     VARIES WITH DEVICE  \n",
              "68     VARIES WITH DEVICE  \n",
              "...                   ...  \n",
              "10713  VARIES WITH DEVICE  \n",
              "10725          4.4 AND UP  \n",
              "10765  VARIES WITH DEVICE  \n",
              "10826  VARIES WITH DEVICE  \n",
              "10839  VARIES WITH DEVICE  \n",
              "\n",
              "[1695 rows x 13 columns]"
            ],
            "text/html": [
              "\n",
              "  <div id=\"df-d446ca65-25df-4e6c-a392-a796b3e692ce\">\n",
              "    <div class=\"colab-df-container\">\n",
              "      <div>\n",
              "<style scoped>\n",
              "    .dataframe tbody tr th:only-of-type {\n",
              "        vertical-align: middle;\n",
              "    }\n",
              "\n",
              "    .dataframe tbody tr th {\n",
              "        vertical-align: top;\n",
              "    }\n",
              "\n",
              "    .dataframe thead th {\n",
              "        text-align: right;\n",
              "    }\n",
              "</style>\n",
              "<table border=\"1\" class=\"dataframe\">\n",
              "  <thead>\n",
              "    <tr style=\"text-align: right;\">\n",
              "      <th></th>\n",
              "      <th>app</th>\n",
              "      <th>category</th>\n",
              "      <th>rating</th>\n",
              "      <th>reviews</th>\n",
              "      <th>size(kb)</th>\n",
              "      <th>installs</th>\n",
              "      <th>type</th>\n",
              "      <th>price</th>\n",
              "      <th>content_rating</th>\n",
              "      <th>genres</th>\n",
              "      <th>last_updated</th>\n",
              "      <th>current_ver</th>\n",
              "      <th>android_ver</th>\n",
              "    </tr>\n",
              "  </thead>\n",
              "  <tbody>\n",
              "    <tr>\n",
              "      <th>37</th>\n",
              "      <td>FLOOR PLAN CREATOR</td>\n",
              "      <td>ART_AND_DESIGN</td>\n",
              "      <td>4.1</td>\n",
              "      <td>36639</td>\n",
              "      <td>NaN</td>\n",
              "      <td>5,000,000+</td>\n",
              "      <td>FREE</td>\n",
              "      <td>0</td>\n",
              "      <td>EVERYONE</td>\n",
              "      <td>ART &amp; DESIGN</td>\n",
              "      <td>JULY 14, 2018</td>\n",
              "      <td>VARIES WITH DEVICE</td>\n",
              "      <td>2.3.3 AND UP</td>\n",
              "    </tr>\n",
              "    <tr>\n",
              "      <th>42</th>\n",
              "      <td>TEXTGRAM - WRITE ON PHOTOS</td>\n",
              "      <td>ART_AND_DESIGN</td>\n",
              "      <td>4.4</td>\n",
              "      <td>295221</td>\n",
              "      <td>NaN</td>\n",
              "      <td>10,000,000+</td>\n",
              "      <td>FREE</td>\n",
              "      <td>0</td>\n",
              "      <td>EVERYONE</td>\n",
              "      <td>ART &amp; DESIGN</td>\n",
              "      <td>JULY 30, 2018</td>\n",
              "      <td>VARIES WITH DEVICE</td>\n",
              "      <td>VARIES WITH DEVICE</td>\n",
              "    </tr>\n",
              "    <tr>\n",
              "      <th>52</th>\n",
              "      <td>USED CARS AND TRUCKS FOR SALE</td>\n",
              "      <td>AUTO_AND_VEHICLES</td>\n",
              "      <td>4.6</td>\n",
              "      <td>17057</td>\n",
              "      <td>NaN</td>\n",
              "      <td>1,000,000+</td>\n",
              "      <td>FREE</td>\n",
              "      <td>0</td>\n",
              "      <td>EVERYONE</td>\n",
              "      <td>AUTO &amp; VEHICLES</td>\n",
              "      <td>JULY 30, 2018</td>\n",
              "      <td>VARIES WITH DEVICE</td>\n",
              "      <td>VARIES WITH DEVICE</td>\n",
              "    </tr>\n",
              "    <tr>\n",
              "      <th>67</th>\n",
              "      <td>ULYSSE SPEEDOMETER</td>\n",
              "      <td>AUTO_AND_VEHICLES</td>\n",
              "      <td>4.3</td>\n",
              "      <td>40211</td>\n",
              "      <td>NaN</td>\n",
              "      <td>5,000,000+</td>\n",
              "      <td>FREE</td>\n",
              "      <td>0</td>\n",
              "      <td>EVERYONE</td>\n",
              "      <td>AUTO &amp; VEHICLES</td>\n",
              "      <td>JULY 30, 2018</td>\n",
              "      <td>VARIES WITH DEVICE</td>\n",
              "      <td>VARIES WITH DEVICE</td>\n",
              "    </tr>\n",
              "    <tr>\n",
              "      <th>68</th>\n",
              "      <td>REPUVE</td>\n",
              "      <td>AUTO_AND_VEHICLES</td>\n",
              "      <td>3.9</td>\n",
              "      <td>356</td>\n",
              "      <td>NaN</td>\n",
              "      <td>100,000+</td>\n",
              "      <td>FREE</td>\n",
              "      <td>0</td>\n",
              "      <td>EVERYONE</td>\n",
              "      <td>AUTO &amp; VEHICLES</td>\n",
              "      <td>MAY 25, 2018</td>\n",
              "      <td>VARIES WITH DEVICE</td>\n",
              "      <td>VARIES WITH DEVICE</td>\n",
              "    </tr>\n",
              "    <tr>\n",
              "      <th>...</th>\n",
              "      <td>...</td>\n",
              "      <td>...</td>\n",
              "      <td>...</td>\n",
              "      <td>...</td>\n",
              "      <td>...</td>\n",
              "      <td>...</td>\n",
              "      <td>...</td>\n",
              "      <td>...</td>\n",
              "      <td>...</td>\n",
              "      <td>...</td>\n",
              "      <td>...</td>\n",
              "      <td>...</td>\n",
              "      <td>...</td>\n",
              "    </tr>\n",
              "    <tr>\n",
              "      <th>10713</th>\n",
              "      <td>MY EARTHQUAKE ALERTS - US &amp; WORLDWIDE EARTHQUAKES</td>\n",
              "      <td>WEATHER</td>\n",
              "      <td>4.4</td>\n",
              "      <td>3471</td>\n",
              "      <td>NaN</td>\n",
              "      <td>100,000+</td>\n",
              "      <td>FREE</td>\n",
              "      <td>0</td>\n",
              "      <td>EVERYONE</td>\n",
              "      <td>WEATHER</td>\n",
              "      <td>JULY 24, 2018</td>\n",
              "      <td>VARIES WITH DEVICE</td>\n",
              "      <td>VARIES WITH DEVICE</td>\n",
              "    </tr>\n",
              "    <tr>\n",
              "      <th>10725</th>\n",
              "      <td>POSTA APP</td>\n",
              "      <td>MAPS_AND_NAVIGATION</td>\n",
              "      <td>3.6</td>\n",
              "      <td>8</td>\n",
              "      <td>NaN</td>\n",
              "      <td>1,000+</td>\n",
              "      <td>FREE</td>\n",
              "      <td>0</td>\n",
              "      <td>EVERYONE</td>\n",
              "      <td>MAPS &amp; NAVIGATION</td>\n",
              "      <td>SEPTEMBER 27, 2017</td>\n",
              "      <td>VARIES WITH DEVICE</td>\n",
              "      <td>4.4 AND UP</td>\n",
              "    </tr>\n",
              "    <tr>\n",
              "      <th>10765</th>\n",
              "      <td>CHAT FOR STRANGERS - VIDEO CHAT</td>\n",
              "      <td>SOCIAL</td>\n",
              "      <td>3.4</td>\n",
              "      <td>622</td>\n",
              "      <td>NaN</td>\n",
              "      <td>100,000+</td>\n",
              "      <td>FREE</td>\n",
              "      <td>0</td>\n",
              "      <td>MATURE 17+</td>\n",
              "      <td>SOCIAL</td>\n",
              "      <td>MAY 23, 2018</td>\n",
              "      <td>VARIES WITH DEVICE</td>\n",
              "      <td>VARIES WITH DEVICE</td>\n",
              "    </tr>\n",
              "    <tr>\n",
              "      <th>10826</th>\n",
              "      <td>FRIM: GET NEW FRIENDS ON LOCAL CHAT ROOMS</td>\n",
              "      <td>SOCIAL</td>\n",
              "      <td>4.0</td>\n",
              "      <td>88486</td>\n",
              "      <td>NaN</td>\n",
              "      <td>5,000,000+</td>\n",
              "      <td>FREE</td>\n",
              "      <td>0</td>\n",
              "      <td>MATURE 17+</td>\n",
              "      <td>SOCIAL</td>\n",
              "      <td>MARCH 23, 2018</td>\n",
              "      <td>VARIES WITH DEVICE</td>\n",
              "      <td>VARIES WITH DEVICE</td>\n",
              "    </tr>\n",
              "    <tr>\n",
              "      <th>10839</th>\n",
              "      <td>THE SCP FOUNDATION DB FR NN5N</td>\n",
              "      <td>BOOKS_AND_REFERENCE</td>\n",
              "      <td>4.5</td>\n",
              "      <td>114</td>\n",
              "      <td>NaN</td>\n",
              "      <td>1,000+</td>\n",
              "      <td>FREE</td>\n",
              "      <td>0</td>\n",
              "      <td>MATURE 17+</td>\n",
              "      <td>BOOKS &amp; REFERENCE</td>\n",
              "      <td>JANUARY 19, 2015</td>\n",
              "      <td>VARIES WITH DEVICE</td>\n",
              "      <td>VARIES WITH DEVICE</td>\n",
              "    </tr>\n",
              "  </tbody>\n",
              "</table>\n",
              "<p>1695 rows × 13 columns</p>\n",
              "</div>\n",
              "      <button class=\"colab-df-convert\" onclick=\"convertToInteractive('df-d446ca65-25df-4e6c-a392-a796b3e692ce')\"\n",
              "              title=\"Convert this dataframe to an interactive table.\"\n",
              "              style=\"display:none;\">\n",
              "        \n",
              "  <svg xmlns=\"http://www.w3.org/2000/svg\" height=\"24px\"viewBox=\"0 0 24 24\"\n",
              "       width=\"24px\">\n",
              "    <path d=\"M0 0h24v24H0V0z\" fill=\"none\"/>\n",
              "    <path d=\"M18.56 5.44l.94 2.06.94-2.06 2.06-.94-2.06-.94-.94-2.06-.94 2.06-2.06.94zm-11 1L8.5 8.5l.94-2.06 2.06-.94-2.06-.94L8.5 2.5l-.94 2.06-2.06.94zm10 10l.94 2.06.94-2.06 2.06-.94-2.06-.94-.94-2.06-.94 2.06-2.06.94z\"/><path d=\"M17.41 7.96l-1.37-1.37c-.4-.4-.92-.59-1.43-.59-.52 0-1.04.2-1.43.59L10.3 9.45l-7.72 7.72c-.78.78-.78 2.05 0 2.83L4 21.41c.39.39.9.59 1.41.59.51 0 1.02-.2 1.41-.59l7.78-7.78 2.81-2.81c.8-.78.8-2.07 0-2.86zM5.41 20L4 18.59l7.72-7.72 1.47 1.35L5.41 20z\"/>\n",
              "  </svg>\n",
              "      </button>\n",
              "      \n",
              "  <style>\n",
              "    .colab-df-container {\n",
              "      display:flex;\n",
              "      flex-wrap:wrap;\n",
              "      gap: 12px;\n",
              "    }\n",
              "\n",
              "    .colab-df-convert {\n",
              "      background-color: #E8F0FE;\n",
              "      border: none;\n",
              "      border-radius: 50%;\n",
              "      cursor: pointer;\n",
              "      display: none;\n",
              "      fill: #1967D2;\n",
              "      height: 32px;\n",
              "      padding: 0 0 0 0;\n",
              "      width: 32px;\n",
              "    }\n",
              "\n",
              "    .colab-df-convert:hover {\n",
              "      background-color: #E2EBFA;\n",
              "      box-shadow: 0px 1px 2px rgba(60, 64, 67, 0.3), 0px 1px 3px 1px rgba(60, 64, 67, 0.15);\n",
              "      fill: #174EA6;\n",
              "    }\n",
              "\n",
              "    [theme=dark] .colab-df-convert {\n",
              "      background-color: #3B4455;\n",
              "      fill: #D2E3FC;\n",
              "    }\n",
              "\n",
              "    [theme=dark] .colab-df-convert:hover {\n",
              "      background-color: #434B5C;\n",
              "      box-shadow: 0px 1px 3px 1px rgba(0, 0, 0, 0.15);\n",
              "      filter: drop-shadow(0px 1px 2px rgba(0, 0, 0, 0.3));\n",
              "      fill: #FFFFFF;\n",
              "    }\n",
              "  </style>\n",
              "\n",
              "      <script>\n",
              "        const buttonEl =\n",
              "          document.querySelector('#df-d446ca65-25df-4e6c-a392-a796b3e692ce button.colab-df-convert');\n",
              "        buttonEl.style.display =\n",
              "          google.colab.kernel.accessAllowed ? 'block' : 'none';\n",
              "\n",
              "        async function convertToInteractive(key) {\n",
              "          const element = document.querySelector('#df-d446ca65-25df-4e6c-a392-a796b3e692ce');\n",
              "          const dataTable =\n",
              "            await google.colab.kernel.invokeFunction('convertToInteractive',\n",
              "                                                     [key], {});\n",
              "          if (!dataTable) return;\n",
              "\n",
              "          const docLinkHtml = 'Like what you see? Visit the ' +\n",
              "            '<a target=\"_blank\" href=https://colab.research.google.com/notebooks/data_table.ipynb>data table notebook</a>'\n",
              "            + ' to learn more about interactive tables.';\n",
              "          element.innerHTML = '';\n",
              "          dataTable['output_type'] = 'display_data';\n",
              "          await google.colab.output.renderOutput(dataTable, element);\n",
              "          const docLink = document.createElement('div');\n",
              "          docLink.innerHTML = docLinkHtml;\n",
              "          element.appendChild(docLink);\n",
              "        }\n",
              "      </script>\n",
              "    </div>\n",
              "  </div>\n",
              "  "
            ]
          },
          "metadata": {},
          "execution_count": 21
        }
      ]
    },
    {
      "cell_type": "markdown",
      "source": [
        "From this we can see that there are 1695 rows that have NaN values and get a general idea of the context of those values."
      ],
      "metadata": {
        "id": "xruamqrVazyq"
      }
    },
    {
      "cell_type": "code",
      "source": [
        "def chk_null_sum(df, col):\n",
        "    return df[col].isnull().sum()\n",
        "\n",
        "chk_null_sum(df, 'size(kb)')"
      ],
      "metadata": {
        "colab": {
          "base_uri": "https://localhost:8080/"
        },
        "id": "VUN_xS3YatYo",
        "outputId": "a89b71e3-c711-4ec3-e452-07164ef38176"
      },
      "execution_count": 22,
      "outputs": [
        {
          "output_type": "execute_result",
          "data": {
            "text/plain": [
              "1695"
            ]
          },
          "metadata": {},
          "execution_count": 22
        }
      ]
    },
    {
      "cell_type": "code",
      "source": [
        "# now we will remove the \"+\"\n",
        "\n",
        "def remove_plus(df, col):\n",
        "    df[col] = df[col].astype(str).str.replace('+', '', regex=False)\n",
        "\n",
        "remove_plus(df, 'size(kb)')"
      ],
      "metadata": {
        "id": "QWoUsYA-a7im"
      },
      "execution_count": 23,
      "outputs": []
    },
    {
      "cell_type": "code",
      "source": [
        "# cross check\n",
        "\n",
        "df.loc[df['size(kb)'].astype(str).str.contains('+', regex=False),]"
      ],
      "metadata": {
        "colab": {
          "base_uri": "https://localhost:8080/",
          "height": 49
        },
        "id": "C_9TS9g4bB5h",
        "outputId": "f71dea58-ccb4-42be-c4e6-a3bd72cf025b"
      },
      "execution_count": 24,
      "outputs": [
        {
          "output_type": "execute_result",
          "data": {
            "text/plain": [
              "Empty DataFrame\n",
              "Columns: [app, category, rating, reviews, size(kb), installs, type, price, content_rating, genres, last_updated, current_ver, android_ver]\n",
              "Index: []"
            ],
            "text/html": [
              "\n",
              "  <div id=\"df-1969a54c-87b1-44cf-a517-d3c53a64e5ae\">\n",
              "    <div class=\"colab-df-container\">\n",
              "      <div>\n",
              "<style scoped>\n",
              "    .dataframe tbody tr th:only-of-type {\n",
              "        vertical-align: middle;\n",
              "    }\n",
              "\n",
              "    .dataframe tbody tr th {\n",
              "        vertical-align: top;\n",
              "    }\n",
              "\n",
              "    .dataframe thead th {\n",
              "        text-align: right;\n",
              "    }\n",
              "</style>\n",
              "<table border=\"1\" class=\"dataframe\">\n",
              "  <thead>\n",
              "    <tr style=\"text-align: right;\">\n",
              "      <th></th>\n",
              "      <th>app</th>\n",
              "      <th>category</th>\n",
              "      <th>rating</th>\n",
              "      <th>reviews</th>\n",
              "      <th>size(kb)</th>\n",
              "      <th>installs</th>\n",
              "      <th>type</th>\n",
              "      <th>price</th>\n",
              "      <th>content_rating</th>\n",
              "      <th>genres</th>\n",
              "      <th>last_updated</th>\n",
              "      <th>current_ver</th>\n",
              "      <th>android_ver</th>\n",
              "    </tr>\n",
              "  </thead>\n",
              "  <tbody>\n",
              "  </tbody>\n",
              "</table>\n",
              "</div>\n",
              "      <button class=\"colab-df-convert\" onclick=\"convertToInteractive('df-1969a54c-87b1-44cf-a517-d3c53a64e5ae')\"\n",
              "              title=\"Convert this dataframe to an interactive table.\"\n",
              "              style=\"display:none;\">\n",
              "        \n",
              "  <svg xmlns=\"http://www.w3.org/2000/svg\" height=\"24px\"viewBox=\"0 0 24 24\"\n",
              "       width=\"24px\">\n",
              "    <path d=\"M0 0h24v24H0V0z\" fill=\"none\"/>\n",
              "    <path d=\"M18.56 5.44l.94 2.06.94-2.06 2.06-.94-2.06-.94-.94-2.06-.94 2.06-2.06.94zm-11 1L8.5 8.5l.94-2.06 2.06-.94-2.06-.94L8.5 2.5l-.94 2.06-2.06.94zm10 10l.94 2.06.94-2.06 2.06-.94-2.06-.94-.94-2.06-.94 2.06-2.06.94z\"/><path d=\"M17.41 7.96l-1.37-1.37c-.4-.4-.92-.59-1.43-.59-.52 0-1.04.2-1.43.59L10.3 9.45l-7.72 7.72c-.78.78-.78 2.05 0 2.83L4 21.41c.39.39.9.59 1.41.59.51 0 1.02-.2 1.41-.59l7.78-7.78 2.81-2.81c.8-.78.8-2.07 0-2.86zM5.41 20L4 18.59l7.72-7.72 1.47 1.35L5.41 20z\"/>\n",
              "  </svg>\n",
              "      </button>\n",
              "      \n",
              "  <style>\n",
              "    .colab-df-container {\n",
              "      display:flex;\n",
              "      flex-wrap:wrap;\n",
              "      gap: 12px;\n",
              "    }\n",
              "\n",
              "    .colab-df-convert {\n",
              "      background-color: #E8F0FE;\n",
              "      border: none;\n",
              "      border-radius: 50%;\n",
              "      cursor: pointer;\n",
              "      display: none;\n",
              "      fill: #1967D2;\n",
              "      height: 32px;\n",
              "      padding: 0 0 0 0;\n",
              "      width: 32px;\n",
              "    }\n",
              "\n",
              "    .colab-df-convert:hover {\n",
              "      background-color: #E2EBFA;\n",
              "      box-shadow: 0px 1px 2px rgba(60, 64, 67, 0.3), 0px 1px 3px 1px rgba(60, 64, 67, 0.15);\n",
              "      fill: #174EA6;\n",
              "    }\n",
              "\n",
              "    [theme=dark] .colab-df-convert {\n",
              "      background-color: #3B4455;\n",
              "      fill: #D2E3FC;\n",
              "    }\n",
              "\n",
              "    [theme=dark] .colab-df-convert:hover {\n",
              "      background-color: #434B5C;\n",
              "      box-shadow: 0px 1px 3px 1px rgba(0, 0, 0, 0.15);\n",
              "      filter: drop-shadow(0px 1px 2px rgba(0, 0, 0, 0.3));\n",
              "      fill: #FFFFFF;\n",
              "    }\n",
              "  </style>\n",
              "\n",
              "      <script>\n",
              "        const buttonEl =\n",
              "          document.querySelector('#df-1969a54c-87b1-44cf-a517-d3c53a64e5ae button.colab-df-convert');\n",
              "        buttonEl.style.display =\n",
              "          google.colab.kernel.accessAllowed ? 'block' : 'none';\n",
              "\n",
              "        async function convertToInteractive(key) {\n",
              "          const element = document.querySelector('#df-1969a54c-87b1-44cf-a517-d3c53a64e5ae');\n",
              "          const dataTable =\n",
              "            await google.colab.kernel.invokeFunction('convertToInteractive',\n",
              "                                                     [key], {});\n",
              "          if (!dataTable) return;\n",
              "\n",
              "          const docLinkHtml = 'Like what you see? Visit the ' +\n",
              "            '<a target=\"_blank\" href=https://colab.research.google.com/notebooks/data_table.ipynb>data table notebook</a>'\n",
              "            + ' to learn more about interactive tables.';\n",
              "          element.innerHTML = '';\n",
              "          dataTable['output_type'] = 'display_data';\n",
              "          await google.colab.output.renderOutput(dataTable, element);\n",
              "          const docLink = document.createElement('div');\n",
              "          docLink.innerHTML = docLinkHtml;\n",
              "          element.appendChild(docLink);\n",
              "        }\n",
              "      </script>\n",
              "    </div>\n",
              "  </div>\n",
              "  "
            ]
          },
          "metadata": {},
          "execution_count": 24
        }
      ]
    },
    {
      "cell_type": "code",
      "source": [
        "# removing commas\n",
        "\n",
        "def remove_commas(df, col):\n",
        "    df[col] = df[col].str.replace(',', '')\n",
        "\n",
        "remove_commas(df, 'size(kb)')"
      ],
      "metadata": {
        "id": "BDONrlsAbGVF"
      },
      "execution_count": 25,
      "outputs": []
    },
    {
      "cell_type": "code",
      "source": [
        "# convert column size data type to numeric\n",
        "\n",
        "def convert_to_numeric(df, col):\n",
        "    df[col] = pd.to_numeric(df[col], errors='coerce')\n",
        "\n",
        "convert_to_numeric(df, 'size(kb)')"
      ],
      "metadata": {
        "id": "UQmohlQnbUKL"
      },
      "execution_count": 26,
      "outputs": []
    },
    {
      "cell_type": "markdown",
      "source": [
        "I am using coerce here because I know that anything being coerced is already a nan value.\n",
        "\n",
        "NaN values in size column To deal with these missing values, we can fill them with the mean value, grouped by category, so that it does not affect our standard deviation."
      ],
      "metadata": {
        "id": "GLL8PzF2bcWC"
      }
    },
    {
      "cell_type": "code",
      "source": [
        "df['size(kb)'] = df['size(kb)'].astype(float).fillna(df.groupby('category')['size(kb)'].transform('mean'))"
      ],
      "metadata": {
        "id": "vDX74_u6bYcz"
      },
      "execution_count": 27,
      "outputs": []
    },
    {
      "cell_type": "code",
      "source": [
        "# cross check\n",
        "\n",
        "df.isnull().sum()"
      ],
      "metadata": {
        "colab": {
          "base_uri": "https://localhost:8080/"
        },
        "id": "BHi0YGADbndq",
        "outputId": "a372ff8f-f2a7-4190-ddde-671fcde3a883"
      },
      "execution_count": 28,
      "outputs": [
        {
          "output_type": "execute_result",
          "data": {
            "text/plain": [
              "app                  0\n",
              "category             0\n",
              "rating            1474\n",
              "reviews              0\n",
              "size(kb)             0\n",
              "installs             0\n",
              "type                 1\n",
              "price                0\n",
              "content_rating       1\n",
              "genres               0\n",
              "last_updated         0\n",
              "current_ver          8\n",
              "android_ver          3\n",
              "dtype: int64"
            ]
          },
          "metadata": {},
          "execution_count": 28
        }
      ]
    },
    {
      "cell_type": "markdown",
      "source": [
        "**Last** **Updated**\n",
        "\n",
        "For this analysis, I only want the year so i will remove everything before the comma in the last_updated row."
      ],
      "metadata": {
        "id": "Ts3r110Ub1X8"
      }
    },
    {
      "cell_type": "code",
      "source": [
        "df['last_updated'].unique()"
      ],
      "metadata": {
        "colab": {
          "base_uri": "https://localhost:8080/"
        },
        "id": "cLXJp1i3brMS",
        "outputId": "b6e16f37-c143-4571-d41d-2d1ccbbd2017"
      },
      "execution_count": 29,
      "outputs": [
        {
          "output_type": "execute_result",
          "data": {
            "text/plain": [
              "array(['JANUARY 7, 2018', 'JANUARY 15, 2018', 'AUGUST 1, 2018', ...,\n",
              "       'JANUARY 20, 2014', 'FEBRUARY 16, 2014', 'MARCH 23, 2014'],\n",
              "      dtype=object)"
            ]
          },
          "metadata": {},
          "execution_count": 29
        }
      ]
    },
    {
      "cell_type": "code",
      "source": [
        "cond = df.loc[df['last_updated'] == '1.0.19',].index"
      ],
      "metadata": {
        "id": "o9bkwQlOb_o3"
      },
      "execution_count": 30,
      "outputs": []
    },
    {
      "cell_type": "markdown",
      "source": [
        "This row has been currupted, so we will remove it from the dataframe."
      ],
      "metadata": {
        "id": "2zOGiCfQcHnx"
      }
    },
    {
      "cell_type": "code",
      "source": [
        "df.drop(cond, inplace=True)"
      ],
      "metadata": {
        "id": "l_0f7gEucKZ1"
      },
      "execution_count": 31,
      "outputs": []
    },
    {
      "cell_type": "code",
      "source": [
        "def convert_datetime(df, col):\n",
        "    df[col] = pd.to_datetime(df[col])\n",
        "    \n",
        "def extract_year_dt(df, col):\n",
        "    df[col] = df[col].dt.year\n",
        "    \n",
        "    \n",
        "convert_datetime(df, 'last_updated')\n",
        "extract_year_dt(df, 'last_updated')"
      ],
      "metadata": {
        "id": "cUYziIjbcODK"
      },
      "execution_count": 32,
      "outputs": []
    },
    {
      "cell_type": "code",
      "source": [
        "# cross check\n",
        "\n",
        "print(df['last_updated'])"
      ],
      "metadata": {
        "colab": {
          "base_uri": "https://localhost:8080/"
        },
        "id": "FXHHzh2HcTrX",
        "outputId": "f2dca609-0ecf-4308-9826-1319c9863992"
      },
      "execution_count": 33,
      "outputs": [
        {
          "output_type": "stream",
          "name": "stdout",
          "text": [
            "0        2018\n",
            "1        2018\n",
            "2        2018\n",
            "3        2018\n",
            "4        2018\n",
            "         ... \n",
            "10836    2017\n",
            "10837    2018\n",
            "10838    2017\n",
            "10839    2015\n",
            "10840    2018\n",
            "Name: last_updated, Length: 10840, dtype: int64\n"
          ]
        }
      ]
    },
    {
      "cell_type": "markdown",
      "source": [
        "**Installs**\n",
        "\n",
        "Lets remove any non numeric digits and convert the datatype to numeric."
      ],
      "metadata": {
        "id": "yOIA10R09t0E"
      }
    },
    {
      "cell_type": "code",
      "source": [
        "df['installs'].unique()"
      ],
      "metadata": {
        "id": "9ZiViK_NcYr1",
        "colab": {
          "base_uri": "https://localhost:8080/"
        },
        "outputId": "c73c1edb-1f5a-4d81-a834-6d8cb98a664e"
      },
      "execution_count": 34,
      "outputs": [
        {
          "output_type": "execute_result",
          "data": {
            "text/plain": [
              "array(['10,000+', '500,000+', '5,000,000+', '50,000,000+', '100,000+',\n",
              "       '50,000+', '1,000,000+', '10,000,000+', '5,000+', '100,000,000+',\n",
              "       '1,000,000,000+', '1,000+', '500,000,000+', '50+', '100+', '500+',\n",
              "       '10+', '1+', '5+', '0+', '0'], dtype=object)"
            ]
          },
          "metadata": {},
          "execution_count": 34
        }
      ]
    },
    {
      "cell_type": "code",
      "source": [
        "remove_plus(df, 'installs')\n",
        "remove_commas(df, 'installs')"
      ],
      "metadata": {
        "id": "d_XdX75494q6"
      },
      "execution_count": 35,
      "outputs": []
    },
    {
      "cell_type": "code",
      "source": [
        "def to_numeric(df, col):\n",
        "    return pd.to_numeric(df[col])"
      ],
      "metadata": {
        "id": "_4dLorkP99Ov"
      },
      "execution_count": 36,
      "outputs": []
    },
    {
      "cell_type": "code",
      "source": [
        "df['installs'] = to_numeric(df, 'installs')"
      ],
      "metadata": {
        "id": "l9geEnrw-BlF"
      },
      "execution_count": 37,
      "outputs": []
    },
    {
      "cell_type": "code",
      "source": [
        "df.info()"
      ],
      "metadata": {
        "colab": {
          "base_uri": "https://localhost:8080/"
        },
        "id": "Abbt39ug-Eug",
        "outputId": "be0604d0-7afa-4636-8851-08ab1c1c558c"
      },
      "execution_count": 38,
      "outputs": [
        {
          "output_type": "stream",
          "name": "stdout",
          "text": [
            "<class 'pandas.core.frame.DataFrame'>\n",
            "Int64Index: 10840 entries, 0 to 10840\n",
            "Data columns (total 13 columns):\n",
            " #   Column          Non-Null Count  Dtype  \n",
            "---  ------          --------------  -----  \n",
            " 0   app             10840 non-null  object \n",
            " 1   category        10840 non-null  object \n",
            " 2   rating          9366 non-null   object \n",
            " 3   reviews         10840 non-null  object \n",
            " 4   size(kb)        10840 non-null  float64\n",
            " 5   installs        10840 non-null  int64  \n",
            " 6   type            10839 non-null  object \n",
            " 7   price           10840 non-null  object \n",
            " 8   content_rating  10840 non-null  object \n",
            " 9   genres          10840 non-null  object \n",
            " 10  last_updated    10840 non-null  int64  \n",
            " 11  current_ver     10832 non-null  object \n",
            " 12  android_ver     10838 non-null  object \n",
            "dtypes: float64(1), int64(2), object(10)\n",
            "memory usage: 1.2+ MB\n"
          ]
        }
      ]
    },
    {
      "cell_type": "markdown",
      "source": [
        "**Current_ver and Android_ver**\n",
        "\n",
        "We dont need current_ver or android_ver for this anlalysis so we will remove those."
      ],
      "metadata": {
        "id": "Yva1z56T-SnP"
      }
    },
    {
      "cell_type": "code",
      "source": [
        "df = df.drop(['current_ver', 'android_ver'], axis=1)"
      ],
      "metadata": {
        "id": "SoUqRirz-WCY"
      },
      "execution_count": 39,
      "outputs": []
    },
    {
      "cell_type": "code",
      "source": [
        "df.head()"
      ],
      "metadata": {
        "colab": {
          "base_uri": "https://localhost:8080/",
          "height": 320
        },
        "id": "0AN_JCQY-ZLi",
        "outputId": "03e7af2b-5527-4d35-a742-4d5c020dcf4e"
      },
      "execution_count": 40,
      "outputs": [
        {
          "output_type": "execute_result",
          "data": {
            "text/plain": [
              "                                                 app        category rating  \\\n",
              "0     PHOTO EDITOR & CANDY CAMERA & GRID & SCRAPBOOK  ART_AND_DESIGN    4.1   \n",
              "1                                COLORING BOOK MOANA  ART_AND_DESIGN    3.9   \n",
              "2  U LAUNCHER LITE – FREE LIVE COOL THEMES, HIDE ...  ART_AND_DESIGN    4.7   \n",
              "3                              SKETCH - DRAW & PAINT  ART_AND_DESIGN    4.5   \n",
              "4              PIXEL DRAW - NUMBER ART COLORING BOOK  ART_AND_DESIGN    4.3   \n",
              "\n",
              "  reviews  size(kb)  installs  type price content_rating  \\\n",
              "0     159   19456.0     10000  FREE     0       EVERYONE   \n",
              "1     967   14336.0    500000  FREE     0       EVERYONE   \n",
              "2   87510    8908.8   5000000  FREE     0       EVERYONE   \n",
              "3  215644   25600.0  50000000  FREE     0           TEEN   \n",
              "4     967    2867.2    100000  FREE     0       EVERYONE   \n",
              "\n",
              "                      genres  last_updated  \n",
              "0               ART & DESIGN          2018  \n",
              "1  ART & DESIGN;PRETEND PLAY          2018  \n",
              "2               ART & DESIGN          2018  \n",
              "3               ART & DESIGN          2018  \n",
              "4    ART & DESIGN;CREATIVITY          2018  "
            ],
            "text/html": [
              "\n",
              "  <div id=\"df-22576391-bfc7-423a-8106-fdf4987534d5\">\n",
              "    <div class=\"colab-df-container\">\n",
              "      <div>\n",
              "<style scoped>\n",
              "    .dataframe tbody tr th:only-of-type {\n",
              "        vertical-align: middle;\n",
              "    }\n",
              "\n",
              "    .dataframe tbody tr th {\n",
              "        vertical-align: top;\n",
              "    }\n",
              "\n",
              "    .dataframe thead th {\n",
              "        text-align: right;\n",
              "    }\n",
              "</style>\n",
              "<table border=\"1\" class=\"dataframe\">\n",
              "  <thead>\n",
              "    <tr style=\"text-align: right;\">\n",
              "      <th></th>\n",
              "      <th>app</th>\n",
              "      <th>category</th>\n",
              "      <th>rating</th>\n",
              "      <th>reviews</th>\n",
              "      <th>size(kb)</th>\n",
              "      <th>installs</th>\n",
              "      <th>type</th>\n",
              "      <th>price</th>\n",
              "      <th>content_rating</th>\n",
              "      <th>genres</th>\n",
              "      <th>last_updated</th>\n",
              "    </tr>\n",
              "  </thead>\n",
              "  <tbody>\n",
              "    <tr>\n",
              "      <th>0</th>\n",
              "      <td>PHOTO EDITOR &amp; CANDY CAMERA &amp; GRID &amp; SCRAPBOOK</td>\n",
              "      <td>ART_AND_DESIGN</td>\n",
              "      <td>4.1</td>\n",
              "      <td>159</td>\n",
              "      <td>19456.0</td>\n",
              "      <td>10000</td>\n",
              "      <td>FREE</td>\n",
              "      <td>0</td>\n",
              "      <td>EVERYONE</td>\n",
              "      <td>ART &amp; DESIGN</td>\n",
              "      <td>2018</td>\n",
              "    </tr>\n",
              "    <tr>\n",
              "      <th>1</th>\n",
              "      <td>COLORING BOOK MOANA</td>\n",
              "      <td>ART_AND_DESIGN</td>\n",
              "      <td>3.9</td>\n",
              "      <td>967</td>\n",
              "      <td>14336.0</td>\n",
              "      <td>500000</td>\n",
              "      <td>FREE</td>\n",
              "      <td>0</td>\n",
              "      <td>EVERYONE</td>\n",
              "      <td>ART &amp; DESIGN;PRETEND PLAY</td>\n",
              "      <td>2018</td>\n",
              "    </tr>\n",
              "    <tr>\n",
              "      <th>2</th>\n",
              "      <td>U LAUNCHER LITE – FREE LIVE COOL THEMES, HIDE ...</td>\n",
              "      <td>ART_AND_DESIGN</td>\n",
              "      <td>4.7</td>\n",
              "      <td>87510</td>\n",
              "      <td>8908.8</td>\n",
              "      <td>5000000</td>\n",
              "      <td>FREE</td>\n",
              "      <td>0</td>\n",
              "      <td>EVERYONE</td>\n",
              "      <td>ART &amp; DESIGN</td>\n",
              "      <td>2018</td>\n",
              "    </tr>\n",
              "    <tr>\n",
              "      <th>3</th>\n",
              "      <td>SKETCH - DRAW &amp; PAINT</td>\n",
              "      <td>ART_AND_DESIGN</td>\n",
              "      <td>4.5</td>\n",
              "      <td>215644</td>\n",
              "      <td>25600.0</td>\n",
              "      <td>50000000</td>\n",
              "      <td>FREE</td>\n",
              "      <td>0</td>\n",
              "      <td>TEEN</td>\n",
              "      <td>ART &amp; DESIGN</td>\n",
              "      <td>2018</td>\n",
              "    </tr>\n",
              "    <tr>\n",
              "      <th>4</th>\n",
              "      <td>PIXEL DRAW - NUMBER ART COLORING BOOK</td>\n",
              "      <td>ART_AND_DESIGN</td>\n",
              "      <td>4.3</td>\n",
              "      <td>967</td>\n",
              "      <td>2867.2</td>\n",
              "      <td>100000</td>\n",
              "      <td>FREE</td>\n",
              "      <td>0</td>\n",
              "      <td>EVERYONE</td>\n",
              "      <td>ART &amp; DESIGN;CREATIVITY</td>\n",
              "      <td>2018</td>\n",
              "    </tr>\n",
              "  </tbody>\n",
              "</table>\n",
              "</div>\n",
              "      <button class=\"colab-df-convert\" onclick=\"convertToInteractive('df-22576391-bfc7-423a-8106-fdf4987534d5')\"\n",
              "              title=\"Convert this dataframe to an interactive table.\"\n",
              "              style=\"display:none;\">\n",
              "        \n",
              "  <svg xmlns=\"http://www.w3.org/2000/svg\" height=\"24px\"viewBox=\"0 0 24 24\"\n",
              "       width=\"24px\">\n",
              "    <path d=\"M0 0h24v24H0V0z\" fill=\"none\"/>\n",
              "    <path d=\"M18.56 5.44l.94 2.06.94-2.06 2.06-.94-2.06-.94-.94-2.06-.94 2.06-2.06.94zm-11 1L8.5 8.5l.94-2.06 2.06-.94-2.06-.94L8.5 2.5l-.94 2.06-2.06.94zm10 10l.94 2.06.94-2.06 2.06-.94-2.06-.94-.94-2.06-.94 2.06-2.06.94z\"/><path d=\"M17.41 7.96l-1.37-1.37c-.4-.4-.92-.59-1.43-.59-.52 0-1.04.2-1.43.59L10.3 9.45l-7.72 7.72c-.78.78-.78 2.05 0 2.83L4 21.41c.39.39.9.59 1.41.59.51 0 1.02-.2 1.41-.59l7.78-7.78 2.81-2.81c.8-.78.8-2.07 0-2.86zM5.41 20L4 18.59l7.72-7.72 1.47 1.35L5.41 20z\"/>\n",
              "  </svg>\n",
              "      </button>\n",
              "      \n",
              "  <style>\n",
              "    .colab-df-container {\n",
              "      display:flex;\n",
              "      flex-wrap:wrap;\n",
              "      gap: 12px;\n",
              "    }\n",
              "\n",
              "    .colab-df-convert {\n",
              "      background-color: #E8F0FE;\n",
              "      border: none;\n",
              "      border-radius: 50%;\n",
              "      cursor: pointer;\n",
              "      display: none;\n",
              "      fill: #1967D2;\n",
              "      height: 32px;\n",
              "      padding: 0 0 0 0;\n",
              "      width: 32px;\n",
              "    }\n",
              "\n",
              "    .colab-df-convert:hover {\n",
              "      background-color: #E2EBFA;\n",
              "      box-shadow: 0px 1px 2px rgba(60, 64, 67, 0.3), 0px 1px 3px 1px rgba(60, 64, 67, 0.15);\n",
              "      fill: #174EA6;\n",
              "    }\n",
              "\n",
              "    [theme=dark] .colab-df-convert {\n",
              "      background-color: #3B4455;\n",
              "      fill: #D2E3FC;\n",
              "    }\n",
              "\n",
              "    [theme=dark] .colab-df-convert:hover {\n",
              "      background-color: #434B5C;\n",
              "      box-shadow: 0px 1px 3px 1px rgba(0, 0, 0, 0.15);\n",
              "      filter: drop-shadow(0px 1px 2px rgba(0, 0, 0, 0.3));\n",
              "      fill: #FFFFFF;\n",
              "    }\n",
              "  </style>\n",
              "\n",
              "      <script>\n",
              "        const buttonEl =\n",
              "          document.querySelector('#df-22576391-bfc7-423a-8106-fdf4987534d5 button.colab-df-convert');\n",
              "        buttonEl.style.display =\n",
              "          google.colab.kernel.accessAllowed ? 'block' : 'none';\n",
              "\n",
              "        async function convertToInteractive(key) {\n",
              "          const element = document.querySelector('#df-22576391-bfc7-423a-8106-fdf4987534d5');\n",
              "          const dataTable =\n",
              "            await google.colab.kernel.invokeFunction('convertToInteractive',\n",
              "                                                     [key], {});\n",
              "          if (!dataTable) return;\n",
              "\n",
              "          const docLinkHtml = 'Like what you see? Visit the ' +\n",
              "            '<a target=\"_blank\" href=https://colab.research.google.com/notebooks/data_table.ipynb>data table notebook</a>'\n",
              "            + ' to learn more about interactive tables.';\n",
              "          element.innerHTML = '';\n",
              "          dataTable['output_type'] = 'display_data';\n",
              "          await google.colab.output.renderOutput(dataTable, element);\n",
              "          const docLink = document.createElement('div');\n",
              "          docLink.innerHTML = docLinkHtml;\n",
              "          element.appendChild(docLink);\n",
              "        }\n",
              "      </script>\n",
              "    </div>\n",
              "  </div>\n",
              "  "
            ]
          },
          "metadata": {},
          "execution_count": 40
        }
      ]
    },
    {
      "cell_type": "markdown",
      "source": [
        "**Rating, Reviews and Price To Numeric**\n",
        "\n",
        "Lets go ahead and convert these columns to numeric."
      ],
      "metadata": {
        "id": "UFDPbTC_-pxb"
      }
    },
    {
      "cell_type": "code",
      "source": [
        "# remove $ from price column\n",
        "\n",
        "def remove_money_symbol(df, col):\n",
        "    df[col] = pd.to_numeric(df[col].str.replace('$', ''))\n",
        "\n",
        "remove_money_symbol(df, 'price')"
      ],
      "metadata": {
        "colab": {
          "base_uri": "https://localhost:8080/"
        },
        "id": "7sDJO7ye-thR",
        "outputId": "55ec16d6-249e-47ff-9479-2d09db46a4fc"
      },
      "execution_count": 41,
      "outputs": [
        {
          "output_type": "stream",
          "name": "stderr",
          "text": [
            "/usr/local/lib/python3.7/dist-packages/ipykernel_launcher.py:4: FutureWarning: The default value of regex will change from True to False in a future version. In addition, single character regular expressions will *not* be treated as literal strings when regex=True.\n",
            "  after removing the cwd from sys.path.\n"
          ]
        }
      ]
    },
    {
      "cell_type": "code",
      "source": [
        "df['rating'] = to_numeric(df, 'rating')\n",
        "df['price'] = to_numeric(df, 'price')\n",
        "df['reviews'] = to_numeric(df, 'reviews')"
      ],
      "metadata": {
        "id": "9cN9PoB--0o_"
      },
      "execution_count": 42,
      "outputs": []
    },
    {
      "cell_type": "markdown",
      "source": [
        "\n",
        "Once again, lets use a fillna method grouped by category to take care of NaN values in price."
      ],
      "metadata": {
        "id": "gCYbsiSm-_Ao"
      }
    },
    {
      "cell_type": "code",
      "source": [
        "df['price'] = df['price'].astype(float).fillna(df.groupby('category')['price'].transform('mean'))"
      ],
      "metadata": {
        "id": "3gcEi3YA-527"
      },
      "execution_count": 43,
      "outputs": []
    },
    {
      "cell_type": "code",
      "source": [
        "df['rating'] = df['rating'].astype(float).fillna(df.groupby('category')['rating'].transform('mean'))"
      ],
      "metadata": {
        "id": "7xEIiThT_EvZ"
      },
      "execution_count": 44,
      "outputs": []
    },
    {
      "cell_type": "code",
      "source": [
        "df.info()"
      ],
      "metadata": {
        "colab": {
          "base_uri": "https://localhost:8080/"
        },
        "id": "qfalI-jH_Jx3",
        "outputId": "ff685491-af26-4da2-8466-dacbdfaed3b5"
      },
      "execution_count": 45,
      "outputs": [
        {
          "output_type": "stream",
          "name": "stdout",
          "text": [
            "<class 'pandas.core.frame.DataFrame'>\n",
            "Int64Index: 10840 entries, 0 to 10840\n",
            "Data columns (total 11 columns):\n",
            " #   Column          Non-Null Count  Dtype  \n",
            "---  ------          --------------  -----  \n",
            " 0   app             10840 non-null  object \n",
            " 1   category        10840 non-null  object \n",
            " 2   rating          10840 non-null  float64\n",
            " 3   reviews         10840 non-null  int64  \n",
            " 4   size(kb)        10840 non-null  float64\n",
            " 5   installs        10840 non-null  int64  \n",
            " 6   type            10839 non-null  object \n",
            " 7   price           10840 non-null  float64\n",
            " 8   content_rating  10840 non-null  object \n",
            " 9   genres          10840 non-null  object \n",
            " 10  last_updated    10840 non-null  int64  \n",
            "dtypes: float64(3), int64(3), object(5)\n",
            "memory usage: 1016.2+ KB\n"
          ]
        }
      ]
    },
    {
      "cell_type": "markdown",
      "source": [
        "**TYPE**\n",
        "\n",
        "We see using .unique() that there is one null value. Upon further inspection of this value, it seems nonsensical so we will drop this row."
      ],
      "metadata": {
        "id": "xKiXhrB7_YTT"
      }
    },
    {
      "cell_type": "code",
      "source": [
        "df['type'].unique()"
      ],
      "metadata": {
        "colab": {
          "base_uri": "https://localhost:8080/"
        },
        "id": "2o98gEET_M4q",
        "outputId": "7f868889-98cd-4cac-906b-28b0e9a6ffd8"
      },
      "execution_count": 46,
      "outputs": [
        {
          "output_type": "execute_result",
          "data": {
            "text/plain": [
              "array(['FREE', 'PAID', nan], dtype=object)"
            ]
          },
          "metadata": {},
          "execution_count": 46
        }
      ]
    },
    {
      "cell_type": "code",
      "source": [
        "df.loc[df['type'].isnull()]"
      ],
      "metadata": {
        "colab": {
          "base_uri": "https://localhost:8080/",
          "height": 81
        },
        "id": "Szy-N8xG_fvs",
        "outputId": "7ee9baad-4438-46a1-a2ea-af6a7ad0e4a2"
      },
      "execution_count": 47,
      "outputs": [
        {
          "output_type": "execute_result",
          "data": {
            "text/plain": [
              "                            app category    rating  reviews      size(kb)  \\\n",
              "9148  COMMAND & CONQUER: RIVALS   FAMILY  4.192272        0  28998.679803   \n",
              "\n",
              "      installs type  price content_rating    genres  last_updated  \n",
              "9148         0  NaN    0.0   EVERYONE 10+  STRATEGY          2018  "
            ],
            "text/html": [
              "\n",
              "  <div id=\"df-e0bf9829-5592-4914-89fb-837983ca73bc\">\n",
              "    <div class=\"colab-df-container\">\n",
              "      <div>\n",
              "<style scoped>\n",
              "    .dataframe tbody tr th:only-of-type {\n",
              "        vertical-align: middle;\n",
              "    }\n",
              "\n",
              "    .dataframe tbody tr th {\n",
              "        vertical-align: top;\n",
              "    }\n",
              "\n",
              "    .dataframe thead th {\n",
              "        text-align: right;\n",
              "    }\n",
              "</style>\n",
              "<table border=\"1\" class=\"dataframe\">\n",
              "  <thead>\n",
              "    <tr style=\"text-align: right;\">\n",
              "      <th></th>\n",
              "      <th>app</th>\n",
              "      <th>category</th>\n",
              "      <th>rating</th>\n",
              "      <th>reviews</th>\n",
              "      <th>size(kb)</th>\n",
              "      <th>installs</th>\n",
              "      <th>type</th>\n",
              "      <th>price</th>\n",
              "      <th>content_rating</th>\n",
              "      <th>genres</th>\n",
              "      <th>last_updated</th>\n",
              "    </tr>\n",
              "  </thead>\n",
              "  <tbody>\n",
              "    <tr>\n",
              "      <th>9148</th>\n",
              "      <td>COMMAND &amp; CONQUER: RIVALS</td>\n",
              "      <td>FAMILY</td>\n",
              "      <td>4.192272</td>\n",
              "      <td>0</td>\n",
              "      <td>28998.679803</td>\n",
              "      <td>0</td>\n",
              "      <td>NaN</td>\n",
              "      <td>0.0</td>\n",
              "      <td>EVERYONE 10+</td>\n",
              "      <td>STRATEGY</td>\n",
              "      <td>2018</td>\n",
              "    </tr>\n",
              "  </tbody>\n",
              "</table>\n",
              "</div>\n",
              "      <button class=\"colab-df-convert\" onclick=\"convertToInteractive('df-e0bf9829-5592-4914-89fb-837983ca73bc')\"\n",
              "              title=\"Convert this dataframe to an interactive table.\"\n",
              "              style=\"display:none;\">\n",
              "        \n",
              "  <svg xmlns=\"http://www.w3.org/2000/svg\" height=\"24px\"viewBox=\"0 0 24 24\"\n",
              "       width=\"24px\">\n",
              "    <path d=\"M0 0h24v24H0V0z\" fill=\"none\"/>\n",
              "    <path d=\"M18.56 5.44l.94 2.06.94-2.06 2.06-.94-2.06-.94-.94-2.06-.94 2.06-2.06.94zm-11 1L8.5 8.5l.94-2.06 2.06-.94-2.06-.94L8.5 2.5l-.94 2.06-2.06.94zm10 10l.94 2.06.94-2.06 2.06-.94-2.06-.94-.94-2.06-.94 2.06-2.06.94z\"/><path d=\"M17.41 7.96l-1.37-1.37c-.4-.4-.92-.59-1.43-.59-.52 0-1.04.2-1.43.59L10.3 9.45l-7.72 7.72c-.78.78-.78 2.05 0 2.83L4 21.41c.39.39.9.59 1.41.59.51 0 1.02-.2 1.41-.59l7.78-7.78 2.81-2.81c.8-.78.8-2.07 0-2.86zM5.41 20L4 18.59l7.72-7.72 1.47 1.35L5.41 20z\"/>\n",
              "  </svg>\n",
              "      </button>\n",
              "      \n",
              "  <style>\n",
              "    .colab-df-container {\n",
              "      display:flex;\n",
              "      flex-wrap:wrap;\n",
              "      gap: 12px;\n",
              "    }\n",
              "\n",
              "    .colab-df-convert {\n",
              "      background-color: #E8F0FE;\n",
              "      border: none;\n",
              "      border-radius: 50%;\n",
              "      cursor: pointer;\n",
              "      display: none;\n",
              "      fill: #1967D2;\n",
              "      height: 32px;\n",
              "      padding: 0 0 0 0;\n",
              "      width: 32px;\n",
              "    }\n",
              "\n",
              "    .colab-df-convert:hover {\n",
              "      background-color: #E2EBFA;\n",
              "      box-shadow: 0px 1px 2px rgba(60, 64, 67, 0.3), 0px 1px 3px 1px rgba(60, 64, 67, 0.15);\n",
              "      fill: #174EA6;\n",
              "    }\n",
              "\n",
              "    [theme=dark] .colab-df-convert {\n",
              "      background-color: #3B4455;\n",
              "      fill: #D2E3FC;\n",
              "    }\n",
              "\n",
              "    [theme=dark] .colab-df-convert:hover {\n",
              "      background-color: #434B5C;\n",
              "      box-shadow: 0px 1px 3px 1px rgba(0, 0, 0, 0.15);\n",
              "      filter: drop-shadow(0px 1px 2px rgba(0, 0, 0, 0.3));\n",
              "      fill: #FFFFFF;\n",
              "    }\n",
              "  </style>\n",
              "\n",
              "      <script>\n",
              "        const buttonEl =\n",
              "          document.querySelector('#df-e0bf9829-5592-4914-89fb-837983ca73bc button.colab-df-convert');\n",
              "        buttonEl.style.display =\n",
              "          google.colab.kernel.accessAllowed ? 'block' : 'none';\n",
              "\n",
              "        async function convertToInteractive(key) {\n",
              "          const element = document.querySelector('#df-e0bf9829-5592-4914-89fb-837983ca73bc');\n",
              "          const dataTable =\n",
              "            await google.colab.kernel.invokeFunction('convertToInteractive',\n",
              "                                                     [key], {});\n",
              "          if (!dataTable) return;\n",
              "\n",
              "          const docLinkHtml = 'Like what you see? Visit the ' +\n",
              "            '<a target=\"_blank\" href=https://colab.research.google.com/notebooks/data_table.ipynb>data table notebook</a>'\n",
              "            + ' to learn more about interactive tables.';\n",
              "          element.innerHTML = '';\n",
              "          dataTable['output_type'] = 'display_data';\n",
              "          await google.colab.output.renderOutput(dataTable, element);\n",
              "          const docLink = document.createElement('div');\n",
              "          docLink.innerHTML = docLinkHtml;\n",
              "          element.appendChild(docLink);\n",
              "        }\n",
              "      </script>\n",
              "    </div>\n",
              "  </div>\n",
              "  "
            ]
          },
          "metadata": {},
          "execution_count": 47
        }
      ]
    },
    {
      "cell_type": "code",
      "source": [
        "df.dropna(subset=['type'], inplace=True)"
      ],
      "metadata": {
        "id": "mWRA6osl_kuQ"
      },
      "execution_count": 48,
      "outputs": []
    },
    {
      "cell_type": "markdown",
      "source": [
        "\n",
        "Now we will do sum final check of the data set with .info and .sample before going into EDA"
      ],
      "metadata": {
        "id": "FjQiVg4z_zvM"
      }
    },
    {
      "cell_type": "code",
      "source": [
        "df.info()"
      ],
      "metadata": {
        "colab": {
          "base_uri": "https://localhost:8080/"
        },
        "id": "7sNrQ8LS_rR4",
        "outputId": "ab947f26-a65d-4abd-816e-f7e23d430f60"
      },
      "execution_count": 49,
      "outputs": [
        {
          "output_type": "stream",
          "name": "stdout",
          "text": [
            "<class 'pandas.core.frame.DataFrame'>\n",
            "Int64Index: 10839 entries, 0 to 10840\n",
            "Data columns (total 11 columns):\n",
            " #   Column          Non-Null Count  Dtype  \n",
            "---  ------          --------------  -----  \n",
            " 0   app             10839 non-null  object \n",
            " 1   category        10839 non-null  object \n",
            " 2   rating          10839 non-null  float64\n",
            " 3   reviews         10839 non-null  int64  \n",
            " 4   size(kb)        10839 non-null  float64\n",
            " 5   installs        10839 non-null  int64  \n",
            " 6   type            10839 non-null  object \n",
            " 7   price           10839 non-null  float64\n",
            " 8   content_rating  10839 non-null  object \n",
            " 9   genres          10839 non-null  object \n",
            " 10  last_updated    10839 non-null  int64  \n",
            "dtypes: float64(3), int64(3), object(5)\n",
            "memory usage: 1016.2+ KB\n"
          ]
        }
      ]
    },
    {
      "cell_type": "code",
      "source": [
        "df.sample(5)"
      ],
      "metadata": {
        "colab": {
          "base_uri": "https://localhost:8080/",
          "height": 267
        },
        "id": "FVolifX3_77_",
        "outputId": "03b335c6-d707-4db1-ef7a-894ed5364cde"
      },
      "execution_count": 50,
      "outputs": [
        {
          "output_type": "execute_result",
          "data": {
            "text/plain": [
              "                                              app          category  rating  \\\n",
              "10828                     MANGA-FR - ANIME VOSTFR            COMICS     3.4   \n",
              "8484                                      DK VERK          BUSINESS     4.4   \n",
              "5970   EXPLORE BRITISH COLUMBIA - BC TRAVEL GUIDE  TRAVEL_AND_LOCAL     4.4   \n",
              "752                             QUIZ&LEARN PYTHON         EDUCATION     4.0   \n",
              "7548                 APPLOCK - FINGERPRINT UNLOCK             TOOLS     4.5   \n",
              "\n",
              "       reviews  size(kb)  installs  type  price content_rating  \\\n",
              "10828      291   13312.0     10000  FREE    0.0       EVERYONE   \n",
              "8484         9   31744.0       500  FREE    0.0       EVERYONE   \n",
              "5970         7   17408.0       500  FREE    0.0       EVERYONE   \n",
              "752        304    2048.0     10000  FREE    0.0       EVERYONE   \n",
              "7548    112482    2150.4   5000000  FREE    0.0       EVERYONE   \n",
              "\n",
              "               genres  last_updated  \n",
              "10828          COMICS          2017  \n",
              "8484         BUSINESS          2018  \n",
              "5970   TRAVEL & LOCAL          2017  \n",
              "752         EDUCATION          2016  \n",
              "7548            TOOLS          2018  "
            ],
            "text/html": [
              "\n",
              "  <div id=\"df-dc222f03-c30e-4768-bd44-5731d7fed67c\">\n",
              "    <div class=\"colab-df-container\">\n",
              "      <div>\n",
              "<style scoped>\n",
              "    .dataframe tbody tr th:only-of-type {\n",
              "        vertical-align: middle;\n",
              "    }\n",
              "\n",
              "    .dataframe tbody tr th {\n",
              "        vertical-align: top;\n",
              "    }\n",
              "\n",
              "    .dataframe thead th {\n",
              "        text-align: right;\n",
              "    }\n",
              "</style>\n",
              "<table border=\"1\" class=\"dataframe\">\n",
              "  <thead>\n",
              "    <tr style=\"text-align: right;\">\n",
              "      <th></th>\n",
              "      <th>app</th>\n",
              "      <th>category</th>\n",
              "      <th>rating</th>\n",
              "      <th>reviews</th>\n",
              "      <th>size(kb)</th>\n",
              "      <th>installs</th>\n",
              "      <th>type</th>\n",
              "      <th>price</th>\n",
              "      <th>content_rating</th>\n",
              "      <th>genres</th>\n",
              "      <th>last_updated</th>\n",
              "    </tr>\n",
              "  </thead>\n",
              "  <tbody>\n",
              "    <tr>\n",
              "      <th>10828</th>\n",
              "      <td>MANGA-FR - ANIME VOSTFR</td>\n",
              "      <td>COMICS</td>\n",
              "      <td>3.4</td>\n",
              "      <td>291</td>\n",
              "      <td>13312.0</td>\n",
              "      <td>10000</td>\n",
              "      <td>FREE</td>\n",
              "      <td>0.0</td>\n",
              "      <td>EVERYONE</td>\n",
              "      <td>COMICS</td>\n",
              "      <td>2017</td>\n",
              "    </tr>\n",
              "    <tr>\n",
              "      <th>8484</th>\n",
              "      <td>DK VERK</td>\n",
              "      <td>BUSINESS</td>\n",
              "      <td>4.4</td>\n",
              "      <td>9</td>\n",
              "      <td>31744.0</td>\n",
              "      <td>500</td>\n",
              "      <td>FREE</td>\n",
              "      <td>0.0</td>\n",
              "      <td>EVERYONE</td>\n",
              "      <td>BUSINESS</td>\n",
              "      <td>2018</td>\n",
              "    </tr>\n",
              "    <tr>\n",
              "      <th>5970</th>\n",
              "      <td>EXPLORE BRITISH COLUMBIA - BC TRAVEL GUIDE</td>\n",
              "      <td>TRAVEL_AND_LOCAL</td>\n",
              "      <td>4.4</td>\n",
              "      <td>7</td>\n",
              "      <td>17408.0</td>\n",
              "      <td>500</td>\n",
              "      <td>FREE</td>\n",
              "      <td>0.0</td>\n",
              "      <td>EVERYONE</td>\n",
              "      <td>TRAVEL &amp; LOCAL</td>\n",
              "      <td>2017</td>\n",
              "    </tr>\n",
              "    <tr>\n",
              "      <th>752</th>\n",
              "      <td>QUIZ&amp;LEARN PYTHON</td>\n",
              "      <td>EDUCATION</td>\n",
              "      <td>4.0</td>\n",
              "      <td>304</td>\n",
              "      <td>2048.0</td>\n",
              "      <td>10000</td>\n",
              "      <td>FREE</td>\n",
              "      <td>0.0</td>\n",
              "      <td>EVERYONE</td>\n",
              "      <td>EDUCATION</td>\n",
              "      <td>2016</td>\n",
              "    </tr>\n",
              "    <tr>\n",
              "      <th>7548</th>\n",
              "      <td>APPLOCK - FINGERPRINT UNLOCK</td>\n",
              "      <td>TOOLS</td>\n",
              "      <td>4.5</td>\n",
              "      <td>112482</td>\n",
              "      <td>2150.4</td>\n",
              "      <td>5000000</td>\n",
              "      <td>FREE</td>\n",
              "      <td>0.0</td>\n",
              "      <td>EVERYONE</td>\n",
              "      <td>TOOLS</td>\n",
              "      <td>2018</td>\n",
              "    </tr>\n",
              "  </tbody>\n",
              "</table>\n",
              "</div>\n",
              "      <button class=\"colab-df-convert\" onclick=\"convertToInteractive('df-dc222f03-c30e-4768-bd44-5731d7fed67c')\"\n",
              "              title=\"Convert this dataframe to an interactive table.\"\n",
              "              style=\"display:none;\">\n",
              "        \n",
              "  <svg xmlns=\"http://www.w3.org/2000/svg\" height=\"24px\"viewBox=\"0 0 24 24\"\n",
              "       width=\"24px\">\n",
              "    <path d=\"M0 0h24v24H0V0z\" fill=\"none\"/>\n",
              "    <path d=\"M18.56 5.44l.94 2.06.94-2.06 2.06-.94-2.06-.94-.94-2.06-.94 2.06-2.06.94zm-11 1L8.5 8.5l.94-2.06 2.06-.94-2.06-.94L8.5 2.5l-.94 2.06-2.06.94zm10 10l.94 2.06.94-2.06 2.06-.94-2.06-.94-.94-2.06-.94 2.06-2.06.94z\"/><path d=\"M17.41 7.96l-1.37-1.37c-.4-.4-.92-.59-1.43-.59-.52 0-1.04.2-1.43.59L10.3 9.45l-7.72 7.72c-.78.78-.78 2.05 0 2.83L4 21.41c.39.39.9.59 1.41.59.51 0 1.02-.2 1.41-.59l7.78-7.78 2.81-2.81c.8-.78.8-2.07 0-2.86zM5.41 20L4 18.59l7.72-7.72 1.47 1.35L5.41 20z\"/>\n",
              "  </svg>\n",
              "      </button>\n",
              "      \n",
              "  <style>\n",
              "    .colab-df-container {\n",
              "      display:flex;\n",
              "      flex-wrap:wrap;\n",
              "      gap: 12px;\n",
              "    }\n",
              "\n",
              "    .colab-df-convert {\n",
              "      background-color: #E8F0FE;\n",
              "      border: none;\n",
              "      border-radius: 50%;\n",
              "      cursor: pointer;\n",
              "      display: none;\n",
              "      fill: #1967D2;\n",
              "      height: 32px;\n",
              "      padding: 0 0 0 0;\n",
              "      width: 32px;\n",
              "    }\n",
              "\n",
              "    .colab-df-convert:hover {\n",
              "      background-color: #E2EBFA;\n",
              "      box-shadow: 0px 1px 2px rgba(60, 64, 67, 0.3), 0px 1px 3px 1px rgba(60, 64, 67, 0.15);\n",
              "      fill: #174EA6;\n",
              "    }\n",
              "\n",
              "    [theme=dark] .colab-df-convert {\n",
              "      background-color: #3B4455;\n",
              "      fill: #D2E3FC;\n",
              "    }\n",
              "\n",
              "    [theme=dark] .colab-df-convert:hover {\n",
              "      background-color: #434B5C;\n",
              "      box-shadow: 0px 1px 3px 1px rgba(0, 0, 0, 0.15);\n",
              "      filter: drop-shadow(0px 1px 2px rgba(0, 0, 0, 0.3));\n",
              "      fill: #FFFFFF;\n",
              "    }\n",
              "  </style>\n",
              "\n",
              "      <script>\n",
              "        const buttonEl =\n",
              "          document.querySelector('#df-dc222f03-c30e-4768-bd44-5731d7fed67c button.colab-df-convert');\n",
              "        buttonEl.style.display =\n",
              "          google.colab.kernel.accessAllowed ? 'block' : 'none';\n",
              "\n",
              "        async function convertToInteractive(key) {\n",
              "          const element = document.querySelector('#df-dc222f03-c30e-4768-bd44-5731d7fed67c');\n",
              "          const dataTable =\n",
              "            await google.colab.kernel.invokeFunction('convertToInteractive',\n",
              "                                                     [key], {});\n",
              "          if (!dataTable) return;\n",
              "\n",
              "          const docLinkHtml = 'Like what you see? Visit the ' +\n",
              "            '<a target=\"_blank\" href=https://colab.research.google.com/notebooks/data_table.ipynb>data table notebook</a>'\n",
              "            + ' to learn more about interactive tables.';\n",
              "          element.innerHTML = '';\n",
              "          dataTable['output_type'] = 'display_data';\n",
              "          await google.colab.output.renderOutput(dataTable, element);\n",
              "          const docLink = document.createElement('div');\n",
              "          docLink.innerHTML = docLinkHtml;\n",
              "          element.appendChild(docLink);\n",
              "        }\n",
              "      </script>\n",
              "    </div>\n",
              "  </div>\n",
              "  "
            ]
          },
          "metadata": {},
          "execution_count": 50
        }
      ]
    },
    {
      "cell_type": "code",
      "source": [
        "df.head(-10)"
      ],
      "metadata": {
        "colab": {
          "base_uri": "https://localhost:8080/",
          "height": 606
        },
        "id": "wMHoEA9UABzg",
        "outputId": "5d069875-426e-4983-adb3-7c7a9c6a830f"
      },
      "execution_count": 51,
      "outputs": [
        {
          "output_type": "execute_result",
          "data": {
            "text/plain": [
              "                                                     app             category  \\\n",
              "0         PHOTO EDITOR & CANDY CAMERA & GRID & SCRAPBOOK       ART_AND_DESIGN   \n",
              "1                                    COLORING BOOK MOANA       ART_AND_DESIGN   \n",
              "2      U LAUNCHER LITE – FREE LIVE COOL THEMES, HIDE ...       ART_AND_DESIGN   \n",
              "3                                  SKETCH - DRAW & PAINT       ART_AND_DESIGN   \n",
              "4                  PIXEL DRAW - NUMBER ART COLORING BOOK       ART_AND_DESIGN   \n",
              "...                                                  ...                  ...   \n",
              "10826          FRIM: GET NEW FRIENDS ON LOCAL CHAT ROOMS               SOCIAL   \n",
              "10827                                 FR AGNEL AMBARNATH               FAMILY   \n",
              "10828                            MANGA-FR - ANIME VOSTFR               COMICS   \n",
              "10829                     BULGARIAN FRENCH DICTIONARY FR  BOOKS_AND_REFERENCE   \n",
              "10830                                  NEWS MINECRAFT.FR   NEWS_AND_MAGAZINES   \n",
              "\n",
              "       rating  reviews      size(kb)  installs  type  price content_rating  \\\n",
              "0         4.1      159  19456.000000     10000  FREE    0.0       EVERYONE   \n",
              "1         3.9      967  14336.000000    500000  FREE    0.0       EVERYONE   \n",
              "2         4.7    87510   8908.800000   5000000  FREE    0.0       EVERYONE   \n",
              "3         4.5   215644  25600.000000  50000000  FREE    0.0           TEEN   \n",
              "4         4.3      967   2867.200000    100000  FREE    0.0       EVERYONE   \n",
              "...       ...      ...           ...       ...   ...    ...            ...   \n",
              "10826     4.0    88486  18106.031429   5000000  FREE    0.0     MATURE 17+   \n",
              "10827     4.2      117  13312.000000      5000  FREE    0.0       EVERYONE   \n",
              "10828     3.4      291  13312.000000     10000  FREE    0.0       EVERYONE   \n",
              "10829     4.6      603   7577.600000     10000  FREE    0.0       EVERYONE   \n",
              "10830     3.8      881   2355.200000    100000  FREE    0.0       EVERYONE   \n",
              "\n",
              "                          genres  last_updated  \n",
              "0                   ART & DESIGN          2018  \n",
              "1      ART & DESIGN;PRETEND PLAY          2018  \n",
              "2                   ART & DESIGN          2018  \n",
              "3                   ART & DESIGN          2018  \n",
              "4        ART & DESIGN;CREATIVITY          2018  \n",
              "...                          ...           ...  \n",
              "10826                     SOCIAL          2018  \n",
              "10827                  EDUCATION          2018  \n",
              "10828                     COMICS          2017  \n",
              "10829          BOOKS & REFERENCE          2016  \n",
              "10830           NEWS & MAGAZINES          2014  \n",
              "\n",
              "[10829 rows x 11 columns]"
            ],
            "text/html": [
              "\n",
              "  <div id=\"df-d36beb90-997a-4fa4-a86a-6263b07a3186\">\n",
              "    <div class=\"colab-df-container\">\n",
              "      <div>\n",
              "<style scoped>\n",
              "    .dataframe tbody tr th:only-of-type {\n",
              "        vertical-align: middle;\n",
              "    }\n",
              "\n",
              "    .dataframe tbody tr th {\n",
              "        vertical-align: top;\n",
              "    }\n",
              "\n",
              "    .dataframe thead th {\n",
              "        text-align: right;\n",
              "    }\n",
              "</style>\n",
              "<table border=\"1\" class=\"dataframe\">\n",
              "  <thead>\n",
              "    <tr style=\"text-align: right;\">\n",
              "      <th></th>\n",
              "      <th>app</th>\n",
              "      <th>category</th>\n",
              "      <th>rating</th>\n",
              "      <th>reviews</th>\n",
              "      <th>size(kb)</th>\n",
              "      <th>installs</th>\n",
              "      <th>type</th>\n",
              "      <th>price</th>\n",
              "      <th>content_rating</th>\n",
              "      <th>genres</th>\n",
              "      <th>last_updated</th>\n",
              "    </tr>\n",
              "  </thead>\n",
              "  <tbody>\n",
              "    <tr>\n",
              "      <th>0</th>\n",
              "      <td>PHOTO EDITOR &amp; CANDY CAMERA &amp; GRID &amp; SCRAPBOOK</td>\n",
              "      <td>ART_AND_DESIGN</td>\n",
              "      <td>4.1</td>\n",
              "      <td>159</td>\n",
              "      <td>19456.000000</td>\n",
              "      <td>10000</td>\n",
              "      <td>FREE</td>\n",
              "      <td>0.0</td>\n",
              "      <td>EVERYONE</td>\n",
              "      <td>ART &amp; DESIGN</td>\n",
              "      <td>2018</td>\n",
              "    </tr>\n",
              "    <tr>\n",
              "      <th>1</th>\n",
              "      <td>COLORING BOOK MOANA</td>\n",
              "      <td>ART_AND_DESIGN</td>\n",
              "      <td>3.9</td>\n",
              "      <td>967</td>\n",
              "      <td>14336.000000</td>\n",
              "      <td>500000</td>\n",
              "      <td>FREE</td>\n",
              "      <td>0.0</td>\n",
              "      <td>EVERYONE</td>\n",
              "      <td>ART &amp; DESIGN;PRETEND PLAY</td>\n",
              "      <td>2018</td>\n",
              "    </tr>\n",
              "    <tr>\n",
              "      <th>2</th>\n",
              "      <td>U LAUNCHER LITE – FREE LIVE COOL THEMES, HIDE ...</td>\n",
              "      <td>ART_AND_DESIGN</td>\n",
              "      <td>4.7</td>\n",
              "      <td>87510</td>\n",
              "      <td>8908.800000</td>\n",
              "      <td>5000000</td>\n",
              "      <td>FREE</td>\n",
              "      <td>0.0</td>\n",
              "      <td>EVERYONE</td>\n",
              "      <td>ART &amp; DESIGN</td>\n",
              "      <td>2018</td>\n",
              "    </tr>\n",
              "    <tr>\n",
              "      <th>3</th>\n",
              "      <td>SKETCH - DRAW &amp; PAINT</td>\n",
              "      <td>ART_AND_DESIGN</td>\n",
              "      <td>4.5</td>\n",
              "      <td>215644</td>\n",
              "      <td>25600.000000</td>\n",
              "      <td>50000000</td>\n",
              "      <td>FREE</td>\n",
              "      <td>0.0</td>\n",
              "      <td>TEEN</td>\n",
              "      <td>ART &amp; DESIGN</td>\n",
              "      <td>2018</td>\n",
              "    </tr>\n",
              "    <tr>\n",
              "      <th>4</th>\n",
              "      <td>PIXEL DRAW - NUMBER ART COLORING BOOK</td>\n",
              "      <td>ART_AND_DESIGN</td>\n",
              "      <td>4.3</td>\n",
              "      <td>967</td>\n",
              "      <td>2867.200000</td>\n",
              "      <td>100000</td>\n",
              "      <td>FREE</td>\n",
              "      <td>0.0</td>\n",
              "      <td>EVERYONE</td>\n",
              "      <td>ART &amp; DESIGN;CREATIVITY</td>\n",
              "      <td>2018</td>\n",
              "    </tr>\n",
              "    <tr>\n",
              "      <th>...</th>\n",
              "      <td>...</td>\n",
              "      <td>...</td>\n",
              "      <td>...</td>\n",
              "      <td>...</td>\n",
              "      <td>...</td>\n",
              "      <td>...</td>\n",
              "      <td>...</td>\n",
              "      <td>...</td>\n",
              "      <td>...</td>\n",
              "      <td>...</td>\n",
              "      <td>...</td>\n",
              "    </tr>\n",
              "    <tr>\n",
              "      <th>10826</th>\n",
              "      <td>FRIM: GET NEW FRIENDS ON LOCAL CHAT ROOMS</td>\n",
              "      <td>SOCIAL</td>\n",
              "      <td>4.0</td>\n",
              "      <td>88486</td>\n",
              "      <td>18106.031429</td>\n",
              "      <td>5000000</td>\n",
              "      <td>FREE</td>\n",
              "      <td>0.0</td>\n",
              "      <td>MATURE 17+</td>\n",
              "      <td>SOCIAL</td>\n",
              "      <td>2018</td>\n",
              "    </tr>\n",
              "    <tr>\n",
              "      <th>10827</th>\n",
              "      <td>FR AGNEL AMBARNATH</td>\n",
              "      <td>FAMILY</td>\n",
              "      <td>4.2</td>\n",
              "      <td>117</td>\n",
              "      <td>13312.000000</td>\n",
              "      <td>5000</td>\n",
              "      <td>FREE</td>\n",
              "      <td>0.0</td>\n",
              "      <td>EVERYONE</td>\n",
              "      <td>EDUCATION</td>\n",
              "      <td>2018</td>\n",
              "    </tr>\n",
              "    <tr>\n",
              "      <th>10828</th>\n",
              "      <td>MANGA-FR - ANIME VOSTFR</td>\n",
              "      <td>COMICS</td>\n",
              "      <td>3.4</td>\n",
              "      <td>291</td>\n",
              "      <td>13312.000000</td>\n",
              "      <td>10000</td>\n",
              "      <td>FREE</td>\n",
              "      <td>0.0</td>\n",
              "      <td>EVERYONE</td>\n",
              "      <td>COMICS</td>\n",
              "      <td>2017</td>\n",
              "    </tr>\n",
              "    <tr>\n",
              "      <th>10829</th>\n",
              "      <td>BULGARIAN FRENCH DICTIONARY FR</td>\n",
              "      <td>BOOKS_AND_REFERENCE</td>\n",
              "      <td>4.6</td>\n",
              "      <td>603</td>\n",
              "      <td>7577.600000</td>\n",
              "      <td>10000</td>\n",
              "      <td>FREE</td>\n",
              "      <td>0.0</td>\n",
              "      <td>EVERYONE</td>\n",
              "      <td>BOOKS &amp; REFERENCE</td>\n",
              "      <td>2016</td>\n",
              "    </tr>\n",
              "    <tr>\n",
              "      <th>10830</th>\n",
              "      <td>NEWS MINECRAFT.FR</td>\n",
              "      <td>NEWS_AND_MAGAZINES</td>\n",
              "      <td>3.8</td>\n",
              "      <td>881</td>\n",
              "      <td>2355.200000</td>\n",
              "      <td>100000</td>\n",
              "      <td>FREE</td>\n",
              "      <td>0.0</td>\n",
              "      <td>EVERYONE</td>\n",
              "      <td>NEWS &amp; MAGAZINES</td>\n",
              "      <td>2014</td>\n",
              "    </tr>\n",
              "  </tbody>\n",
              "</table>\n",
              "<p>10829 rows × 11 columns</p>\n",
              "</div>\n",
              "      <button class=\"colab-df-convert\" onclick=\"convertToInteractive('df-d36beb90-997a-4fa4-a86a-6263b07a3186')\"\n",
              "              title=\"Convert this dataframe to an interactive table.\"\n",
              "              style=\"display:none;\">\n",
              "        \n",
              "  <svg xmlns=\"http://www.w3.org/2000/svg\" height=\"24px\"viewBox=\"0 0 24 24\"\n",
              "       width=\"24px\">\n",
              "    <path d=\"M0 0h24v24H0V0z\" fill=\"none\"/>\n",
              "    <path d=\"M18.56 5.44l.94 2.06.94-2.06 2.06-.94-2.06-.94-.94-2.06-.94 2.06-2.06.94zm-11 1L8.5 8.5l.94-2.06 2.06-.94-2.06-.94L8.5 2.5l-.94 2.06-2.06.94zm10 10l.94 2.06.94-2.06 2.06-.94-2.06-.94-.94-2.06-.94 2.06-2.06.94z\"/><path d=\"M17.41 7.96l-1.37-1.37c-.4-.4-.92-.59-1.43-.59-.52 0-1.04.2-1.43.59L10.3 9.45l-7.72 7.72c-.78.78-.78 2.05 0 2.83L4 21.41c.39.39.9.59 1.41.59.51 0 1.02-.2 1.41-.59l7.78-7.78 2.81-2.81c.8-.78.8-2.07 0-2.86zM5.41 20L4 18.59l7.72-7.72 1.47 1.35L5.41 20z\"/>\n",
              "  </svg>\n",
              "      </button>\n",
              "      \n",
              "  <style>\n",
              "    .colab-df-container {\n",
              "      display:flex;\n",
              "      flex-wrap:wrap;\n",
              "      gap: 12px;\n",
              "    }\n",
              "\n",
              "    .colab-df-convert {\n",
              "      background-color: #E8F0FE;\n",
              "      border: none;\n",
              "      border-radius: 50%;\n",
              "      cursor: pointer;\n",
              "      display: none;\n",
              "      fill: #1967D2;\n",
              "      height: 32px;\n",
              "      padding: 0 0 0 0;\n",
              "      width: 32px;\n",
              "    }\n",
              "\n",
              "    .colab-df-convert:hover {\n",
              "      background-color: #E2EBFA;\n",
              "      box-shadow: 0px 1px 2px rgba(60, 64, 67, 0.3), 0px 1px 3px 1px rgba(60, 64, 67, 0.15);\n",
              "      fill: #174EA6;\n",
              "    }\n",
              "\n",
              "    [theme=dark] .colab-df-convert {\n",
              "      background-color: #3B4455;\n",
              "      fill: #D2E3FC;\n",
              "    }\n",
              "\n",
              "    [theme=dark] .colab-df-convert:hover {\n",
              "      background-color: #434B5C;\n",
              "      box-shadow: 0px 1px 3px 1px rgba(0, 0, 0, 0.15);\n",
              "      filter: drop-shadow(0px 1px 2px rgba(0, 0, 0, 0.3));\n",
              "      fill: #FFFFFF;\n",
              "    }\n",
              "  </style>\n",
              "\n",
              "      <script>\n",
              "        const buttonEl =\n",
              "          document.querySelector('#df-d36beb90-997a-4fa4-a86a-6263b07a3186 button.colab-df-convert');\n",
              "        buttonEl.style.display =\n",
              "          google.colab.kernel.accessAllowed ? 'block' : 'none';\n",
              "\n",
              "        async function convertToInteractive(key) {\n",
              "          const element = document.querySelector('#df-d36beb90-997a-4fa4-a86a-6263b07a3186');\n",
              "          const dataTable =\n",
              "            await google.colab.kernel.invokeFunction('convertToInteractive',\n",
              "                                                     [key], {});\n",
              "          if (!dataTable) return;\n",
              "\n",
              "          const docLinkHtml = 'Like what you see? Visit the ' +\n",
              "            '<a target=\"_blank\" href=https://colab.research.google.com/notebooks/data_table.ipynb>data table notebook</a>'\n",
              "            + ' to learn more about interactive tables.';\n",
              "          element.innerHTML = '';\n",
              "          dataTable['output_type'] = 'display_data';\n",
              "          await google.colab.output.renderOutput(dataTable, element);\n",
              "          const docLink = document.createElement('div');\n",
              "          docLink.innerHTML = docLinkHtml;\n",
              "          element.appendChild(docLink);\n",
              "        }\n",
              "      </script>\n",
              "    </div>\n",
              "  </div>\n",
              "  "
            ]
          },
          "metadata": {},
          "execution_count": 51
        }
      ]
    },
    {
      "cell_type": "markdown",
      "source": [
        "3.**EDA PHASE**\n",
        "\n",
        "Now that our data is clean and standardized, lets find some insights. The main categories that i'm trying to find more information about are installs,rating, and category. Meaning that I am trying to see if there are correlations in the data that could lead to insights and how people could maximize the amount of installs they get as well as increase rating."
      ],
      "metadata": {
        "id": "buUo5AgAAPtz"
      }
    },
    {
      "cell_type": "markdown",
      "source": [
        "Now we have to check :\n",
        "\n",
        "How many of each category do we have?"
      ],
      "metadata": {
        "id": "c5HESk-yAZiq"
      }
    },
    {
      "cell_type": "code",
      "source": [
        "plt.figure(figsize=(20, 5))\n",
        "fig = sns.histplot(x=df['category'], color='Yellow')\n",
        "plt.xticks(rotation=80);"
      ],
      "metadata": {
        "colab": {
          "base_uri": "https://localhost:8080/",
          "height": 450
        },
        "id": "V96ySohMAFTm",
        "outputId": "8e83faa2-adba-4992-9d10-0f170c93104a"
      },
      "execution_count": 57,
      "outputs": [
        {
          "output_type": "display_data",
          "data": {
            "text/plain": [
              "<Figure size 1440x360 with 1 Axes>"
            ],
            "image/png": "[encoded data removed]"
          },
          "metadata": {
            "needs_background": "light"
          }
        }
      ]
    },
    {
      "cell_type": "markdown",
      "source": [
        "Now clarifying :\n",
        "\n",
        "What is the distrubution of ratings?"
      ],
      "metadata": {
        "id": "DIEnmX3eBObw"
      }
    },
    {
      "cell_type": "code",
      "source": [
        "sns.histplot(data=df['rating'])\n",
        "plt.title('Histogram of Ratings')"
      ],
      "metadata": {
        "colab": {
          "base_uri": "https://localhost:8080/",
          "height": 312
        },
        "id": "jO8tVil6AtYL",
        "outputId": "833cb3d0-4293-4e17-c0cf-d773e52045f2"
      },
      "execution_count": 58,
      "outputs": [
        {
          "output_type": "execute_result",
          "data": {
            "text/plain": [
              "Text(0.5, 1.0, 'Histogram of Ratings')"
            ]
          },
          "metadata": {},
          "execution_count": 58
        },
        {
          "output_type": "display_data",
          "data": {
            "text/plain": [
              "<Figure size 432x288 with 1 Axes>"
            ],
            "image/png": "[encoded data removed]"
          },
          "metadata": {
            "needs_background": "light"
          }
        }
      ]
    },
    {
      "cell_type": "markdown",
      "source": [
        "NOW we have check :\n",
        "\n",
        "Which categories had the most installations?"
      ],
      "metadata": {
        "id": "ANyNA5_sBqfq"
      }
    },
    {
      "cell_type": "code",
      "source": [],
      "metadata": {
        "id": "feId4UcNBgBy"
      },
      "execution_count": null,
      "outputs": []
    }
  ]
}